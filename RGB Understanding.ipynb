{
 "cells": [
  {
   "cell_type": "markdown",
   "id": "43e6e7ec",
   "metadata": {},
   "source": [
    "# Basics"
   ]
  },
  {
   "cell_type": "code",
   "execution_count": 1,
   "id": "ced8e228",
   "metadata": {
    "ExecuteTime": {
     "end_time": "2022-05-04T21:27:50.707043Z",
     "start_time": "2022-05-04T21:27:50.377251Z"
    }
   },
   "outputs": [],
   "source": [
    "import matplotlib.pyplot as plt\n",
    "import numpy as np"
   ]
  },
  {
   "cell_type": "markdown",
   "id": "ed88a952",
   "metadata": {},
   "source": [
    "Lets start with grayscale"
   ]
  },
  {
   "cell_type": "markdown",
   "id": "955ebc1d",
   "metadata": {
    "ExecuteTime": {
     "end_time": "2022-05-04T21:27:39.007093Z",
     "start_time": "2022-05-04T21:27:38.992089Z"
    }
   },
   "source": [
    "This plots two pixels"
   ]
  },
  {
   "cell_type": "code",
   "execution_count": 2,
   "id": "e8bc28e9",
   "metadata": {
    "ExecuteTime": {
     "end_time": "2022-05-04T21:27:50.863078Z",
     "start_time": "2022-05-04T21:27:50.708044Z"
    },
    "scrolled": true
   },
   "outputs": [
    {
     "data": {
      "text/plain": [
       "<matplotlib.image.AxesImage at 0x27098199490>"
      ]
     },
     "execution_count": 2,
     "metadata": {},
     "output_type": "execute_result"
    },
    {
     "data": {
      "image/png": "[encoded data removed]",
      "text/plain": [
       "<Figure size 432x288 with 1 Axes>"
      ]
     },
     "metadata": {
      "needs_background": "light"
     },
     "output_type": "display_data"
    }
   ],
   "source": [
    "# plt image show is a method that plots an image by looking at a 2-D matrix\n",
    "# lowest value in list is white, highest being black\n",
    "plt.imshow([[0,1]], cmap='Greys')"
   ]
  },
  {
   "cell_type": "code",
   "execution_count": 3,
   "id": "992bf195",
   "metadata": {
    "ExecuteTime": {
     "end_time": "2022-05-04T21:27:50.987106Z",
     "start_time": "2022-05-04T21:27:50.865079Z"
    },
    "scrolled": true
   },
   "outputs": [
    {
     "data": {
      "text/plain": [
       "<matplotlib.image.AxesImage at 0x2709828d520>"
      ]
     },
     "execution_count": 3,
     "metadata": {},
     "output_type": "execute_result"
    },
    {
     "data": {
      "image/png": "[encoded data removed]",
      "text/plain": [
       "<Figure size 432x288 with 1 Axes>"
      ]
     },
     "metadata": {
      "needs_background": "light"
     },
     "output_type": "display_data"
    }
   ],
   "source": [
    "# Note 0 does not mean white. it was just the lowest value. So for example\n",
    "plt.imshow([[-1,0]], cmap='Greys')"
   ]
  },
  {
   "cell_type": "markdown",
   "id": "318cf3af",
   "metadata": {},
   "source": [
    "So what about 3 values?"
   ]
  },
  {
   "cell_type": "code",
   "execution_count": 4,
   "id": "3b7e89fb",
   "metadata": {
    "ExecuteTime": {
     "end_time": "2022-05-04T21:27:51.097131Z",
     "start_time": "2022-05-04T21:27:50.988106Z"
    },
    "scrolled": true
   },
   "outputs": [
    {
     "data": {
      "text/plain": [
       "<matplotlib.image.AxesImage at 0x270982eb970>"
      ]
     },
     "execution_count": 4,
     "metadata": {},
     "output_type": "execute_result"
    },
    {
     "data": {
      "image/png": "[encoded data removed]",
      "text/plain": [
       "<Figure size 432x288 with 1 Axes>"
      ]
     },
     "metadata": {
      "needs_background": "light"
     },
     "output_type": "display_data"
    }
   ],
   "source": [
    "plt.imshow([[-1,0,1]], cmap='Greys')"
   ]
  },
  {
   "cell_type": "markdown",
   "id": "1cb1ebc9",
   "metadata": {},
   "source": [
    "Do you have to use greys?"
   ]
  },
  {
   "cell_type": "code",
   "execution_count": 5,
   "id": "010a1205",
   "metadata": {
    "ExecuteTime": {
     "end_time": "2022-05-04T21:27:51.208156Z",
     "start_time": "2022-05-04T21:27:51.099131Z"
    },
    "scrolled": false
   },
   "outputs": [
    {
     "data": {
      "text/plain": [
       "<matplotlib.image.AxesImage at 0x27098344910>"
      ]
     },
     "execution_count": 5,
     "metadata": {},
     "output_type": "execute_result"
    },
    {
     "data": {
      "image/png": "[encoded data removed]",
      "text/plain": [
       "<Figure size 432x288 with 1 Axes>"
      ]
     },
     "metadata": {
      "needs_background": "light"
     },
     "output_type": "display_data"
    }
   ],
   "source": [
    "plt.imshow([[-1,0,1]], cmap='Blues')"
   ]
  },
  {
   "cell_type": "code",
   "execution_count": 37,
   "id": "6eb13a56",
   "metadata": {
    "ExecuteTime": {
     "end_time": "2022-05-04T21:28:33.133729Z",
     "start_time": "2022-05-04T21:28:33.031706Z"
    }
   },
   "outputs": [
    {
     "data": {
      "text/plain": [
       "<matplotlib.image.AxesImage at 0x270988f7760>"
      ]
     },
     "execution_count": 37,
     "metadata": {},
     "output_type": "execute_result"
    },
    {
     "data": {
      "image/png": "[encoded data removed]",
      "text/plain": [
       "<Figure size 432x288 with 1 Axes>"
      ]
     },
     "metadata": {
      "needs_background": "light"
     },
     "output_type": "display_data"
    }
   ],
   "source": [
    "#Default color pallete. Python uses as distinct a color pallette\n",
    "plt.imshow([[-1,0,1]])"
   ]
  },
  {
   "cell_type": "markdown",
   "id": "2f88882d",
   "metadata": {},
   "source": [
    "Its standard convention for single channel images to show in grey, but any color map can be used. Think about it, if we were to break images down on color spectrum we think of color/b&w pictures as a basic grouping.\n",
    "\n",
    "Depending upon the 'bitdepth', the more range of values in the data, and as you can imagine, more shades appear."
   ]
  },
  {
   "cell_type": "code",
   "execution_count": 38,
   "id": "796b64fa",
   "metadata": {
    "ExecuteTime": {
     "end_time": "2022-05-04T21:30:41.642417Z",
     "start_time": "2022-05-04T21:30:41.527391Z"
    },
    "scrolled": false
   },
   "outputs": [
    {
     "data": {
      "text/plain": [
       "<matplotlib.image.AxesImage at 0x2709894b9a0>"
      ]
     },
     "execution_count": 38,
     "metadata": {},
     "output_type": "execute_result"
    },
    {
     "data": {
      "image/png": "[encoded data removed]",
      "text/plain": [
       "<Figure size 432x288 with 1 Axes>"
      ]
     },
     "metadata": {
      "needs_background": "light"
     },
     "output_type": "display_data"
    }
   ],
   "source": [
    "#1-bit\n",
    "plt.imshow([[0,1]], cmap='Greys')"
   ]
  },
  {
   "cell_type": "code",
   "execution_count": 39,
   "id": "03e07791",
   "metadata": {
    "ExecuteTime": {
     "end_time": "2022-05-04T21:30:45.791494Z",
     "start_time": "2022-05-04T21:30:45.680470Z"
    },
    "scrolled": false
   },
   "outputs": [
    {
     "data": {
      "text/plain": [
       "<matplotlib.image.AxesImage at 0x270989a5550>"
      ]
     },
     "execution_count": 39,
     "metadata": {},
     "output_type": "execute_result"
    },
    {
     "data": {
      "image/png": "[encoded data removed]",
      "text/plain": [
       "<Figure size 432x288 with 1 Axes>"
      ]
     },
     "metadata": {
      "needs_background": "light"
     },
     "output_type": "display_data"
    }
   ],
   "source": [
    "#2-bit\n",
    "plt.imshow([[0,1,2,3]], cmap='Greys')"
   ]
  },
  {
   "cell_type": "code",
   "execution_count": 96,
   "id": "1b709dcf",
   "metadata": {
    "ExecuteTime": {
     "end_time": "2022-05-04T21:53:22.902891Z",
     "start_time": "2022-05-04T21:53:22.797771Z"
    },
    "scrolled": false
   },
   "outputs": [
    {
     "data": {
      "text/plain": [
       "<matplotlib.image.AxesImage at 0x2709a46ea00>"
      ]
     },
     "execution_count": 96,
     "metadata": {},
     "output_type": "execute_result"
    },
    {
     "data": {
      "image/png": "[encoded data removed]",
      "text/plain": [
       "<Figure size 432x288 with 1 Axes>"
      ]
     },
     "metadata": {
      "needs_background": "light"
     },
     "output_type": "display_data"
    }
   ],
   "source": [
    "#3-bit\n",
    "plt.imshow([[0,1,2,3,4,5,6,7]], cmap='Greys')"
   ]
  },
  {
   "cell_type": "code",
   "execution_count": 41,
   "id": "50a60971",
   "metadata": {
    "ExecuteTime": {
     "end_time": "2022-05-04T21:30:52.922945Z",
     "start_time": "2022-05-04T21:30:52.759908Z"
    },
    "scrolled": true
   },
   "outputs": [
    {
     "data": {
      "text/plain": [
       "<matplotlib.image.AxesImage at 0x27098696850>"
      ]
     },
     "execution_count": 41,
     "metadata": {},
     "output_type": "execute_result"
    },
    {
     "data": {
      "image/png": "[encoded data removed]",
      "text/plain": [
       "<Figure size 432x288 with 1 Axes>"
      ]
     },
     "metadata": {
      "needs_background": "light"
     },
     "output_type": "display_data"
    }
   ],
   "source": [
    "#4-bit (1byte)\n",
    "plt.imshow([[0,1,2,3,4,5,6,7,8,9,10,11,12,13,14,15]], cmap='Greys')"
   ]
  },
  {
   "cell_type": "markdown",
   "id": "482b40f3",
   "metadata": {},
   "source": [
    "Everyday images are in general 8-bit, which is why you'll see values ranging from 0-255"
   ]
  },
  {
   "cell_type": "code",
   "execution_count": 42,
   "id": "00837632",
   "metadata": {
    "ExecuteTime": {
     "end_time": "2022-05-04T21:31:02.596890Z",
     "start_time": "2022-05-04T21:31:02.578886Z"
    }
   },
   "outputs": [
    {
     "data": {
      "text/plain": [
       "array([  0,   1,   2,   3,   4,   5,   6,   7,   8,   9,  10,  11,  12,\n",
       "        13,  14,  15,  16,  17,  18,  19,  20,  21,  22,  23,  24,  25,\n",
       "        26,  27,  28,  29,  30,  31,  32,  33,  34,  35,  36,  37,  38,\n",
       "        39,  40,  41,  42,  43,  44,  45,  46,  47,  48,  49,  50,  51,\n",
       "        52,  53,  54,  55,  56,  57,  58,  59,  60,  61,  62,  63,  64,\n",
       "        65,  66,  67,  68,  69,  70,  71,  72,  73,  74,  75,  76,  77,\n",
       "        78,  79,  80,  81,  82,  83,  84,  85,  86,  87,  88,  89,  90,\n",
       "        91,  92,  93,  94,  95,  96,  97,  98,  99, 100, 101, 102, 103,\n",
       "       104, 105, 106, 107, 108, 109, 110, 111, 112, 113, 114, 115, 116,\n",
       "       117, 118, 119, 120, 121, 122, 123, 124, 125, 126, 127, 128, 129,\n",
       "       130, 131, 132, 133, 134, 135, 136, 137, 138, 139, 140, 141, 142,\n",
       "       143, 144, 145, 146, 147, 148, 149, 150, 151, 152, 153, 154, 155,\n",
       "       156, 157, 158, 159, 160, 161, 162, 163, 164, 165, 166, 167, 168,\n",
       "       169, 170, 171, 172, 173, 174, 175, 176, 177, 178, 179, 180, 181,\n",
       "       182, 183, 184, 185, 186, 187, 188, 189, 190, 191, 192, 193, 194,\n",
       "       195, 196, 197, 198, 199, 200, 201, 202, 203, 204, 205, 206, 207,\n",
       "       208, 209, 210, 211, 212, 213, 214, 215, 216, 217, 218, 219, 220,\n",
       "       221, 222, 223, 224, 225, 226, 227, 228, 229, 230, 231, 232, 233,\n",
       "       234, 235, 236, 237, 238, 239, 240, 241, 242, 243, 244, 245, 246,\n",
       "       247, 248, 249, 250, 251, 252, 253, 254, 255])"
      ]
     },
     "execution_count": 42,
     "metadata": {},
     "output_type": "execute_result"
    }
   ],
   "source": [
    "bit8_array = np.arange(0,256)\n",
    "bit8_array"
   ]
  },
  {
   "cell_type": "code",
   "execution_count": 43,
   "id": "fab7609e",
   "metadata": {
    "ExecuteTime": {
     "end_time": "2022-05-04T21:31:03.983689Z",
     "start_time": "2022-05-04T21:31:03.896975Z"
    },
    "scrolled": true
   },
   "outputs": [
    {
     "data": {
      "text/plain": [
       "<matplotlib.image.AxesImage at 0x27098735fd0>"
      ]
     },
     "execution_count": 43,
     "metadata": {},
     "output_type": "execute_result"
    },
    {
     "data": {
      "image/png": "[encoded data removed]",
      "text/plain": [
       "<Figure size 432x288 with 1 Axes>"
      ]
     },
     "metadata": {
      "needs_background": "light"
     },
     "output_type": "display_data"
    }
   ],
   "source": [
    "#4-bit (1byte)\n",
    "plt.imshow([bit8_array], cmap='Greys')"
   ]
  },
  {
   "cell_type": "markdown",
   "id": "8a5573fd",
   "metadata": {},
   "source": [
    "Imshow has a hard time displaying all of it on 1-D\n",
    "\n",
    "We've been using a 1-D array so far (that we pass as a 2-D matrix). Lets split this up."
   ]
  },
  {
   "cell_type": "code",
   "execution_count": 44,
   "id": "8c5a66f7",
   "metadata": {
    "ExecuteTime": {
     "end_time": "2022-05-04T21:33:47.123130Z",
     "start_time": "2022-05-04T21:33:47.119130Z"
    }
   },
   "outputs": [
    {
     "data": {
      "text/plain": [
       "(256,)"
      ]
     },
     "execution_count": 44,
     "metadata": {},
     "output_type": "execute_result"
    }
   ],
   "source": [
    "bit8_array.shape"
   ]
  },
  {
   "cell_type": "code",
   "execution_count": 47,
   "id": "06c3db3a",
   "metadata": {
    "ExecuteTime": {
     "end_time": "2022-05-04T21:34:22.658876Z",
     "start_time": "2022-05-04T21:34:22.655875Z"
    },
    "scrolled": false
   },
   "outputs": [
    {
     "data": {
      "text/plain": [
       "array([[  0,   1,   2,   3,   4,   5,   6,   7,   8,   9,  10,  11,  12,\n",
       "         13,  14,  15],\n",
       "       [ 16,  17,  18,  19,  20,  21,  22,  23,  24,  25,  26,  27,  28,\n",
       "         29,  30,  31],\n",
       "       [ 32,  33,  34,  35,  36,  37,  38,  39,  40,  41,  42,  43,  44,\n",
       "         45,  46,  47],\n",
       "       [ 48,  49,  50,  51,  52,  53,  54,  55,  56,  57,  58,  59,  60,\n",
       "         61,  62,  63],\n",
       "       [ 64,  65,  66,  67,  68,  69,  70,  71,  72,  73,  74,  75,  76,\n",
       "         77,  78,  79],\n",
       "       [ 80,  81,  82,  83,  84,  85,  86,  87,  88,  89,  90,  91,  92,\n",
       "         93,  94,  95],\n",
       "       [ 96,  97,  98,  99, 100, 101, 102, 103, 104, 105, 106, 107, 108,\n",
       "        109, 110, 111],\n",
       "       [112, 113, 114, 115, 116, 117, 118, 119, 120, 121, 122, 123, 124,\n",
       "        125, 126, 127],\n",
       "       [128, 129, 130, 131, 132, 133, 134, 135, 136, 137, 138, 139, 140,\n",
       "        141, 142, 143],\n",
       "       [144, 145, 146, 147, 148, 149, 150, 151, 152, 153, 154, 155, 156,\n",
       "        157, 158, 159],\n",
       "       [160, 161, 162, 163, 164, 165, 166, 167, 168, 169, 170, 171, 172,\n",
       "        173, 174, 175],\n",
       "       [176, 177, 178, 179, 180, 181, 182, 183, 184, 185, 186, 187, 188,\n",
       "        189, 190, 191],\n",
       "       [192, 193, 194, 195, 196, 197, 198, 199, 200, 201, 202, 203, 204,\n",
       "        205, 206, 207],\n",
       "       [208, 209, 210, 211, 212, 213, 214, 215, 216, 217, 218, 219, 220,\n",
       "        221, 222, 223],\n",
       "       [224, 225, 226, 227, 228, 229, 230, 231, 232, 233, 234, 235, 236,\n",
       "        237, 238, 239],\n",
       "       [240, 241, 242, 243, 244, 245, 246, 247, 248, 249, 250, 251, 252,\n",
       "        253, 254, 255]])"
      ]
     },
     "execution_count": 47,
     "metadata": {},
     "output_type": "execute_result"
    }
   ],
   "source": [
    "bit8_greyimage = bit8_array.reshape(16,16)\n",
    "bit8_greyimage"
   ]
  },
  {
   "cell_type": "markdown",
   "id": "f5c2b30c",
   "metadata": {},
   "source": [
    "Note that this is already a 2-D matrix. "
   ]
  },
  {
   "cell_type": "code",
   "execution_count": 48,
   "id": "8e53f852",
   "metadata": {
    "ExecuteTime": {
     "end_time": "2022-05-04T21:34:26.960858Z",
     "start_time": "2022-05-04T21:34:26.838830Z"
    },
    "scrolled": false
   },
   "outputs": [
    {
     "name": "stdout",
     "output_type": "stream",
     "text": [
      "whitest spot value: 0\n",
      "blackest spot value: 255\n"
     ]
    },
    {
     "data": {
      "image/png": "[encoded data removed]",
      "text/plain": [
       "<Figure size 432x288 with 1 Axes>"
      ]
     },
     "metadata": {
      "needs_background": "light"
     },
     "output_type": "display_data"
    }
   ],
   "source": [
    "#4-bit (1byte)\n",
    "plt.imshow(bit8_greyimage, cmap='Greys')\n",
    "print('whitest spot value:',bit8_greyimage[0,0])\n",
    "print('blackest spot value:',bit8_greyimage[15,15])"
   ]
  },
  {
   "cell_type": "markdown",
   "id": "cfe90b74",
   "metadata": {},
   "source": [
    "Having just 1 'channel' of image information is like having just 2-D data information, like in the examples above\n"
   ]
  },
  {
   "cell_type": "markdown",
   "id": "3cc54da2",
   "metadata": {},
   "source": [
    "However, in RGB, you have 3 channels of information. So imagine a 3-D tensor. Yeah, 3-D information for a 2-D image.\n",
    "Each channel will contain information for each color, pixel by pixel.\n",
    "\n",
    "\n",
    "\n",
    "So for a _8-bit_ RGB image\n",
    "\n",
    "__R channel__: an array of values 0-255 just showing red values\n",
    "\n",
    "__G channel__: an array of values 0-255 just showing green values\n",
    "\n",
    "__B channel__: an array of values 0-255 just showing blue values"
   ]
  },
  {
   "cell_type": "markdown",
   "id": "4b55333f",
   "metadata": {},
   "source": [
    "### NOTE: \n",
    "Even though imshow has so far been using \n",
    "\n",
    "lowest_value:white\n",
    "\n",
    "highest_value:black\n",
    "\n",
    "\n",
    "\n",
    "__Standard convention for RGB images__\n",
    "\n",
    "0:black\n",
    "\n",
    "255: maximum color (channel respective. eg: R channel, 255 max red)\n",
    "\n",
    "\n",
    "\n",
    "__Therefore, for RGB images__\n",
    "\n",
    "black pixel is [0,0,0]\n",
    "\n",
    "white pixel is [255,255,255]\n",
    "\n",
    "red pixel is [255,0,0]\n",
    "\n",
    "green pixel is [0,255,0]\n",
    "\n",
    "blue pixel is [0,0,255]\n",
    "\n",
    "mid gray is [125,125,125]\n"
   ]
  },
  {
   "cell_type": "markdown",
   "id": "702ba23a",
   "metadata": {},
   "source": [
    "General convention of image dimensions when being used in imshow (and just about anywhere else), the first 2 are width x height (Think 1920x1080)\n",
    "3rd implies channels.\n",
    "\n",
    "Lets startsimple.\\\n",
    "Lets create a 4bit RGB image"
   ]
  },
  {
   "cell_type": "code",
   "execution_count": 67,
   "id": "318b3deb",
   "metadata": {
    "ExecuteTime": {
     "end_time": "2022-05-04T21:46:06.161220Z",
     "start_time": "2022-05-04T21:46:06.158219Z"
    }
   },
   "outputs": [
    {
     "data": {
      "text/plain": [
       "(16, 16, 3)"
      ]
     },
     "execution_count": 67,
     "metadata": {},
     "output_type": "execute_result"
    }
   ],
   "source": [
    "bit4_channel = np.arange(0,256)\n",
    "RGB = np.hstack([[bit4_channel,bit4_channel,bit4_channel]]).reshape(16,16,3)\n",
    "RGB.shape"
   ]
  },
  {
   "cell_type": "markdown",
   "id": "408081cc",
   "metadata": {},
   "source": [
    "So this is a 16x16 image with 3 channels. "
   ]
  },
  {
   "cell_type": "code",
   "execution_count": 69,
   "id": "93314963",
   "metadata": {
    "ExecuteTime": {
     "end_time": "2022-05-04T21:46:51.066658Z",
     "start_time": "2022-05-04T21:46:50.950633Z"
    },
    "scrolled": false
   },
   "outputs": [
    {
     "data": {
      "text/plain": [
       "<matplotlib.image.AxesImage at 0x2709a024310>"
      ]
     },
     "execution_count": 69,
     "metadata": {},
     "output_type": "execute_result"
    },
    {
     "data": {
      "image/png": "[encoded data removed]",
      "text/plain": [
       "<Figure size 432x288 with 1 Axes>"
      ]
     },
     "metadata": {
      "needs_background": "light"
     },
     "output_type": "display_data"
    }
   ],
   "source": [
    "plt.imshow(RGB)"
   ]
  },
  {
   "cell_type": "markdown",
   "id": "708ef8a0",
   "metadata": {},
   "source": [
    "Ok... whats going on? Lets look at 0,0. Top left black spot"
   ]
  },
  {
   "cell_type": "code",
   "execution_count": 18,
   "id": "2ba753d0",
   "metadata": {
    "ExecuteTime": {
     "end_time": "2022-05-04T21:27:52.208140Z",
     "start_time": "2022-05-04T21:27:52.193135Z"
    }
   },
   "outputs": [
    {
     "data": {
      "text/plain": [
       "array([0, 1, 2])"
      ]
     },
     "execution_count": 18,
     "metadata": {},
     "output_type": "execute_result"
    }
   ],
   "source": [
    "RGB[0,0]"
   ]
  },
  {
   "cell_type": "markdown",
   "id": "b6d8b2de",
   "metadata": {},
   "source": [
    "R value: 0 (pure black)\\\n",
    "G value: 1 (almost pure black)\\\n",
    "B value: 2 (slightly less pure black)\n",
    "\n",
    "Result: almost pure black"
   ]
  },
  {
   "cell_type": "markdown",
   "id": "7021c8dc",
   "metadata": {},
   "source": [
    "Lets look at 5,5. Red pixel"
   ]
  },
  {
   "cell_type": "code",
   "execution_count": 19,
   "id": "4e34fc3b",
   "metadata": {
    "ExecuteTime": {
     "end_time": "2022-05-04T21:27:52.223141Z",
     "start_time": "2022-05-04T21:27:52.209138Z"
    }
   },
   "outputs": [
    {
     "data": {
      "text/plain": [
       "array([255,   0,   1])"
      ]
     },
     "execution_count": 19,
     "metadata": {},
     "output_type": "execute_result"
    }
   ],
   "source": [
    "RGB[5,5]"
   ]
  },
  {
   "cell_type": "markdown",
   "id": "ca186768",
   "metadata": {
    "ExecuteTime": {
     "end_time": "2022-05-04T17:49:36.194744Z",
     "start_time": "2022-05-04T17:49:36.184742Z"
    }
   },
   "source": [
    "Ok. Maxed out R channel and almost zero on G and B channel\n",
    "\n",
    "How about the yellow pixel"
   ]
  },
  {
   "cell_type": "code",
   "execution_count": 20,
   "id": "35cf2746",
   "metadata": {
    "ExecuteTime": {
     "end_time": "2022-05-04T21:27:52.239145Z",
     "start_time": "2022-05-04T21:27:52.224141Z"
    }
   },
   "outputs": [
    {
     "data": {
      "text/plain": [
       "array([254, 255,   0])"
      ]
     },
     "execution_count": 20,
     "metadata": {},
     "output_type": "execute_result"
    }
   ],
   "source": [
    "RGB[10,10]"
   ]
  },
  {
   "cell_type": "markdown",
   "id": "fe8be8d4",
   "metadata": {
    "ExecuteTime": {
     "end_time": "2022-05-04T17:50:32.531540Z",
     "start_time": "2022-05-04T17:50:32.520537Z"
    }
   },
   "source": [
    "Ok... so the way we joined the 3 arrays was not quite what we wanted.\n",
    "\n",
    "So lets try a different array\n",
    "\n",
    "Instead of hstack we'll use dstack. hstack is horizontal stacking, vstack is vertical stacking, dstack is depth stacking."
   ]
  },
  {
   "cell_type": "code",
   "execution_count": 72,
   "id": "0306998a",
   "metadata": {
    "ExecuteTime": {
     "end_time": "2022-05-04T21:48:49.600314Z",
     "start_time": "2022-05-04T21:48:49.589311Z"
    }
   },
   "outputs": [
    {
     "data": {
      "text/plain": [
       "(16, 16, 3)"
      ]
     },
     "execution_count": 72,
     "metadata": {},
     "output_type": "execute_result"
    }
   ],
   "source": [
    "bit4_channel = np.arange(0,256).reshape(16,16)\n",
    "RGB = np.dstack([bit4_channel,bit4_channel,bit4_channel])\n",
    "RGB.shape"
   ]
  },
  {
   "cell_type": "code",
   "execution_count": 73,
   "id": "88b1f6e1",
   "metadata": {
    "ExecuteTime": {
     "end_time": "2022-05-04T21:48:50.641308Z",
     "start_time": "2022-05-04T21:48:50.527282Z"
    },
    "scrolled": false
   },
   "outputs": [
    {
     "data": {
      "text/plain": [
       "<matplotlib.image.AxesImage at 0x2709a0e3700>"
      ]
     },
     "execution_count": 73,
     "metadata": {},
     "output_type": "execute_result"
    },
    {
     "data": {
      "image/png": "[encoded data removed]",
      "text/plain": [
       "<Figure size 432x288 with 1 Axes>"
      ]
     },
     "metadata": {
      "needs_background": "light"
     },
     "output_type": "display_data"
    }
   ],
   "source": [
    "plt.imshow(RGB)"
   ]
  },
  {
   "cell_type": "markdown",
   "id": "39f66fbd",
   "metadata": {
    "ExecuteTime": {
     "end_time": "2022-05-04T18:31:56.346280Z",
     "start_time": "2022-05-04T18:31:56.333284Z"
    }
   },
   "source": [
    "Hmmm... wait this makes sense"
   ]
  },
  {
   "cell_type": "code",
   "execution_count": 74,
   "id": "5c1c254a",
   "metadata": {
    "ExecuteTime": {
     "end_time": "2022-05-04T21:48:56.069285Z",
     "start_time": "2022-05-04T21:48:56.063283Z"
    },
    "scrolled": true
   },
   "outputs": [
    {
     "name": "stdout",
     "output_type": "stream",
     "text": [
      "TopLeft:    [0 0 0]\t  = Pure Black\n",
      "TopRight:   [240 240 240]\n",
      "Center:[127 127 127] = Mid Grey\n",
      "BottomLeft: [15 15 15]\n",
      "BottomRight:[255 255 255] = Pure White\n"
     ]
    }
   ],
   "source": [
    "print(f'TopLeft:    {RGB[0,0]}\\t  = Pure Black')\n",
    "print(f'TopRight:   {RGB[15,0]}')\n",
    "print(f'Center:{RGB[7,15]} = Mid Grey')\n",
    "print(f'BottomLeft: {RGB[0,15]}')\n",
    "print(f'BottomRight:{RGB[15,15]} = Pure White')"
   ]
  },
  {
   "cell_type": "markdown",
   "id": "8a02c1a5",
   "metadata": {},
   "source": [
    "Lets randomize each channel"
   ]
  },
  {
   "cell_type": "code",
   "execution_count": 75,
   "id": "82f9de92",
   "metadata": {
    "ExecuteTime": {
     "end_time": "2022-05-04T21:49:00.210344Z",
     "start_time": "2022-05-04T21:49:00.205344Z"
    }
   },
   "outputs": [],
   "source": [
    "random_RGB = np.random.randint(low=0,high=255,size=(16,16,3))"
   ]
  },
  {
   "cell_type": "code",
   "execution_count": 76,
   "id": "f071ffdf",
   "metadata": {
    "ExecuteTime": {
     "end_time": "2022-05-04T21:49:00.539467Z",
     "start_time": "2022-05-04T21:49:00.414440Z"
    },
    "scrolled": false
   },
   "outputs": [
    {
     "data": {
      "text/plain": [
       "<matplotlib.image.AxesImage at 0x2709a14a100>"
      ]
     },
     "execution_count": 76,
     "metadata": {},
     "output_type": "execute_result"
    },
    {
     "data": {
      "image/png": "[encoded data removed]",
      "text/plain": [
       "<Figure size 432x288 with 1 Axes>"
      ]
     },
     "metadata": {
      "needs_background": "light"
     },
     "output_type": "display_data"
    }
   ],
   "source": [
    "plt.imshow(random_RGB)"
   ]
  },
  {
   "cell_type": "markdown",
   "id": "befc2de6",
   "metadata": {},
   "source": [
    "Ok... not as pretty as I was hoping"
   ]
  },
  {
   "cell_type": "code",
   "execution_count": 77,
   "id": "c2bceafe",
   "metadata": {
    "ExecuteTime": {
     "end_time": "2022-05-04T21:49:03.528849Z",
     "start_time": "2022-05-04T21:49:03.518847Z"
    }
   },
   "outputs": [
    {
     "data": {
      "text/plain": [
       "(16, 16, 3)"
      ]
     },
     "execution_count": 77,
     "metadata": {},
     "output_type": "execute_result"
    }
   ],
   "source": [
    "random_RGB.shape"
   ]
  },
  {
   "cell_type": "code",
   "execution_count": 89,
   "id": "c17e43f4",
   "metadata": {
    "ExecuteTime": {
     "end_time": "2022-05-04T21:50:59.700514Z",
     "start_time": "2022-05-04T21:50:59.693512Z"
    },
    "scrolled": true
   },
   "outputs": [],
   "source": [
    "bit4_channel_R = np.arange(0,256,1).reshape(16,16)\n",
    "bit4_channel_G = np.hstack([np.arange(0,256,1),np.arange(255,-1,-1)])[::2].reshape(16,16)\n",
    "\n",
    "bit4_channel_B = np.hstack([np.arange(0,256,1),\n",
    "                            np.arange(255,-1,-1),\n",
    "                           np.arange(0,256,1)])[::3].reshape(16,16)"
   ]
  },
  {
   "cell_type": "code",
   "execution_count": 90,
   "id": "95d36920",
   "metadata": {
    "ExecuteTime": {
     "end_time": "2022-05-04T21:51:00.058187Z",
     "start_time": "2022-05-04T21:51:00.050185Z"
    }
   },
   "outputs": [
    {
     "data": {
      "text/plain": [
       "((16, 16), (16, 16), (16, 16))"
      ]
     },
     "execution_count": 90,
     "metadata": {},
     "output_type": "execute_result"
    }
   ],
   "source": [
    "bit4_channel_R.shape, bit4_channel_G.shape, bit4_channel_B.shape"
   ]
  },
  {
   "cell_type": "code",
   "execution_count": 91,
   "id": "8bcbe079",
   "metadata": {
    "ExecuteTime": {
     "end_time": "2022-05-04T21:51:00.600438Z",
     "start_time": "2022-05-04T21:51:00.477410Z"
    }
   },
   "outputs": [
    {
     "data": {
      "text/plain": [
       "<matplotlib.image.AxesImage at 0x27099c6a0d0>"
      ]
     },
     "execution_count": 91,
     "metadata": {},
     "output_type": "execute_result"
    },
    {
     "data": {
      "image/png": "[encoded data removed]",
      "text/plain": [
       "<Figure size 432x288 with 1 Axes>"
      ]
     },
     "metadata": {
      "needs_background": "light"
     },
     "output_type": "display_data"
    }
   ],
   "source": [
    " plt.imshow(bit4_channel_R,'Reds',)"
   ]
  },
  {
   "cell_type": "code",
   "execution_count": 92,
   "id": "f44582a1",
   "metadata": {
    "ExecuteTime": {
     "end_time": "2022-05-04T21:51:00.943666Z",
     "start_time": "2022-05-04T21:51:00.821483Z"
    }
   },
   "outputs": [
    {
     "data": {
      "text/plain": [
       "<matplotlib.image.AxesImage at 0x2709a2dffa0>"
      ]
     },
     "execution_count": 92,
     "metadata": {},
     "output_type": "execute_result"
    },
    {
     "data": {
      "image/png": "[encoded data removed]",
      "text/plain": [
       "<Figure size 432x288 with 1 Axes>"
      ]
     },
     "metadata": {
      "needs_background": "light"
     },
     "output_type": "display_data"
    }
   ],
   "source": [
    " plt.imshow(bit4_channel_G,'Greens',)"
   ]
  },
  {
   "cell_type": "code",
   "execution_count": 93,
   "id": "46973594",
   "metadata": {
    "ExecuteTime": {
     "end_time": "2022-05-04T21:51:01.298364Z",
     "start_time": "2022-05-04T21:51:01.181805Z"
    },
    "scrolled": true
   },
   "outputs": [
    {
     "data": {
      "text/plain": [
       "<matplotlib.image.AxesImage at 0x2709a3b1340>"
      ]
     },
     "execution_count": 93,
     "metadata": {},
     "output_type": "execute_result"
    },
    {
     "data": {
      "image/png": "[encoded data removed]",
      "text/plain": [
       "<Figure size 432x288 with 1 Axes>"
      ]
     },
     "metadata": {
      "needs_background": "light"
     },
     "output_type": "display_data"
    }
   ],
   "source": [
    " plt.imshow(bit4_channel_B,'Blues',)"
   ]
  },
  {
   "cell_type": "code",
   "execution_count": 94,
   "id": "6e4b44be",
   "metadata": {
    "ExecuteTime": {
     "end_time": "2022-05-04T21:51:03.688173Z",
     "start_time": "2022-05-04T21:51:03.677170Z"
    },
    "scrolled": true
   },
   "outputs": [
    {
     "data": {
      "text/plain": [
       "(16, 16, 3)"
      ]
     },
     "execution_count": 94,
     "metadata": {},
     "output_type": "execute_result"
    }
   ],
   "source": [
    "RGB_new = np.dstack([bit4_channel_R,\n",
    "                  bit4_channel_G,\n",
    "                  bit4_channel_B])\n",
    "RGB_new.shape"
   ]
  },
  {
   "cell_type": "code",
   "execution_count": 95,
   "id": "b6396bd8",
   "metadata": {
    "ExecuteTime": {
     "end_time": "2022-05-04T21:51:04.001531Z",
     "start_time": "2022-05-04T21:51:03.887506Z"
    },
    "scrolled": true
   },
   "outputs": [
    {
     "data": {
      "text/plain": [
       "<matplotlib.image.AxesImage at 0x2709a40cd30>"
      ]
     },
     "execution_count": 95,
     "metadata": {},
     "output_type": "execute_result"
    },
    {
     "data": {
      "image/png": "[encoded data removed]",
      "text/plain": [
       "<Figure size 432x288 with 1 Axes>"
      ]
     },
     "metadata": {
      "needs_background": "light"
     },
     "output_type": "display_data"
    }
   ],
   "source": [
    " plt.imshow(RGB_new)"
   ]
  },
  {
   "cell_type": "markdown",
   "id": "32fbc7ae",
   "metadata": {},
   "source": [
    "Pretty. Lets look at a few points"
   ]
  },
  {
   "cell_type": "code",
   "execution_count": 85,
   "id": "60b7c52d",
   "metadata": {
    "ExecuteTime": {
     "end_time": "2022-05-04T21:49:34.726905Z",
     "start_time": "2022-05-04T21:49:34.717904Z"
    }
   },
   "outputs": [
    {
     "name": "stdout",
     "output_type": "stream",
     "text": [
      "TopLeft: [0 0 0]\n",
      "TopRight: [240  31 208]\n",
      "BottomLeft: [15 30 45]\n",
      "BottomRight: [255   1 253]\n"
     ]
    }
   ],
   "source": [
    "print(f'TopLeft: {RGB_new[0,0]}')\n",
    "print(f'TopRight: {RGB_new[15,0]}')\n",
    "print(f'BottomLeft: {RGB_new[0,15]}')\n",
    "print(f'BottomRight: {RGB_new[15,15]}')"
   ]
  },
  {
   "cell_type": "markdown",
   "id": "a03aa088",
   "metadata": {},
   "source": [
    "Cool. Lets plot this as a gradient. Lets look at the tile method. All it does it can stack multiple copies of the same array."
   ]
  },
  {
   "cell_type": "code",
   "execution_count": 106,
   "id": "d3008f7b",
   "metadata": {
    "ExecuteTime": {
     "end_time": "2022-05-04T21:59:10.079032Z",
     "start_time": "2022-05-04T21:59:10.061029Z"
    }
   },
   "outputs": [
    {
     "data": {
      "text/plain": [
       "array([0, 1, 2, 3, 4, 5, 6, 7])"
      ]
     },
     "execution_count": 106,
     "metadata": {},
     "output_type": "execute_result"
    }
   ],
   "source": [
    "# Lets look a the tile method\n",
    "bit3_1D = np.arange(0,8)\n",
    "bit3_1D"
   ]
  },
  {
   "cell_type": "code",
   "execution_count": 113,
   "id": "c2d80ffd",
   "metadata": {
    "ExecuteTime": {
     "end_time": "2022-05-04T22:01:07.728152Z",
     "start_time": "2022-05-04T22:01:07.724151Z"
    }
   },
   "outputs": [
    {
     "data": {
      "text/plain": [
       "array([[0, 1, 2, 3, 4, 5, 6, 7],\n",
       "       [0, 1, 2, 3, 4, 5, 6, 7],\n",
       "       [0, 1, 2, 3, 4, 5, 6, 7]])"
      ]
     },
     "execution_count": 113,
     "metadata": {},
     "output_type": "execute_result"
    }
   ],
   "source": [
    "bit3_1D_tiled = np.tile(bit3_1D,(3,1))\n",
    "bit3_1D_tiled"
   ]
  },
  {
   "cell_type": "code",
   "execution_count": 112,
   "id": "39e77273",
   "metadata": {
    "ExecuteTime": {
     "end_time": "2022-05-04T22:01:02.236420Z",
     "start_time": "2022-05-04T22:01:02.117401Z"
    }
   },
   "outputs": [
    {
     "data": {
      "text/plain": [
       "<matplotlib.image.AxesImage at 0x2709b5f6970>"
      ]
     },
     "execution_count": 112,
     "metadata": {},
     "output_type": "execute_result"
    },
    {
     "data": {
      "image/png": "[encoded data removed]",
      "text/plain": [
       "<Figure size 432x288 with 1 Axes>"
      ]
     },
     "metadata": {
      "needs_background": "light"
     },
     "output_type": "display_data"
    }
   ],
   "source": [
    "plt.imshow(bit3_1D_tiled, cmap='Greys')"
   ]
  },
  {
   "cell_type": "markdown",
   "id": "dbf0a7da",
   "metadata": {},
   "source": [
    "Lets replicate this for our color image from above"
   ]
  },
  {
   "cell_type": "code",
   "execution_count": 137,
   "id": "80b07228",
   "metadata": {
    "ExecuteTime": {
     "end_time": "2022-05-04T22:06:39.440485Z",
     "start_time": "2022-05-04T22:06:39.427483Z"
    }
   },
   "outputs": [],
   "source": [
    "bit4_channel_R = np.arange(0,256,1)\n",
    "bit4_channel_G = np.hstack([np.arange(0,256,1),np.arange(255,-1,-1)])[::2]\n",
    "\n",
    "bit4_channel_B = np.hstack([np.arange(0,256,1),\n",
    "                            np.arange(255,-1,-1),\n",
    "                           np.arange(0,256,1)])[::3]"
   ]
  },
  {
   "cell_type": "code",
   "execution_count": 142,
   "id": "d8e5e21b",
   "metadata": {
    "ExecuteTime": {
     "end_time": "2022-05-04T22:07:03.227218Z",
     "start_time": "2022-05-04T22:07:03.221218Z"
    }
   },
   "outputs": [],
   "source": [
    "numberOfTiles = 100\n",
    "bit4_channel_R_tiled = np.tile(bit4_channel_R,(numberOfTiles,1))\n",
    "bit4_channel_G_tiled = np.tile(bit4_channel_G,(numberOfTiles,1))\n",
    "bit4_channel_B_tiled = np.tile(bit4_channel_B,(numberOfTiles,1))"
   ]
  },
  {
   "cell_type": "code",
   "execution_count": 143,
   "id": "767782a5",
   "metadata": {
    "ExecuteTime": {
     "end_time": "2022-05-04T22:07:03.429269Z",
     "start_time": "2022-05-04T22:07:03.414267Z"
    }
   },
   "outputs": [
    {
     "data": {
      "text/plain": [
       "(100, 256, 3)"
      ]
     },
     "execution_count": 143,
     "metadata": {},
     "output_type": "execute_result"
    }
   ],
   "source": [
    "RGB_new = np.dstack([bit4_channel_R_tiled,\n",
    "                  bit4_channel_G_tiled,\n",
    "                  bit4_channel_B_tiled])\n",
    "RGB_new.shape"
   ]
  },
  {
   "cell_type": "code",
   "execution_count": 145,
   "id": "1a4190ee",
   "metadata": {
    "ExecuteTime": {
     "end_time": "2022-05-04T22:07:45.017147Z",
     "start_time": "2022-05-04T22:07:44.749104Z"
    }
   },
   "outputs": [
    {
     "data": {
      "text/plain": [
       "<matplotlib.image.AxesImage at 0x2709b8bd1f0>"
      ]
     },
     "execution_count": 145,
     "metadata": {},
     "output_type": "execute_result"
    },
    {
     "data": {
      "image/png": "[encoded data removed]",
      "text/plain": [
       "<Figure size 432x288 with 1 Axes>"
      ]
     },
     "metadata": {
      "needs_background": "light"
     },
     "output_type": "display_data"
    }
   ],
   "source": [
    " plt.imshow(RGB_new)"
   ]
  },
  {
   "cell_type": "code",
   "execution_count": null,
   "id": "d2ada1ac",
   "metadata": {},
   "outputs": [],
   "source": []
  }
 ],
 "metadata": {
  "kernelspec": {
   "display_name": "Python (learn-env)",
   "language": "python",
   "name": "learn-env"
  },
  "language_info": {
   "codemirror_mode": {
    "name": "ipython",
    "version": 3
   },
   "file_extension": ".py",
   "mimetype": "text/x-python",
   "name": "python",
   "nbconvert_exporter": "python",
   "pygments_lexer": "ipython3",
   "version": "3.8.5"
  },
  "toc": {
   "base_numbering": 1,
   "nav_menu": {},
   "number_sections": true,
   "sideBar": true,
   "skip_h1_title": false,
   "title_cell": "Table of Contents",
   "title_sidebar": "Contents",
   "toc_cell": false,
   "toc_position": {},
   "toc_section_display": true,
   "toc_window_display": false
  },
  "varInspector": {
   "cols": {
    "lenName": 16,
    "lenType": 16,
    "lenVar": 40
   },
   "kernels_config": {
    "python": {
     "delete_cmd_postfix": "",
     "delete_cmd_prefix": "del ",
     "library": "var_list.py",
     "varRefreshCmd": "print(var_dic_list())"
    },
    "r": {
     "delete_cmd_postfix": ") ",
     "delete_cmd_prefix": "rm(",
     "library": "var_list.r",
     "varRefreshCmd": "cat(var_dic_list()) "
    }
   },
   "types_to_exclude": [
    "module",
    "function",
    "builtin_function_or_method",
    "instance",
    "_Feature"
   ],
   "window_display": false
  }
 },
 "nbformat": 4,
 "nbformat_minor": 5
}
