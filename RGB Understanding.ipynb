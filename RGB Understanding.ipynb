{
 "cells": [
  {
   "cell_type": "markdown",
   "id": "ca1efc9c",
   "metadata": {},
   "source": [
    "# Imports"
   ]
  },
  {
   "cell_type": "code",
   "execution_count": 2,
   "id": "80fb7071",
   "metadata": {
    "ExecuteTime": {
     "end_time": "2022-05-05T20:55:04.684009Z",
     "start_time": "2022-05-05T20:55:03.741774Z"
    }
   },
   "outputs": [],
   "source": [
    "import matplotlib.pyplot as plt\n",
    "import numpy as np"
   ]
  },
  {
   "cell_type": "markdown",
   "id": "7ecedd2d",
   "metadata": {},
   "source": [
    "Lets start with grayscale"
   ]
  },
  {
   "cell_type": "markdown",
   "id": "003d955c",
   "metadata": {},
   "source": [
    "### Imshow basics"
   ]
  },
  {
   "cell_type": "code",
   "execution_count": 3,
   "id": "d089b4e9",
   "metadata": {
    "ExecuteTime": {
     "end_time": "2022-05-05T20:55:05.184125Z",
     "start_time": "2022-05-05T20:55:04.691033Z"
    },
    "scrolled": true
   },
   "outputs": [
    {
     "data": {
      "text/plain": [
       "<matplotlib.image.AxesImage at 0x2d11789e4c0>"
      ]
     },
     "execution_count": 3,
     "metadata": {},
     "output_type": "execute_result"
    },
    {
     "data": {
      "image/png": "[encoded data removed]",
      "text/plain": [
       "<Figure size 432x288 with 1 Axes>"
      ]
     },
     "metadata": {
      "needs_background": "light"
     },
     "output_type": "display_data"
    }
   ],
   "source": [
    "# plt image show is a method that plots an image by looking at a 2-D matrix\n",
    "# lowest value in list is white, highest being black\n",
    "plt.imshow([[0,1]], cmap='Greys')"
   ]
  },
  {
   "cell_type": "code",
   "execution_count": 4,
   "id": "26df72d0",
   "metadata": {
    "ExecuteTime": {
     "end_time": "2022-05-05T20:55:05.495175Z",
     "start_time": "2022-05-05T20:55:05.189102Z"
    },
    "scrolled": true
   },
   "outputs": [
    {
     "data": {
      "text/plain": [
       "<matplotlib.image.AxesImage at 0x2d11998f580>"
      ]
     },
     "execution_count": 4,
     "metadata": {},
     "output_type": "execute_result"
    },
    {
     "data": {
      "image/png": "[encoded data removed]",
      "text/plain": [
       "<Figure size 432x288 with 1 Axes>"
      ]
     },
     "metadata": {
      "needs_background": "light"
     },
     "output_type": "display_data"
    }
   ],
   "source": [
    "# Note 0 does not mean white. it was just the lowest value. So for example\n",
    "plt.imshow([[-1,0]], cmap='Greys')"
   ]
  },
  {
   "cell_type": "markdown",
   "id": "8bc511f3",
   "metadata": {},
   "source": [
    "So what about 3 values?"
   ]
  },
  {
   "cell_type": "code",
   "execution_count": 5,
   "id": "bba3ecca",
   "metadata": {
    "ExecuteTime": {
     "end_time": "2022-05-05T20:55:05.777408Z",
     "start_time": "2022-05-05T20:55:05.499232Z"
    },
    "scrolled": true
   },
   "outputs": [
    {
     "data": {
      "text/plain": [
       "<matplotlib.image.AxesImage at 0x2d1199ee820>"
      ]
     },
     "execution_count": 5,
     "metadata": {},
     "output_type": "execute_result"
    },
    {
     "data": {
      "image/png": "[encoded data removed]",
      "text/plain": [
       "<Figure size 432x288 with 1 Axes>"
      ]
     },
     "metadata": {
      "needs_background": "light"
     },
     "output_type": "display_data"
    }
   ],
   "source": [
    "plt.imshow([[-1,0,1]], cmap='Greys')"
   ]
  },
  {
   "cell_type": "markdown",
   "id": "d179988b",
   "metadata": {},
   "source": [
    "Do you have to use greys?"
   ]
  },
  {
   "cell_type": "code",
   "execution_count": 6,
   "id": "3ec8e643",
   "metadata": {
    "ExecuteTime": {
     "end_time": "2022-05-05T20:55:06.056833Z",
     "start_time": "2022-05-05T20:55:05.781247Z"
    },
    "scrolled": false
   },
   "outputs": [
    {
     "data": {
      "text/plain": [
       "<matplotlib.image.AxesImage at 0x2d119a3e9a0>"
      ]
     },
     "execution_count": 6,
     "metadata": {},
     "output_type": "execute_result"
    },
    {
     "data": {
      "image/png": "[encoded data removed]",
      "text/plain": [
       "<Figure size 432x288 with 1 Axes>"
      ]
     },
     "metadata": {
      "needs_background": "light"
     },
     "output_type": "display_data"
    }
   ],
   "source": [
    "plt.imshow([[-1,0,1]], cmap='Blues')"
   ]
  },
  {
   "cell_type": "code",
   "execution_count": 7,
   "id": "935f34e3",
   "metadata": {
    "ExecuteTime": {
     "end_time": "2022-05-05T20:55:06.334523Z",
     "start_time": "2022-05-05T20:55:06.064854Z"
    }
   },
   "outputs": [
    {
     "data": {
      "text/plain": [
       "<matplotlib.image.AxesImage at 0x2d119a92b20>"
      ]
     },
     "execution_count": 7,
     "metadata": {},
     "output_type": "execute_result"
    },
    {
     "data": {
      "image/png": "[encoded data removed]",
      "text/plain": [
       "<Figure size 432x288 with 1 Axes>"
      ]
     },
     "metadata": {
      "needs_background": "light"
     },
     "output_type": "display_data"
    }
   ],
   "source": [
    "#Default color pallete. Python uses as distinct a color pallette\n",
    "plt.imshow([[-1,0,1]])"
   ]
  },
  {
   "cell_type": "markdown",
   "id": "5deabdf9",
   "metadata": {},
   "source": [
    "As day to day images are concerned though, if we were to break images down on color spectrum we think of color/b&w pictures as a basic grouping. Its standard convention for single channel images to be displayed in grey, but any color map can be used. \n",
    "\n",
    "Depending upon the 'bitdepth', the more range of values in the data, and as you can imagine, more shades appear."
   ]
  },
  {
   "cell_type": "markdown",
   "id": "c9ed8ff8",
   "metadata": {
    "ExecuteTime": {
     "end_time": "2022-05-05T04:42:03.395639Z",
     "start_time": "2022-05-05T04:42:03.391638Z"
    }
   },
   "source": [
    "### bit-depth"
   ]
  },
  {
   "cell_type": "code",
   "execution_count": 8,
   "id": "551e3900",
   "metadata": {
    "ExecuteTime": {
     "end_time": "2022-05-05T20:55:06.647958Z",
     "start_time": "2022-05-05T20:55:06.339343Z"
    },
    "scrolled": false
   },
   "outputs": [
    {
     "data": {
      "text/plain": [
       "<matplotlib.image.AxesImage at 0x2d119aeed90>"
      ]
     },
     "execution_count": 8,
     "metadata": {},
     "output_type": "execute_result"
    },
    {
     "data": {
      "image/png": "[encoded data removed]",
      "text/plain": [
       "<Figure size 432x288 with 1 Axes>"
      ]
     },
     "metadata": {
      "needs_background": "light"
     },
     "output_type": "display_data"
    }
   ],
   "source": [
    "#1-bit\n",
    "plt.imshow([[0,1]], cmap='Greys')"
   ]
  },
  {
   "cell_type": "code",
   "execution_count": 9,
   "id": "62da0a33",
   "metadata": {
    "ExecuteTime": {
     "end_time": "2022-05-05T20:55:06.956002Z",
     "start_time": "2022-05-05T20:55:06.660955Z"
    },
    "scrolled": false
   },
   "outputs": [
    {
     "data": {
      "text/plain": [
       "<matplotlib.image.AxesImage at 0x2d119b51610>"
      ]
     },
     "execution_count": 9,
     "metadata": {},
     "output_type": "execute_result"
    },
    {
     "data": {
      "image/png": "[encoded data removed]",
      "text/plain": [
       "<Figure size 432x288 with 1 Axes>"
      ]
     },
     "metadata": {
      "needs_background": "light"
     },
     "output_type": "display_data"
    }
   ],
   "source": [
    "#2-bit\n",
    "plt.imshow([[0,1,2,3]], cmap='Greys')"
   ]
  },
  {
   "cell_type": "code",
   "execution_count": 10,
   "id": "6b90ab95",
   "metadata": {
    "ExecuteTime": {
     "end_time": "2022-05-05T20:55:07.207076Z",
     "start_time": "2022-05-05T20:55:06.959004Z"
    },
    "scrolled": false
   },
   "outputs": [
    {
     "data": {
      "text/plain": [
       "<matplotlib.image.AxesImage at 0x2d119b9ffa0>"
      ]
     },
     "execution_count": 10,
     "metadata": {},
     "output_type": "execute_result"
    },
    {
     "data": {
      "image/png": "[encoded data removed]",
      "text/plain": [
       "<Figure size 432x288 with 1 Axes>"
      ]
     },
     "metadata": {
      "needs_background": "light"
     },
     "output_type": "display_data"
    }
   ],
   "source": [
    "#3-bit\n",
    "plt.imshow([[0,1,2,3,4,5,6,7]], cmap='Greys')"
   ]
  },
  {
   "cell_type": "code",
   "execution_count": 11,
   "id": "1edf55c6",
   "metadata": {
    "ExecuteTime": {
     "end_time": "2022-05-05T20:55:07.489121Z",
     "start_time": "2022-05-05T20:55:07.211151Z"
    },
    "scrolled": true
   },
   "outputs": [
    {
     "data": {
      "text/plain": [
       "<matplotlib.image.AxesImage at 0x2d119bf6b20>"
      ]
     },
     "execution_count": 11,
     "metadata": {},
     "output_type": "execute_result"
    },
    {
     "data": {
      "image/png": "[encoded data removed]",
      "text/plain": [
       "<Figure size 432x288 with 1 Axes>"
      ]
     },
     "metadata": {
      "needs_background": "light"
     },
     "output_type": "display_data"
    }
   ],
   "source": [
    "#4-bit (1byte)\n",
    "plt.imshow([[0,1,2,3,4,5,6,7,8,9,10,11,12,13,14,15]], cmap='Greys')"
   ]
  },
  {
   "cell_type": "markdown",
   "id": "6c68c41c",
   "metadata": {},
   "source": [
    "Everyday images are in general 8-bit, which is why you'll see values ranging from 0-255"
   ]
  },
  {
   "cell_type": "code",
   "execution_count": 12,
   "id": "93f481a6",
   "metadata": {
    "ExecuteTime": {
     "end_time": "2022-05-05T20:55:07.505125Z",
     "start_time": "2022-05-05T20:55:07.491122Z"
    }
   },
   "outputs": [
    {
     "data": {
      "text/plain": [
       "array([  0,   1,   2,   3,   4,   5,   6,   7,   8,   9,  10,  11,  12,\n",
       "        13,  14,  15,  16,  17,  18,  19,  20,  21,  22,  23,  24,  25,\n",
       "        26,  27,  28,  29,  30,  31,  32,  33,  34,  35,  36,  37,  38,\n",
       "        39,  40,  41,  42,  43,  44,  45,  46,  47,  48,  49,  50,  51,\n",
       "        52,  53,  54,  55,  56,  57,  58,  59,  60,  61,  62,  63,  64,\n",
       "        65,  66,  67,  68,  69,  70,  71,  72,  73,  74,  75,  76,  77,\n",
       "        78,  79,  80,  81,  82,  83,  84,  85,  86,  87,  88,  89,  90,\n",
       "        91,  92,  93,  94,  95,  96,  97,  98,  99, 100, 101, 102, 103,\n",
       "       104, 105, 106, 107, 108, 109, 110, 111, 112, 113, 114, 115, 116,\n",
       "       117, 118, 119, 120, 121, 122, 123, 124, 125, 126, 127, 128, 129,\n",
       "       130, 131, 132, 133, 134, 135, 136, 137, 138, 139, 140, 141, 142,\n",
       "       143, 144, 145, 146, 147, 148, 149, 150, 151, 152, 153, 154, 155,\n",
       "       156, 157, 158, 159, 160, 161, 162, 163, 164, 165, 166, 167, 168,\n",
       "       169, 170, 171, 172, 173, 174, 175, 176, 177, 178, 179, 180, 181,\n",
       "       182, 183, 184, 185, 186, 187, 188, 189, 190, 191, 192, 193, 194,\n",
       "       195, 196, 197, 198, 199, 200, 201, 202, 203, 204, 205, 206, 207,\n",
       "       208, 209, 210, 211, 212, 213, 214, 215, 216, 217, 218, 219, 220,\n",
       "       221, 222, 223, 224, 225, 226, 227, 228, 229, 230, 231, 232, 233,\n",
       "       234, 235, 236, 237, 238, 239, 240, 241, 242, 243, 244, 245, 246,\n",
       "       247, 248, 249, 250, 251, 252, 253, 254, 255])"
      ]
     },
     "execution_count": 12,
     "metadata": {},
     "output_type": "execute_result"
    }
   ],
   "source": [
    "bit8_array = np.arange(0,256)\n",
    "bit8_array"
   ]
  },
  {
   "cell_type": "code",
   "execution_count": 13,
   "id": "073a9f1d",
   "metadata": {
    "ExecuteTime": {
     "end_time": "2022-05-05T20:55:07.755190Z",
     "start_time": "2022-05-05T20:55:07.509127Z"
    },
    "scrolled": false
   },
   "outputs": [
    {
     "data": {
      "text/plain": [
       "<matplotlib.image.AxesImage at 0x2d119c58580>"
      ]
     },
     "execution_count": 13,
     "metadata": {},
     "output_type": "execute_result"
    },
    {
     "data": {
      "image/png": "[encoded data removed]",
      "text/plain": [
       "<Figure size 432x288 with 1 Axes>"
      ]
     },
     "metadata": {
      "needs_background": "light"
     },
     "output_type": "display_data"
    }
   ],
   "source": [
    "#4-bit (1byte)\n",
    "plt.imshow([bit8_array], cmap='Greys')"
   ]
  },
  {
   "cell_type": "markdown",
   "id": "67de584a",
   "metadata": {},
   "source": [
    "Imshow has a hard time displaying all of it on 1-D\n",
    "\n",
    "We can change the aspect ratio so we can better see the gradient. This does reshape the array, just stretches out the axis."
   ]
  },
  {
   "cell_type": "code",
   "execution_count": 14,
   "id": "09b98e4f",
   "metadata": {
    "ExecuteTime": {
     "end_time": "2022-05-05T20:55:08.067251Z",
     "start_time": "2022-05-05T20:55:07.765200Z"
    },
    "scrolled": false
   },
   "outputs": [
    {
     "data": {
      "text/plain": [
       "<matplotlib.image.AxesImage at 0x2d119cab4c0>"
      ]
     },
     "execution_count": 14,
     "metadata": {},
     "output_type": "execute_result"
    },
    {
     "data": {
      "image/png": "[encoded data removed]",
      "text/plain": [
       "<Figure size 432x288 with 1 Axes>"
      ]
     },
     "metadata": {
      "needs_background": "light"
     },
     "output_type": "display_data"
    }
   ],
   "source": [
    "#4-bit (1byte)\n",
    "plt.imshow([bit8_array], cmap='Greys', aspect='auto')"
   ]
  },
  {
   "cell_type": "markdown",
   "id": "861bf0f9",
   "metadata": {},
   "source": [
    "Having just 1 'channel' of image information is like having just 2-D data information, like in the examples above\n"
   ]
  },
  {
   "cell_type": "markdown",
   "id": "da524049",
   "metadata": {},
   "source": [
    "However, in RGB, you have 3 channels of information. So imagine a 3-D tensor. Yeah, 3-D information for a 2-D image.\n",
    "Each channel will contain information for each color, pixel by pixel. When combined give us the full color spectrum.\n",
    "\n",
    "\n",
    "\n",
    "So for a _8-bit_ RGB image\n",
    "\n",
    "__R channel__: an array of values 0-255 just showing red values\n",
    "\n",
    "__G channel__: an array of values 0-255 just showing green values\n",
    "\n",
    "__B channel__: an array of values 0-255 just showing blue values"
   ]
  },
  {
   "cell_type": "markdown",
   "id": "a234c33c",
   "metadata": {},
   "source": [
    "### NOTE on color convention\n",
    "Even though imshow has so far been using the convention\n",
    "\n",
    "lowest_value:white\n",
    "\n",
    "highest_value:black\n",
    "\n",
    "When imshow is fed 3-D tensor it follows the standard RGB convention.\n",
    "\n",
    "\n",
    "__Standard convention for RGB images__\n",
    "\n",
    "0: minimum color\n",
    "\n",
    "255: maximum color (channel respective. eg: R channel, 255 max red)\n",
    "\n",
    "\n",
    "\n",
    "__Therefore, for RGB images__ \n",
    "\n",
    "black pixel is [0,0,0]\n",
    "\n",
    "white pixel is [255,255,255]\n",
    "\n",
    "red pixel is [255,0,0]\n",
    "\n",
    "green pixel is [0,255,0]\n",
    "\n",
    "blue pixel is [0,0,255]\n",
    "\n",
    "mid gray is [125,125,125]\n",
    "\n",
    "\n",
    "Every color in between is a combination of these primary colors (who wants to go back to middle school?)\n",
    "\n",
    "\n"
   ]
  },
  {
   "cell_type": "markdown",
   "id": "2419dcb1",
   "metadata": {},
   "source": [
    "General convention of image dimensions when being used in imshow (and just about anywhere else), the first 2 are height x weight. An additional dimension is be used to show channels. Its confusing because in standard image dimension we talk width first (think 1920x1080)\n",
    "\n",
    "RGB has 3 channels, so an image would be height x width x 3\n",
    "Other conventions might have other dimensions.\n",
    "\n",
    "Lets startsimple.\\\n",
    "Lets create a 4bit RGB image"
   ]
  },
  {
   "cell_type": "code",
   "execution_count": 15,
   "id": "4ef0ad9f",
   "metadata": {
    "ExecuteTime": {
     "end_time": "2022-05-05T20:55:08.083255Z",
     "start_time": "2022-05-05T20:55:08.070252Z"
    },
    "scrolled": true
   },
   "outputs": [
    {
     "data": {
      "text/plain": [
       "(256,)"
      ]
     },
     "execution_count": 15,
     "metadata": {},
     "output_type": "execute_result"
    }
   ],
   "source": [
    "bit4_channel = np.arange(0,256)\n",
    "bit4_channel.shape"
   ]
  },
  {
   "cell_type": "code",
   "execution_count": 16,
   "id": "f3213b9f",
   "metadata": {
    "ExecuteTime": {
     "end_time": "2022-05-05T20:55:08.506403Z",
     "start_time": "2022-05-05T20:55:08.087285Z"
    }
   },
   "outputs": [
    {
     "data": {
      "text/plain": [
       "<matplotlib.image.AxesImage at 0x2d119a06970>"
      ]
     },
     "execution_count": 16,
     "metadata": {},
     "output_type": "execute_result"
    },
    {
     "data": {
      "image/png": "[encoded data removed]",
      "text/plain": [
       "<Figure size 432x288 with 1 Axes>"
      ]
     },
     "metadata": {
      "needs_background": "light"
     },
     "output_type": "display_data"
    }
   ],
   "source": [
    "#This is the same as before. This is a single channel of data\n",
    "plt.imshow([bit4_channel],cmap = 'Greys',aspect = 'auto')"
   ]
  },
  {
   "cell_type": "code",
   "execution_count": 17,
   "id": "1cf786c8",
   "metadata": {
    "ExecuteTime": {
     "end_time": "2022-05-05T20:55:08.520352Z",
     "start_time": "2022-05-05T20:55:08.512356Z"
    }
   },
   "outputs": [
    {
     "data": {
      "text/plain": [
       "(1, 256, 3)"
      ]
     },
     "execution_count": 17,
     "metadata": {},
     "output_type": "execute_result"
    }
   ],
   "source": [
    "#Now lets stack 3 of the same  channels together. \n",
    "#dstack is depth wise stacking. try vstack, hstack, and dstack and look at the resulting matrix and shape\n",
    "RGB = np.dstack([bit4_channel,bit4_channel,bit4_channel])\n",
    "RGB.shape"
   ]
  },
  {
   "cell_type": "markdown",
   "id": "75cf4d4b",
   "metadata": {},
   "source": [
    "So, RGB here is \"3-D\", height: 1, width: 256, channels:3"
   ]
  },
  {
   "cell_type": "code",
   "execution_count": 18,
   "id": "66d8dfc6",
   "metadata": {
    "ExecuteTime": {
     "end_time": "2022-05-05T20:55:08.816418Z",
     "start_time": "2022-05-05T20:55:08.526382Z"
    },
    "scrolled": false
   },
   "outputs": [
    {
     "data": {
      "text/plain": [
       "<matplotlib.image.AxesImage at 0x2d119cc21f0>"
      ]
     },
     "execution_count": 18,
     "metadata": {},
     "output_type": "execute_result"
    },
    {
     "data": {
      "image/png": "[encoded data removed]",
      "text/plain": [
       "<Figure size 432x288 with 1 Axes>"
      ]
     },
     "metadata": {
      "needs_background": "light"
     },
     "output_type": "display_data"
    }
   ],
   "source": [
    "plt.imshow(RGB,aspect = 'auto')"
   ]
  },
  {
   "cell_type": "markdown",
   "id": "25639e5d",
   "metadata": {},
   "source": [
    "Ok... whats going on? Looks exactly the same, just flipped. Lets look at the left most point"
   ]
  },
  {
   "cell_type": "code",
   "execution_count": 19,
   "id": "080eefd2",
   "metadata": {
    "ExecuteTime": {
     "end_time": "2022-05-05T20:55:08.832421Z",
     "start_time": "2022-05-05T20:55:08.818418Z"
    }
   },
   "outputs": [
    {
     "data": {
      "text/plain": [
       "array([[0, 0, 0]])"
      ]
     },
     "execution_count": 19,
     "metadata": {},
     "output_type": "execute_result"
    }
   ],
   "source": [
    "RGB[:,0]"
   ]
  },
  {
   "cell_type": "markdown",
   "id": "23aca778",
   "metadata": {},
   "source": [
    "R value: 0 (pure black)\\\n",
    "G value: 0 (pure black)\\\n",
    "B value: 0 (pure black)\\\n",
    "\n",
    "Result: pure black"
   ]
  },
  {
   "cell_type": "markdown",
   "id": "73a44fa2",
   "metadata": {},
   "source": [
    "Lets look at the midpoint."
   ]
  },
  {
   "cell_type": "code",
   "execution_count": 20,
   "id": "31186f08",
   "metadata": {
    "ExecuteTime": {
     "end_time": "2022-05-05T20:55:08.848443Z",
     "start_time": "2022-05-05T20:55:08.836428Z"
    }
   },
   "outputs": [
    {
     "data": {
      "text/plain": [
       "array([[125, 125, 125]])"
      ]
     },
     "execution_count": 20,
     "metadata": {},
     "output_type": "execute_result"
    }
   ],
   "source": [
    "RGB[:,125]"
   ]
  },
  {
   "cell_type": "markdown",
   "id": "43d5f781",
   "metadata": {
    "ExecuteTime": {
     "end_time": "2022-05-04T17:49:36.194744Z",
     "start_time": "2022-05-04T17:49:36.184742Z"
    }
   },
   "source": [
    "Ok. 125 on all channels\n",
    "\n",
    "Perfectly Gray\n",
    "\n",
    "Ok. So that means, perfectly white, which is the right most edge will be..."
   ]
  },
  {
   "cell_type": "code",
   "execution_count": 21,
   "id": "6c6e9fea",
   "metadata": {
    "ExecuteTime": {
     "end_time": "2022-05-05T20:55:08.863500Z",
     "start_time": "2022-05-05T20:55:08.853441Z"
    },
    "scrolled": false
   },
   "outputs": [
    {
     "data": {
      "text/plain": [
       "array([255, 255, 255])"
      ]
     },
     "execution_count": 21,
     "metadata": {},
     "output_type": "execute_result"
    }
   ],
   "source": [
    "RGB[0,255]"
   ]
  },
  {
   "cell_type": "markdown",
   "id": "a884dfd8",
   "metadata": {},
   "source": [
    "Also, note, no color map was passed but even if you did, it would make no difference"
   ]
  },
  {
   "cell_type": "code",
   "execution_count": 22,
   "id": "bf9c177b",
   "metadata": {
    "ExecuteTime": {
     "end_time": "2022-05-05T20:55:09.099482Z",
     "start_time": "2022-05-05T20:55:08.866433Z"
    },
    "scrolled": true
   },
   "outputs": [
    {
     "data": {
      "text/plain": [
       "<matplotlib.image.AxesImage at 0x2d119d893a0>"
      ]
     },
     "execution_count": 22,
     "metadata": {},
     "output_type": "execute_result"
    },
    {
     "data": {
      "image/png": "[encoded data removed]",
      "text/plain": [
       "<Figure size 432x288 with 1 Axes>"
      ]
     },
     "metadata": {
      "needs_background": "light"
     },
     "output_type": "display_data"
    }
   ],
   "source": [
    "plt.imshow(RGB,cmap='Reds',aspect = 'auto')"
   ]
  },
  {
   "cell_type": "markdown",
   "id": "120c37b5",
   "metadata": {},
   "source": [
    "Essentially, if the 3 channel values for R,G,B are the same, the resulting pixel is on the gray scale."
   ]
  },
  {
   "cell_type": "markdown",
   "id": "8acc8ce8",
   "metadata": {},
   "source": [
    "## Total random channels"
   ]
  },
  {
   "cell_type": "markdown",
   "id": "836253dc",
   "metadata": {},
   "source": [
    "Lets randomize each channel\n",
    "\n",
    "We'll just create 1 x 256 x 3 array with random values from 0 to 255"
   ]
  },
  {
   "cell_type": "code",
   "execution_count": 23,
   "id": "a791d269",
   "metadata": {
    "ExecuteTime": {
     "end_time": "2022-05-05T20:55:09.366570Z",
     "start_time": "2022-05-05T20:55:09.103495Z"
    }
   },
   "outputs": [
    {
     "data": {
      "text/plain": [
       "<matplotlib.image.AxesImage at 0x2d119dd5c40>"
      ]
     },
     "execution_count": 23,
     "metadata": {},
     "output_type": "execute_result"
    },
    {
     "data": {
      "image/png": "[encoded data removed]",
      "text/plain": [
       "<Figure size 432x288 with 1 Axes>"
      ]
     },
     "metadata": {
      "needs_background": "light"
     },
     "output_type": "display_data"
    }
   ],
   "source": [
    "random_RGB = np.random.randint(low=0,high=255,size=(1,256,3))\n",
    "plt.imshow(random_RGB,aspect='auto')"
   ]
  },
  {
   "cell_type": "markdown",
   "id": "7d214b96",
   "metadata": {},
   "source": [
    "Ok... not as pretty as I was hoping. But hopefully kind of gives an idea of how color is working in the background.\n",
    "\n",
    "Lets  delve  into it some more."
   ]
  },
  {
   "cell_type": "markdown",
   "id": "9b8c676f",
   "metadata": {},
   "source": [
    "## Primary Color Gradients"
   ]
  },
  {
   "cell_type": "markdown",
   "id": "f5b935ed",
   "metadata": {},
   "source": [
    "### Red Gradient"
   ]
  },
  {
   "cell_type": "markdown",
   "id": "0dc691ae",
   "metadata": {
    "ExecuteTime": {
     "end_time": "2022-05-05T04:24:18.344593Z",
     "start_time": "2022-05-05T04:24:18.338592Z"
    }
   },
   "source": [
    "Lets create a red gradient followed by a green and a blue"
   ]
  },
  {
   "cell_type": "markdown",
   "id": "dec30185",
   "metadata": {},
   "source": [
    "Since a perfectly black pixel is [0,0,0] and a perfect red pixel is [255,0,0]. Then to get the red gradient you want the red channel to range from 0 to 255, while the remaining 2 channels remain at zeroes. in other words they don't add any of their respective color."
   ]
  },
  {
   "cell_type": "code",
   "execution_count": 24,
   "id": "88bed132",
   "metadata": {
    "ExecuteTime": {
     "end_time": "2022-05-05T20:55:09.398586Z",
     "start_time": "2022-05-05T20:55:09.377548Z"
    }
   },
   "outputs": [],
   "source": [
    "zeros_channel = np.zeros((1,256,1),dtype=int)"
   ]
  },
  {
   "cell_type": "code",
   "execution_count": 25,
   "id": "1b4da453",
   "metadata": {
    "ExecuteTime": {
     "end_time": "2022-05-05T20:55:09.414572Z",
     "start_time": "2022-05-05T20:55:09.407556Z"
    }
   },
   "outputs": [],
   "source": [
    "r_channel = np.arange(0,256)\n",
    "g_channel = zeros_channel\n",
    "b_channel = zeros_channel"
   ]
  },
  {
   "cell_type": "code",
   "execution_count": 26,
   "id": "72bc8bd3",
   "metadata": {
    "ExecuteTime": {
     "end_time": "2022-05-05T20:55:09.430563Z",
     "start_time": "2022-05-05T20:55:09.418554Z"
    }
   },
   "outputs": [
    {
     "data": {
      "text/plain": [
       "(1, 256, 3)"
      ]
     },
     "execution_count": 26,
     "metadata": {},
     "output_type": "execute_result"
    }
   ],
   "source": [
    "RGB = np.dstack([r_channel,g_channel,b_channel])\n",
    "RGB.shape"
   ]
  },
  {
   "cell_type": "code",
   "execution_count": 27,
   "id": "6e381df3",
   "metadata": {
    "ExecuteTime": {
     "end_time": "2022-05-05T20:55:09.699618Z",
     "start_time": "2022-05-05T20:55:09.432557Z"
    },
    "scrolled": false
   },
   "outputs": [
    {
     "data": {
      "image/png": "[encoded data removed]",
      "text/plain": [
       "<Figure size 432x288 with 1 Axes>"
      ]
     },
     "metadata": {
      "needs_background": "light"
     },
     "output_type": "display_data"
    }
   ],
   "source": [
    " plt.imshow(RGB,aspect='auto');"
   ]
  },
  {
   "cell_type": "markdown",
   "id": "96b054bf",
   "metadata": {
    "ExecuteTime": {
     "end_time": "2022-05-04T23:05:38.876827Z",
     "start_time": "2022-05-04T23:05:38.869827Z"
    }
   },
   "source": [
    "### Green Gradient"
   ]
  },
  {
   "cell_type": "code",
   "execution_count": 28,
   "id": "65704499",
   "metadata": {
    "ExecuteTime": {
     "end_time": "2022-05-05T20:55:09.715675Z",
     "start_time": "2022-05-05T20:55:09.704617Z"
    }
   },
   "outputs": [],
   "source": [
    "r_channel = np.zeros((1,256,1),dtype=int)\n",
    "g_channel = np.arange(0,256).reshape(1,256,1)\n",
    "b_channel = np.zeros((1,256,1),dtype=int)"
   ]
  },
  {
   "cell_type": "code",
   "execution_count": 29,
   "id": "094b234d",
   "metadata": {
    "ExecuteTime": {
     "end_time": "2022-05-05T20:55:09.745635Z",
     "start_time": "2022-05-05T20:55:09.728622Z"
    }
   },
   "outputs": [
    {
     "data": {
      "text/plain": [
       "(1, 256, 3)"
      ]
     },
     "execution_count": 29,
     "metadata": {},
     "output_type": "execute_result"
    }
   ],
   "source": [
    "RGB = np.dstack([r_channel,g_channel,b_channel])\n",
    "RGB.shape"
   ]
  },
  {
   "cell_type": "code",
   "execution_count": 30,
   "id": "6fb4fa3f",
   "metadata": {
    "ExecuteTime": {
     "end_time": "2022-05-05T20:55:09.979682Z",
     "start_time": "2022-05-05T20:55:09.749637Z"
    },
    "scrolled": true
   },
   "outputs": [
    {
     "data": {
      "image/png": "[encoded data removed]",
      "text/plain": [
       "<Figure size 432x288 with 1 Axes>"
      ]
     },
     "metadata": {
      "needs_background": "light"
     },
     "output_type": "display_data"
    }
   ],
   "source": [
    " plt.imshow(RGB,aspect='auto');"
   ]
  },
  {
   "cell_type": "markdown",
   "id": "c3b60277",
   "metadata": {
    "ExecuteTime": {
     "end_time": "2022-05-04T23:05:38.876827Z",
     "start_time": "2022-05-04T23:05:38.869827Z"
    }
   },
   "source": [
    "### Blue Gradient"
   ]
  },
  {
   "cell_type": "code",
   "execution_count": 31,
   "id": "754a23e6",
   "metadata": {
    "ExecuteTime": {
     "end_time": "2022-05-05T20:55:09.994683Z",
     "start_time": "2022-05-05T20:55:09.985715Z"
    }
   },
   "outputs": [],
   "source": [
    "r_channel = zeros_channel\n",
    "g_channel = zeros_channel\n",
    "b_channel = np.arange(0,256)"
   ]
  },
  {
   "cell_type": "code",
   "execution_count": 32,
   "id": "62fbe01d",
   "metadata": {
    "ExecuteTime": {
     "end_time": "2022-05-05T20:55:10.010688Z",
     "start_time": "2022-05-05T20:55:09.996683Z"
    }
   },
   "outputs": [
    {
     "data": {
      "text/plain": [
       "(1, 256, 3)"
      ]
     },
     "execution_count": 32,
     "metadata": {},
     "output_type": "execute_result"
    }
   ],
   "source": [
    "RGB = np.dstack([r_channel,g_channel,b_channel])\n",
    "RGB.shape"
   ]
  },
  {
   "cell_type": "code",
   "execution_count": 33,
   "id": "399b263f",
   "metadata": {
    "ExecuteTime": {
     "end_time": "2022-05-05T20:55:10.262756Z",
     "start_time": "2022-05-05T20:55:10.015690Z"
    },
    "scrolled": false
   },
   "outputs": [
    {
     "data": {
      "image/png": "[encoded data removed]",
      "text/plain": [
       "<Figure size 432x288 with 1 Axes>"
      ]
     },
     "metadata": {
      "needs_background": "light"
     },
     "output_type": "display_data"
    }
   ],
   "source": [
    " plt.imshow(RGB,aspect='auto');"
   ]
  },
  {
   "cell_type": "markdown",
   "id": "97428b3d",
   "metadata": {},
   "source": [
    "Easy enough. How about Yellow?"
   ]
  },
  {
   "cell_type": "markdown",
   "id": "b335f1f2",
   "metadata": {
    "ExecuteTime": {
     "end_time": "2022-05-04T23:05:38.876827Z",
     "start_time": "2022-05-04T23:05:38.869827Z"
    }
   },
   "source": [
    "## Secondary color gradient"
   ]
  },
  {
   "cell_type": "markdown",
   "id": "25b504f6",
   "metadata": {
    "ExecuteTime": {
     "end_time": "2022-05-04T23:05:38.876827Z",
     "start_time": "2022-05-04T23:05:38.869827Z"
    }
   },
   "source": [
    "### Yellow Gradient"
   ]
  },
  {
   "cell_type": "code",
   "execution_count": 34,
   "id": "f095d82f",
   "metadata": {
    "ExecuteTime": {
     "end_time": "2022-05-05T20:55:10.277814Z",
     "start_time": "2022-05-05T20:55:10.266748Z"
    }
   },
   "outputs": [],
   "source": [
    "r_channel = np.arange(0,256)\n",
    "g_channel = np.arange(0,256)\n",
    "b_channel = zeros_channel"
   ]
  },
  {
   "cell_type": "code",
   "execution_count": 35,
   "id": "f16b4fe9",
   "metadata": {
    "ExecuteTime": {
     "end_time": "2022-05-05T20:55:10.512827Z",
     "start_time": "2022-05-05T20:55:10.279746Z"
    },
    "scrolled": true
   },
   "outputs": [
    {
     "data": {
      "image/png": "[encoded data removed]",
      "text/plain": [
       "<Figure size 432x288 with 1 Axes>"
      ]
     },
     "metadata": {
      "needs_background": "light"
     },
     "output_type": "display_data"
    }
   ],
   "source": [
    " plt.imshow(np.dstack([r_channel,g_channel,b_channel])\n",
    "            ,aspect='auto');"
   ]
  },
  {
   "cell_type": "markdown",
   "id": "dcc73bda",
   "metadata": {
    "ExecuteTime": {
     "end_time": "2022-05-04T23:05:38.876827Z",
     "start_time": "2022-05-04T23:05:38.869827Z"
    }
   },
   "source": [
    "### Cyan Gradient"
   ]
  },
  {
   "cell_type": "code",
   "execution_count": 36,
   "id": "02e0dd09",
   "metadata": {
    "ExecuteTime": {
     "end_time": "2022-05-05T20:55:10.527830Z",
     "start_time": "2022-05-05T20:55:10.517832Z"
    }
   },
   "outputs": [],
   "source": [
    "r_channel = zeros_channel\n",
    "g_channel = np.arange(0,256)\n",
    "b_channel = np.arange(0,256)"
   ]
  },
  {
   "cell_type": "code",
   "execution_count": 37,
   "id": "f8e28f6a",
   "metadata": {
    "ExecuteTime": {
     "end_time": "2022-05-05T20:55:10.792129Z",
     "start_time": "2022-05-05T20:55:10.532829Z"
    },
    "scrolled": true
   },
   "outputs": [
    {
     "data": {
      "image/png": "[encoded data removed]",
      "text/plain": [
       "<Figure size 432x288 with 1 Axes>"
      ]
     },
     "metadata": {
      "needs_background": "light"
     },
     "output_type": "display_data"
    }
   ],
   "source": [
    " plt.imshow(np.dstack([r_channel,g_channel,b_channel])\n",
    "            ,aspect='auto');"
   ]
  },
  {
   "cell_type": "markdown",
   "id": "28c1684b",
   "metadata": {
    "ExecuteTime": {
     "end_time": "2022-05-04T23:05:38.876827Z",
     "start_time": "2022-05-04T23:05:38.869827Z"
    }
   },
   "source": [
    "### Magenta Gradient"
   ]
  },
  {
   "cell_type": "code",
   "execution_count": 38,
   "id": "4e2bb514",
   "metadata": {
    "ExecuteTime": {
     "end_time": "2022-05-05T20:55:10.808137Z",
     "start_time": "2022-05-05T20:55:10.793130Z"
    }
   },
   "outputs": [],
   "source": [
    "r_channel = np.arange(0,256)\n",
    "g_channel = zeros_channel\n",
    "b_channel = np.arange(0,256)"
   ]
  },
  {
   "cell_type": "code",
   "execution_count": 39,
   "id": "54a845b2",
   "metadata": {
    "ExecuteTime": {
     "end_time": "2022-05-05T20:55:11.073250Z",
     "start_time": "2022-05-05T20:55:10.812163Z"
    },
    "scrolled": true
   },
   "outputs": [
    {
     "data": {
      "image/png": "[encoded data removed]",
      "text/plain": [
       "<Figure size 432x288 with 1 Axes>"
      ]
     },
     "metadata": {
      "needs_background": "light"
     },
     "output_type": "display_data"
    }
   ],
   "source": [
    " plt.imshow(np.dstack([r_channel,g_channel,b_channel])\n",
    "            ,aspect='auto');"
   ]
  },
  {
   "cell_type": "markdown",
   "id": "8ec15eed",
   "metadata": {},
   "source": [
    "## Complex color gradients"
   ]
  },
  {
   "cell_type": "markdown",
   "id": "fd804354",
   "metadata": {},
   "source": [
    "### Faux full color spectrum"
   ]
  },
  {
   "cell_type": "code",
   "execution_count": 40,
   "id": "f93b9e38",
   "metadata": {
    "ExecuteTime": {
     "end_time": "2022-05-05T20:55:11.089242Z",
     "start_time": "2022-05-05T20:55:11.075228Z"
    }
   },
   "outputs": [],
   "source": [
    "bit4_channel_R = np.arange(0, 256)\n",
    "bit4_channel_G = np.hstack([np.arange(0, 256), np.arange(255, -1, -1)])[::2]\n",
    "bit4_channel_B = np.hstack([\n",
    "    np.arange(0, 256, 1),\n",
    "    np.arange(255, -1, -1),\n",
    "    np.arange(0, 256, 1),\n",
    "    np.arange(255, -1, -1),\n",
    "]\n",
    ")[::4]"
   ]
  },
  {
   "cell_type": "markdown",
   "id": "aefcccbb",
   "metadata": {},
   "source": [
    "Lets have a quick look as to what each one of these channels are doing"
   ]
  },
  {
   "cell_type": "code",
   "execution_count": 41,
   "id": "7c2c437d",
   "metadata": {
    "ExecuteTime": {
     "end_time": "2022-05-05T20:55:11.351758Z",
     "start_time": "2022-05-05T20:55:11.096231Z"
    }
   },
   "outputs": [
    {
     "data": {
      "image/png": "[encoded data removed]",
      "text/plain": [
       "<Figure size 432x288 with 1 Axes>"
      ]
     },
     "metadata": {
      "needs_background": "light"
     },
     "output_type": "display_data"
    }
   ],
   "source": [
    "plt.imshow(np.dstack([bit4_channel_R,zeros_channel,zeros_channel])\n",
    "           ,aspect='auto');"
   ]
  },
  {
   "cell_type": "markdown",
   "id": "6abe359f",
   "metadata": {},
   "source": [
    "Ok. The red channel holds a standard red gradient"
   ]
  },
  {
   "cell_type": "code",
   "execution_count": 42,
   "id": "914f7fee",
   "metadata": {
    "ExecuteTime": {
     "end_time": "2022-05-05T20:55:11.821858Z",
     "start_time": "2022-05-05T20:55:11.356759Z"
    }
   },
   "outputs": [
    {
     "data": {
      "image/png": "[encoded data removed]",
      "text/plain": [
       "<Figure size 432x288 with 1 Axes>"
      ]
     },
     "metadata": {
      "needs_background": "light"
     },
     "output_type": "display_data"
    }
   ],
   "source": [
    "plt.imshow(np.dstack([zeros_channel,bit4_channel_G,zeros_channel])\n",
    "           ,aspect='auto');"
   ]
  },
  {
   "cell_type": "markdown",
   "id": "d675efaa",
   "metadata": {},
   "source": [
    "The green channel a 'folded'(?) green gradient"
   ]
  },
  {
   "cell_type": "code",
   "execution_count": 43,
   "id": "747240aa",
   "metadata": {
    "ExecuteTime": {
     "end_time": "2022-05-05T20:55:12.075932Z",
     "start_time": "2022-05-05T20:55:11.827874Z"
    }
   },
   "outputs": [
    {
     "data": {
      "image/png": "[encoded data removed]",
      "text/plain": [
       "<Figure size 432x288 with 1 Axes>"
      ]
     },
     "metadata": {
      "needs_background": "light"
     },
     "output_type": "display_data"
    }
   ],
   "source": [
    "plt.imshow(np.dstack([zeros_channel,zeros_channel,bit4_channel_B])\n",
    "           ,aspect='auto');"
   ]
  },
  {
   "cell_type": "markdown",
   "id": "6780044a",
   "metadata": {
    "ExecuteTime": {
     "end_time": "2022-05-05T04:39:01.906472Z",
     "start_time": "2022-05-05T04:39:01.888468Z"
    }
   },
   "source": [
    "The blue channel a 'bi-folded'(?) green gradient"
   ]
  },
  {
   "cell_type": "markdown",
   "id": "05321be2",
   "metadata": {},
   "source": [
    "When plotted together, they give us"
   ]
  },
  {
   "cell_type": "code",
   "execution_count": 44,
   "id": "c06d1f01",
   "metadata": {
    "ExecuteTime": {
     "end_time": "2022-05-05T20:55:12.343989Z",
     "start_time": "2022-05-05T20:55:12.081915Z"
    }
   },
   "outputs": [
    {
     "data": {
      "image/png": "[encoded data removed]",
      "text/plain": [
       "<Figure size 432x288 with 1 Axes>"
      ]
     },
     "metadata": {
      "needs_background": "light"
     },
     "output_type": "display_data"
    }
   ],
   "source": [
    "plt.imshow(np.dstack([bit4_channel_R,bit4_channel_G,bit4_channel_B])\n",
    "           ,aspect='auto');"
   ]
  },
  {
   "cell_type": "markdown",
   "id": "919db1e8",
   "metadata": {},
   "source": [
    "### Full 4bit color spectrum"
   ]
  },
  {
   "cell_type": "code",
   "execution_count": 45,
   "id": "038f36dd",
   "metadata": {
    "ExecuteTime": {
     "end_time": "2022-05-05T20:55:12.359974Z",
     "start_time": "2022-05-05T20:55:12.352042Z"
    }
   },
   "outputs": [
    {
     "data": {
      "text/plain": [
       "((1, 256), (256, 1), (256,))"
      ]
     },
     "execution_count": 45,
     "metadata": {},
     "output_type": "execute_result"
    }
   ],
   "source": [
    "# bit4_channel_R = np.hstack([np.arange(0, 256), np.arange(255, -1, -1)])[::2].reshape(1,256)\n",
    "bit4_channel_R = np.arange(0, 256).reshape(1,256)\n",
    "# bit4_channel_G = np.hstack([np.arange(0, 256), np.arange(255, -1, -1)])[::2].reshape(256,1)\n",
    "bit4_channel_G = np.arange(0, 256).reshape(256,1)\n",
    "# bit4_channel_B = np.arange(0, 256).reshape(1,256)\n",
    "\n",
    "bit4_channel_R.shape, bit4_channel_G.shape, bit4_channel_B.shape"
   ]
  },
  {
   "cell_type": "code",
   "execution_count": 46,
   "id": "09cf1d1b",
   "metadata": {
    "ExecuteTime": {
     "end_time": "2022-05-05T20:55:12.374992Z",
     "start_time": "2022-05-05T20:55:12.364995Z"
    },
    "scrolled": true
   },
   "outputs": [
    {
     "data": {
      "text/plain": [
       "((256, 256), (256, 256))"
      ]
     },
     "execution_count": 46,
     "metadata": {},
     "output_type": "execute_result"
    }
   ],
   "source": [
    "bit4_channel_R_tiled = np.tile(bit4_channel_R,(256,1))\n",
    "bit4_channel_G_tiled = np.tile(bit4_channel_G,(1,256))\n",
    "bit4_channel_R_tiled.shape, bit4_channel_G_tiled.shape, "
   ]
  },
  {
   "cell_type": "code",
   "execution_count": 47,
   "id": "1e459ad1",
   "metadata": {
    "ExecuteTime": {
     "end_time": "2022-05-05T20:55:12.421061Z",
     "start_time": "2022-05-05T20:55:12.378977Z"
    },
    "scrolled": true
   },
   "outputs": [],
   "source": [
    "bit4_channel_B_tiled = np.zeros((256,256),dtype=int)\n",
    "center = np.array((127,127))\n",
    "side = bit4_channel_B_tiled.shape[0]\n",
    "for i in range(0,256):\n",
    "    for j in range(0,256):\n",
    "        if i+j> 255:\n",
    "            bit4_channel_B_tiled[i,j] =  255  - (i+j)%255\n",
    "        else:\n",
    "            bit4_channel_B_tiled[i,j] = i+j\n",
    "\n",
    "#         d = np.linalg.norm(np.array((i,j)) - center)    \n",
    "#         val = 255 - int((d / (256/2) *255))\n",
    "\n",
    "#         if val>0:\n",
    "#             bit4_channel_B_tiled[i,j] = val\n",
    "\n",
    "        \n"
   ]
  },
  {
   "cell_type": "code",
   "execution_count": 48,
   "id": "7dd59ff4",
   "metadata": {
    "ExecuteTime": {
     "end_time": "2022-05-05T20:55:12.436990Z",
     "start_time": "2022-05-05T20:55:12.425990Z"
    }
   },
   "outputs": [
    {
     "data": {
      "text/plain": [
       "0"
      ]
     },
     "execution_count": 48,
     "metadata": {},
     "output_type": "execute_result"
    }
   ],
   "source": [
    "255 - int((128 / (256/2) *255))"
   ]
  },
  {
   "cell_type": "code",
   "execution_count": 49,
   "id": "c97838c6",
   "metadata": {
    "ExecuteTime": {
     "end_time": "2022-05-05T20:55:12.452005Z",
     "start_time": "2022-05-05T20:55:12.438990Z"
    }
   },
   "outputs": [],
   "source": [
    "zero_tiled_channel = np.zeros((256,256),dtype=int)"
   ]
  },
  {
   "cell_type": "code",
   "execution_count": 50,
   "id": "51a67882",
   "metadata": {
    "ExecuteTime": {
     "end_time": "2022-05-05T20:55:12.713051Z",
     "start_time": "2022-05-05T20:55:12.456999Z"
    }
   },
   "outputs": [
    {
     "data": {
      "image/png": "[encoded data removed]",
      "text/plain": [
       "<Figure size 432x288 with 1 Axes>"
      ]
     },
     "metadata": {
      "needs_background": "light"
     },
     "output_type": "display_data"
    }
   ],
   "source": [
    "plt.imshow(np.dstack([zero_tiled_channel,\n",
    "                      zero_tiled_channel,\n",
    "                      zero_tiled_channel])\n",
    "           ,aspect='auto');"
   ]
  },
  {
   "cell_type": "code",
   "execution_count": 87,
   "id": "ffe53091",
   "metadata": {
    "ExecuteTime": {
     "end_time": "2022-05-05T21:15:56.469840Z",
     "start_time": "2022-05-05T21:15:56.359815Z"
    }
   },
   "outputs": [
    {
     "data": {
      "image/png": "[encoded data removed]",
      "text/plain": [
       "<Figure size 432x288 with 1 Axes>"
      ]
     },
     "metadata": {
      "needs_background": "light"
     },
     "output_type": "display_data"
    }
   ],
   "source": [
    "plt.imshow(np.dstack([bit4_channel_R_tiled,\n",
    "                      zero_tiled_channel,\n",
    "                      zero_tiled_channel])\n",
    "           ,aspect='auto');"
   ]
  },
  {
   "cell_type": "code",
   "execution_count": 52,
   "id": "7a39731f",
   "metadata": {
    "ExecuteTime": {
     "end_time": "2022-05-05T20:55:13.247173Z",
     "start_time": "2022-05-05T20:55:12.968111Z"
    }
   },
   "outputs": [
    {
     "data": {
      "image/png": "[encoded data removed]",
      "text/plain": [
       "<Figure size 432x288 with 1 Axes>"
      ]
     },
     "metadata": {
      "needs_background": "light"
     },
     "output_type": "display_data"
    }
   ],
   "source": [
    "plt.imshow(np.dstack([zero_tiled_channel,\n",
    "                      bit4_channel_G_tiled,\n",
    "                      zero_tiled_channel])\n",
    "           ,aspect='auto');"
   ]
  },
  {
   "cell_type": "code",
   "execution_count": 53,
   "id": "24f88358",
   "metadata": {
    "ExecuteTime": {
     "end_time": "2022-05-05T20:55:13.526238Z",
     "start_time": "2022-05-05T20:55:13.252177Z"
    }
   },
   "outputs": [
    {
     "data": {
      "image/png": "[encoded data removed]",
      "text/plain": [
       "<Figure size 432x288 with 1 Axes>"
      ]
     },
     "metadata": {
      "needs_background": "light"
     },
     "output_type": "display_data"
    }
   ],
   "source": [
    "plt.imshow(np.dstack([zero_tiled_channel,\n",
    "                      zero_tiled_channel,\n",
    "                      bit4_channel_B_tiled])\n",
    "           ,aspect='auto');"
   ]
  },
  {
   "cell_type": "code",
   "execution_count": 54,
   "id": "d6bfe89d",
   "metadata": {
    "ExecuteTime": {
     "end_time": "2022-05-05T20:55:13.809306Z",
     "start_time": "2022-05-05T20:55:13.531255Z"
    }
   },
   "outputs": [
    {
     "data": {
      "image/png": "[encoded data removed]",
      "text/plain": [
       "<Figure size 432x288 with 1 Axes>"
      ]
     },
     "metadata": {
      "needs_background": "light"
     },
     "output_type": "display_data"
    }
   ],
   "source": [
    "plt.imshow(np.dstack([bit4_channel_R_tiled,\n",
    "                      bit4_channel_G_tiled,\n",
    "                      zero_tiled_channel])\n",
    "           ,aspect='auto');"
   ]
  },
  {
   "cell_type": "code",
   "execution_count": 55,
   "id": "491a38b0",
   "metadata": {
    "ExecuteTime": {
     "end_time": "2022-05-05T20:55:14.078373Z",
     "start_time": "2022-05-05T20:55:13.813299Z"
    }
   },
   "outputs": [
    {
     "data": {
      "image/png": "[encoded data removed]",
      "text/plain": [
       "<Figure size 432x288 with 1 Axes>"
      ]
     },
     "metadata": {
      "needs_background": "light"
     },
     "output_type": "display_data"
    }
   ],
   "source": [
    "plt.imshow(np.dstack([bit4_channel_R_tiled,\n",
    "                      zero_tiled_channel,\n",
    "                      bit4_channel_B_tiled])\n",
    "           ,aspect='auto');"
   ]
  },
  {
   "cell_type": "code",
   "execution_count": 56,
   "id": "52258d62",
   "metadata": {
    "ExecuteTime": {
     "end_time": "2022-05-05T20:55:14.377444Z",
     "start_time": "2022-05-05T20:55:14.082390Z"
    }
   },
   "outputs": [
    {
     "data": {
      "image/png": "[encoded data removed]",
      "text/plain": [
       "<Figure size 432x288 with 1 Axes>"
      ]
     },
     "metadata": {
      "needs_background": "light"
     },
     "output_type": "display_data"
    }
   ],
   "source": [
    "plt.imshow(np.dstack([zero_tiled_channel,\n",
    "                      bit4_channel_G_tiled,\n",
    "                      bit4_channel_B_tiled])\n",
    "           ,aspect='auto');"
   ]
  },
  {
   "cell_type": "code",
   "execution_count": 57,
   "id": "f73b9a4c",
   "metadata": {
    "ExecuteTime": {
     "end_time": "2022-05-05T20:55:14.656487Z",
     "start_time": "2022-05-05T20:55:14.379426Z"
    }
   },
   "outputs": [
    {
     "data": {
      "image/png": "[encoded data removed]",
      "text/plain": [
       "<Figure size 432x288 with 1 Axes>"
      ]
     },
     "metadata": {
      "needs_background": "light"
     },
     "output_type": "display_data"
    }
   ],
   "source": [
    "plt.imshow(np.dstack([bit4_channel_R_tiled,\n",
    "                      bit4_channel_G_tiled,\n",
    "                      bit4_channel_B_tiled])\n",
    "           ,aspect='auto');"
   ]
  },
  {
   "cell_type": "code",
   "execution_count": null,
   "id": "8593edf0",
   "metadata": {},
   "outputs": [],
   "source": []
  },
  {
   "cell_type": "code",
   "execution_count": 58,
   "id": "bfeed869",
   "metadata": {
    "ExecuteTime": {
     "end_time": "2022-05-05T20:55:20.830048Z",
     "start_time": "2022-05-05T20:55:20.521988Z"
    },
    "scrolled": false
   },
   "outputs": [
    {
     "data": {
      "text/plain": [
       "<matplotlib.image.AxesImage at 0x2d11b0c87f0>"
      ]
     },
     "execution_count": 58,
     "metadata": {},
     "output_type": "execute_result"
    },
    {
     "data": {
      "image/png": "[encoded data removed]",
      "text/plain": [
       "<Figure size 432x288 with 1 Axes>"
      ]
     },
     "metadata": {
      "needs_background": "light"
     },
     "output_type": "display_data"
    }
   ],
   "source": [
    "RG_tile = np.dstack([bit4_channel_R_tiled,\n",
    "                      bit4_channel_G_tiled,\n",
    "                      zero_tiled_channel])\n",
    "plt.imshow(RG_tile,aspect='auto')"
   ]
  },
  {
   "cell_type": "code",
   "execution_count": 64,
   "id": "b9427fcc",
   "metadata": {
    "ExecuteTime": {
     "end_time": "2022-05-05T20:56:51.801075Z",
     "start_time": "2022-05-05T20:56:48.447323Z"
    }
   },
   "outputs": [
    {
     "data": {
      "text/plain": [
       "<matplotlib.image.AxesImage at 0x2d11af57190>"
      ]
     },
     "execution_count": 64,
     "metadata": {},
     "output_type": "execute_result"
    },
    {
     "data": {
      "image/png": "[encoded data removed]",
      "text/plain": [
       "<Figure size 432x288 with 1 Axes>"
      ]
     },
     "metadata": {
      "needs_background": "light"
     },
     "output_type": "display_data"
    }
   ],
   "source": [
    "RG_super_tile = RG_tile\n",
    "for i in range(0,4):\n",
    "    RG_super_tile = np.hstack([RG_super_tile,RG_super_tile])\n",
    "for i in range(0,4):\n",
    "    RG_super_tile = np.vstack([RG_super_tile,RG_super_tile])\n",
    "\n",
    "plt.imshow(RG_super_tile)"
   ]
  },
  {
   "cell_type": "code",
   "execution_count": 65,
   "id": "99fe4a32",
   "metadata": {
    "ExecuteTime": {
     "end_time": "2022-05-05T21:02:52.477270Z",
     "start_time": "2022-05-05T21:02:52.224416Z"
    },
    "scrolled": true
   },
   "outputs": [
    {
     "data": {
      "text/plain": [
       "<matplotlib.image.AxesImage at 0x2d11b16dfd0>"
      ]
     },
     "execution_count": 65,
     "metadata": {},
     "output_type": "execute_result"
    },
    {
     "data": {
      "image/png": "[encoded data removed]",
      "text/plain": [
       "<Figure size 432x288 with 1 Axes>"
      ]
     },
     "metadata": {
      "needs_background": "light"
     },
     "output_type": "display_data"
    }
   ],
   "source": [
    "random_RGB = np.random.randint(low=0,high=255,size=(2,2,3))\n",
    "plt.imshow(random_RGB,aspect='auto')"
   ]
  },
  {
   "cell_type": "code",
   "execution_count": 91,
   "id": "c33e938b",
   "metadata": {
    "ExecuteTime": {
     "end_time": "2022-05-05T21:16:27.841828Z",
     "start_time": "2022-05-05T21:16:27.743806Z"
    }
   },
   "outputs": [
    {
     "data": {
      "text/plain": [
       "<matplotlib.image.AxesImage at 0x2d124040bb0>"
      ]
     },
     "execution_count": 91,
     "metadata": {},
     "output_type": "execute_result"
    },
    {
     "data": {
      "image/png": "[encoded data removed]",
      "text/plain": [
       "<Figure size 432x288 with 1 Axes>"
      ]
     },
     "metadata": {
      "needs_background": "light"
     },
     "output_type": "display_data"
    }
   ],
   "source": [
    "#4-bit (1byte)\n",
    "t = np.dstack([bit4_channel_R_tiled,\n",
    "                      zero_tiled_channel,\n",
    "                      zero_tiled_channel])\n",
    "plt.imshow(t,aspect='auto')"
   ]
  },
  {
   "cell_type": "code",
   "execution_count": 92,
   "id": "e77c22a7",
   "metadata": {
    "ExecuteTime": {
     "end_time": "2022-05-05T21:16:29.679107Z",
     "start_time": "2022-05-05T21:16:29.664103Z"
    }
   },
   "outputs": [
    {
     "data": {
      "text/plain": [
       "(256, 256, 3)"
      ]
     },
     "execution_count": 92,
     "metadata": {},
     "output_type": "execute_result"
    }
   ],
   "source": [
    "t.shape"
   ]
  },
  {
   "cell_type": "code",
   "execution_count": 90,
   "id": "b389e665",
   "metadata": {
    "ExecuteTime": {
     "end_time": "2022-05-05T21:16:23.684880Z",
     "start_time": "2022-05-05T21:16:23.671876Z"
    }
   },
   "outputs": [
    {
     "ename": "ValueError",
     "evalue": "cannot reshape array of size 196608 into shape (16,16,3)",
     "output_type": "error",
     "traceback": [
      "\u001b[1;31m---------------------------------------------------------------------------\u001b[0m",
      "\u001b[1;31mValueError\u001b[0m                                Traceback (most recent call last)",
      "\u001b[1;32m<ipython-input-90-432d3d65f43f>\u001b[0m in \u001b[0;36m<module>\u001b[1;34m\u001b[0m\n\u001b[1;32m----> 1\u001b[1;33m \u001b[0mplt\u001b[0m\u001b[1;33m.\u001b[0m\u001b[0mimshow\u001b[0m\u001b[1;33m(\u001b[0m\u001b[0mt\u001b[0m\u001b[1;33m.\u001b[0m\u001b[0mreshape\u001b[0m\u001b[1;33m(\u001b[0m\u001b[1;36m16\u001b[0m\u001b[1;33m,\u001b[0m\u001b[1;36m16\u001b[0m\u001b[1;33m,\u001b[0m\u001b[1;36m3\u001b[0m\u001b[1;33m)\u001b[0m\u001b[1;33m)\u001b[0m\u001b[1;33m\u001b[0m\u001b[1;33m\u001b[0m\u001b[0m\n\u001b[0m",
      "\u001b[1;31mValueError\u001b[0m: cannot reshape array of size 196608 into shape (16,16,3)"
     ]
    }
   ],
   "source": [
    "plt.imshow(t.reshape(16,16,3))"
   ]
  },
  {
   "cell_type": "code",
   "execution_count": 107,
   "id": "62786b4e",
   "metadata": {
    "ExecuteTime": {
     "end_time": "2022-05-05T21:34:38.293090Z",
     "start_time": "2022-05-05T21:34:38.279087Z"
    }
   },
   "outputs": [],
   "source": [
    "RGB_blue_supertile = np.zeros((2, 2, 1))\n",
    "for i in range(1,256):\n",
    "    RGB_blue_supertile = np.hstack([RGB_blue_supertile,i*np.ones((2, 2, 1))])"
   ]
  },
  {
   "cell_type": "code",
   "execution_count": 108,
   "id": "151a8b32",
   "metadata": {
    "ExecuteTime": {
     "end_time": "2022-05-05T21:34:38.695752Z",
     "start_time": "2022-05-05T21:34:38.678749Z"
    }
   },
   "outputs": [
    {
     "data": {
      "text/plain": [
       "(2, 512, 1)"
      ]
     },
     "execution_count": 108,
     "metadata": {},
     "output_type": "execute_result"
    }
   ],
   "source": [
    "RGB_blue_supertile.shape"
   ]
  },
  {
   "cell_type": "code",
   "execution_count": 114,
   "id": "5460342d",
   "metadata": {
    "ExecuteTime": {
     "end_time": "2022-05-05T22:09:42.982820Z",
     "start_time": "2022-05-05T22:09:42.867794Z"
    }
   },
   "outputs": [
    {
     "data": {
      "text/plain": [
       "<matplotlib.image.AxesImage at 0x2d1250dc1f0>"
      ]
     },
     "execution_count": 114,
     "metadata": {},
     "output_type": "execute_result"
    },
    {
     "data": {
      "image/png": "[encoded data removed]",
      "text/plain": [
       "<Figure size 432x288 with 1 Axes>"
      ]
     },
     "metadata": {
      "needs_background": "light"
     },
     "output_type": "display_data"
    }
   ],
   "source": [
    "plt.imshow(RGB_blue_supertile.reshape(32,32,1), aspect='auto')"
   ]
  },
  {
   "cell_type": "code",
   "execution_count": null,
   "id": "960a8dc3",
   "metadata": {},
   "outputs": [],
   "source": []
  }
 ],
 "metadata": {
  "kernelspec": {
   "display_name": "Python (learn-env)",
   "language": "python",
   "name": "learn-env"
  },
  "language_info": {
   "codemirror_mode": {
    "name": "ipython",
    "version": 3
   },
   "file_extension": ".py",
   "mimetype": "text/x-python",
   "name": "python",
   "nbconvert_exporter": "python",
   "pygments_lexer": "ipython3",
   "version": "3.8.5"
  },
  "toc": {
   "base_numbering": 1,
   "nav_menu": {},
   "number_sections": true,
   "sideBar": true,
   "skip_h1_title": false,
   "title_cell": "Table of Contents",
   "title_sidebar": "Contents",
   "toc_cell": false,
   "toc_position": {
    "height": "calc(100% - 180px)",
    "left": "10px",
    "top": "150px",
    "width": "273px"
   },
   "toc_section_display": true,
   "toc_window_display": false
  },
  "varInspector": {
   "cols": {
    "lenName": 16,
    "lenType": 16,
    "lenVar": 40
   },
   "kernels_config": {
    "python": {
     "delete_cmd_postfix": "",
     "delete_cmd_prefix": "del ",
     "library": "var_list.py",
     "varRefreshCmd": "print(var_dic_list())"
    },
    "r": {
     "delete_cmd_postfix": ") ",
     "delete_cmd_prefix": "rm(",
     "library": "var_list.r",
     "varRefreshCmd": "cat(var_dic_list()) "
    }
   },
   "types_to_exclude": [
    "module",
    "function",
    "builtin_function_or_method",
    "instance",
    "_Feature"
   ],
   "window_display": false
  }
 },
 "nbformat": 4,
 "nbformat_minor": 5
}
