{
 "cells": [
  {
   "cell_type": "markdown",
   "id": "85f7fc49",
   "metadata": {},
   "source": [
    "# Basics"
   ]
  },
  {
   "cell_type": "code",
   "execution_count": 1,
   "id": "57c5746a",
   "metadata": {
    "ExecuteTime": {
     "end_time": "2022-05-04T21:27:50.707043Z",
     "start_time": "2022-05-04T21:27:50.377251Z"
    }
   },
   "outputs": [],
   "source": [
    "import matplotlib.pyplot as plt\n",
    "import numpy as np"
   ]
  },
  {
   "cell_type": "markdown",
   "id": "72392dce",
   "metadata": {},
   "source": [
    "Lets start with grayscale"
   ]
  },
  {
   "cell_type": "markdown",
   "id": "5925837c",
   "metadata": {
    "ExecuteTime": {
     "end_time": "2022-05-04T21:27:39.007093Z",
     "start_time": "2022-05-04T21:27:38.992089Z"
    }
   },
   "source": [
    "This plots two pixels"
   ]
  },
  {
   "cell_type": "code",
   "execution_count": 2,
   "id": "74185374",
   "metadata": {
    "ExecuteTime": {
     "end_time": "2022-05-04T21:27:50.863078Z",
     "start_time": "2022-05-04T21:27:50.708044Z"
    },
    "scrolled": true
   },
   "outputs": [
    {
     "data": {
      "text/plain": [
       "<matplotlib.image.AxesImage at 0x27098199490>"
      ]
     },
     "execution_count": 2,
     "metadata": {},
     "output_type": "execute_result"
    },
    {
     "data": {
      "image/png": "[encoded data removed]",
      "text/plain": [
       "<Figure size 432x288 with 1 Axes>"
      ]
     },
     "metadata": {
      "needs_background": "light"
     },
     "output_type": "display_data"
    }
   ],
   "source": [
    "# plt image show is a method that plots an image by looking at a 2-D matrix\n",
    "# lowest value in list is white, highest being black\n",
    "plt.imshow([[0,1]], cmap='Greys')"
   ]
  },
  {
   "cell_type": "code",
   "execution_count": 3,
   "id": "054734ae",
   "metadata": {
    "ExecuteTime": {
     "end_time": "2022-05-04T21:27:50.987106Z",
     "start_time": "2022-05-04T21:27:50.865079Z"
    },
    "scrolled": true
   },
   "outputs": [
    {
     "data": {
      "text/plain": [
       "<matplotlib.image.AxesImage at 0x2709828d520>"
      ]
     },
     "execution_count": 3,
     "metadata": {},
     "output_type": "execute_result"
    },
    {
     "data": {
      "image/png": "[encoded data removed]",
      "text/plain": [
       "<Figure size 432x288 with 1 Axes>"
      ]
     },
     "metadata": {
      "needs_background": "light"
     },
     "output_type": "display_data"
    }
   ],
   "source": [
    "# Note 0 does not mean white. it was just the lowest value. So for example\n",
    "plt.imshow([[-1,0]], cmap='Greys')"
   ]
  },
  {
   "cell_type": "markdown",
   "id": "acbf31d4",
   "metadata": {},
   "source": [
    "So what about 3 values?"
   ]
  },
  {
   "cell_type": "code",
   "execution_count": 4,
   "id": "e44409c7",
   "metadata": {
    "ExecuteTime": {
     "end_time": "2022-05-04T21:27:51.097131Z",
     "start_time": "2022-05-04T21:27:50.988106Z"
    },
    "scrolled": true
   },
   "outputs": [
    {
     "data": {
      "text/plain": [
       "<matplotlib.image.AxesImage at 0x270982eb970>"
      ]
     },
     "execution_count": 4,
     "metadata": {},
     "output_type": "execute_result"
    },
    {
     "data": {
      "image/png": "[encoded data removed]",
      "text/plain": [
       "<Figure size 432x288 with 1 Axes>"
      ]
     },
     "metadata": {
      "needs_background": "light"
     },
     "output_type": "display_data"
    }
   ],
   "source": [
    "plt.imshow([[-1,0,1]], cmap='Greys')"
   ]
  },
  {
   "cell_type": "markdown",
   "id": "5f8d6832",
   "metadata": {},
   "source": [
    "Do you have to use greys?"
   ]
  },
  {
   "cell_type": "code",
   "execution_count": 5,
   "id": "8d4cf36b",
   "metadata": {
    "ExecuteTime": {
     "end_time": "2022-05-04T21:27:51.208156Z",
     "start_time": "2022-05-04T21:27:51.099131Z"
    },
    "scrolled": false
   },
   "outputs": [
    {
     "data": {
      "text/plain": [
       "<matplotlib.image.AxesImage at 0x27098344910>"
      ]
     },
     "execution_count": 5,
     "metadata": {},
     "output_type": "execute_result"
    },
    {
     "data": {
      "image/png": "[encoded data removed]",
      "text/plain": [
       "<Figure size 432x288 with 1 Axes>"
      ]
     },
     "metadata": {
      "needs_background": "light"
     },
     "output_type": "display_data"
    }
   ],
   "source": [
    "plt.imshow([[-1,0,1]], cmap='Blues')"
   ]
  },
  {
   "cell_type": "code",
   "execution_count": 37,
   "id": "bd9d0a24",
   "metadata": {
    "ExecuteTime": {
     "end_time": "2022-05-04T21:28:33.133729Z",
     "start_time": "2022-05-04T21:28:33.031706Z"
    }
   },
   "outputs": [
    {
     "data": {
      "text/plain": [
       "<matplotlib.image.AxesImage at 0x270988f7760>"
      ]
     },
     "execution_count": 37,
     "metadata": {},
     "output_type": "execute_result"
    },
    {
     "data": {
      "image/png": "[encoded data removed]",
      "text/plain": [
       "<Figure size 432x288 with 1 Axes>"
      ]
     },
     "metadata": {
      "needs_background": "light"
     },
     "output_type": "display_data"
    }
   ],
   "source": [
    "#Default color pallete. Python uses as distinct a color pallette\n",
    "plt.imshow([[-1,0,1]])"
   ]
  },
  {
   "cell_type": "markdown",
   "id": "738cd9c7",
   "metadata": {},
   "source": [
    "Its standard convention for single channel images to show in grey, but any color map can be used. Think about it, if we were to break images down on color spectrum we think of color/b&w pictures as a basic grouping.\n",
    "\n",
    "Depending upon the 'bitdepth', the more range of values in the data, and as you can imagine, more shades appear."
   ]
  },
  {
   "cell_type": "code",
   "execution_count": 38,
   "id": "a2d79343",
   "metadata": {
    "ExecuteTime": {
     "end_time": "2022-05-04T21:30:41.642417Z",
     "start_time": "2022-05-04T21:30:41.527391Z"
    },
    "scrolled": false
   },
   "outputs": [
    {
     "data": {
      "text/plain": [
       "<matplotlib.image.AxesImage at 0x2709894b9a0>"
      ]
     },
     "execution_count": 38,
     "metadata": {},
     "output_type": "execute_result"
    },
    {
     "data": {
      "image/png": "[encoded data removed]",
      "text/plain": [
       "<Figure size 432x288 with 1 Axes>"
      ]
     },
     "metadata": {
      "needs_background": "light"
     },
     "output_type": "display_data"
    }
   ],
   "source": [
    "#1-bit\n",
    "plt.imshow([[0,1]], cmap='Greys')"
   ]
  },
  {
   "cell_type": "code",
   "execution_count": 39,
   "id": "99517b9c",
   "metadata": {
    "ExecuteTime": {
     "end_time": "2022-05-04T21:30:45.791494Z",
     "start_time": "2022-05-04T21:30:45.680470Z"
    },
    "scrolled": false
   },
   "outputs": [
    {
     "data": {
      "text/plain": [
       "<matplotlib.image.AxesImage at 0x270989a5550>"
      ]
     },
     "execution_count": 39,
     "metadata": {},
     "output_type": "execute_result"
    },
    {
     "data": {
      "image/png": "[encoded data removed]",
      "text/plain": [
       "<Figure size 432x288 with 1 Axes>"
      ]
     },
     "metadata": {
      "needs_background": "light"
     },
     "output_type": "display_data"
    }
   ],
   "source": [
    "#2-bit\n",
    "plt.imshow([[0,1,2,3]], cmap='Greys')"
   ]
  },
  {
   "cell_type": "code",
   "execution_count": 96,
   "id": "ddb3cdb0",
   "metadata": {
    "ExecuteTime": {
     "end_time": "2022-05-04T21:53:22.902891Z",
     "start_time": "2022-05-04T21:53:22.797771Z"
    },
    "scrolled": false
   },
   "outputs": [
    {
     "data": {
      "text/plain": [
       "<matplotlib.image.AxesImage at 0x2709a46ea00>"
      ]
     },
     "execution_count": 96,
     "metadata": {},
     "output_type": "execute_result"
    },
    {
     "data": {
      "image/png": "[encoded data removed]",
      "text/plain": [
       "<Figure size 432x288 with 1 Axes>"
      ]
     },
     "metadata": {
      "needs_background": "light"
     },
     "output_type": "display_data"
    }
   ],
   "source": [
    "#3-bit\n",
    "plt.imshow([[0,1,2,3,4,5,6,7]], cmap='Greys')"
   ]
  },
  {
   "cell_type": "code",
   "execution_count": 41,
   "id": "e6083ea6",
   "metadata": {
    "ExecuteTime": {
     "end_time": "2022-05-04T21:30:52.922945Z",
     "start_time": "2022-05-04T21:30:52.759908Z"
    },
    "scrolled": true
   },
   "outputs": [
    {
     "data": {
      "text/plain": [
       "<matplotlib.image.AxesImage at 0x27098696850>"
      ]
     },
     "execution_count": 41,
     "metadata": {},
     "output_type": "execute_result"
    },
    {
     "data": {
      "image/png": "[encoded data removed]",
      "text/plain": [
       "<Figure size 432x288 with 1 Axes>"
      ]
     },
     "metadata": {
      "needs_background": "light"
     },
     "output_type": "display_data"
    }
   ],
   "source": [
    "#4-bit (1byte)\n",
    "plt.imshow([[0,1,2,3,4,5,6,7,8,9,10,11,12,13,14,15]], cmap='Greys')"
   ]
  },
  {
   "cell_type": "markdown",
   "id": "2d2d89fb",
   "metadata": {},
   "source": [
    "Everyday images are in general 8-bit, which is why you'll see values ranging from 0-255"
   ]
  },
  {
   "cell_type": "code",
   "execution_count": 42,
   "id": "4c5f7c62",
   "metadata": {
    "ExecuteTime": {
     "end_time": "2022-05-04T21:31:02.596890Z",
     "start_time": "2022-05-04T21:31:02.578886Z"
    }
   },
   "outputs": [
    {
     "data": {
      "text/plain": [
       "array([  0,   1,   2,   3,   4,   5,   6,   7,   8,   9,  10,  11,  12,\n",
       "        13,  14,  15,  16,  17,  18,  19,  20,  21,  22,  23,  24,  25,\n",
       "        26,  27,  28,  29,  30,  31,  32,  33,  34,  35,  36,  37,  38,\n",
       "        39,  40,  41,  42,  43,  44,  45,  46,  47,  48,  49,  50,  51,\n",
       "        52,  53,  54,  55,  56,  57,  58,  59,  60,  61,  62,  63,  64,\n",
       "        65,  66,  67,  68,  69,  70,  71,  72,  73,  74,  75,  76,  77,\n",
       "        78,  79,  80,  81,  82,  83,  84,  85,  86,  87,  88,  89,  90,\n",
       "        91,  92,  93,  94,  95,  96,  97,  98,  99, 100, 101, 102, 103,\n",
       "       104, 105, 106, 107, 108, 109, 110, 111, 112, 113, 114, 115, 116,\n",
       "       117, 118, 119, 120, 121, 122, 123, 124, 125, 126, 127, 128, 129,\n",
       "       130, 131, 132, 133, 134, 135, 136, 137, 138, 139, 140, 141, 142,\n",
       "       143, 144, 145, 146, 147, 148, 149, 150, 151, 152, 153, 154, 155,\n",
       "       156, 157, 158, 159, 160, 161, 162, 163, 164, 165, 166, 167, 168,\n",
       "       169, 170, 171, 172, 173, 174, 175, 176, 177, 178, 179, 180, 181,\n",
       "       182, 183, 184, 185, 186, 187, 188, 189, 190, 191, 192, 193, 194,\n",
       "       195, 196, 197, 198, 199, 200, 201, 202, 203, 204, 205, 206, 207,\n",
       "       208, 209, 210, 211, 212, 213, 214, 215, 216, 217, 218, 219, 220,\n",
       "       221, 222, 223, 224, 225, 226, 227, 228, 229, 230, 231, 232, 233,\n",
       "       234, 235, 236, 237, 238, 239, 240, 241, 242, 243, 244, 245, 246,\n",
       "       247, 248, 249, 250, 251, 252, 253, 254, 255])"
      ]
     },
     "execution_count": 42,
     "metadata": {},
     "output_type": "execute_result"
    }
   ],
   "source": [
    "bit8_array = np.arange(0,256)\n",
    "bit8_array"
   ]
  },
  {
   "cell_type": "code",
   "execution_count": 148,
   "id": "ddd7c6f0",
   "metadata": {
    "ExecuteTime": {
     "end_time": "2022-05-04T22:13:52.279177Z",
     "start_time": "2022-05-04T22:13:52.069118Z"
    },
    "scrolled": false
   },
   "outputs": [
    {
     "data": {
      "text/plain": [
       "<matplotlib.image.AxesImage at 0x2709bd4fdc0>"
      ]
     },
     "execution_count": 148,
     "metadata": {},
     "output_type": "execute_result"
    },
    {
     "data": {
      "image/png": "[encoded data removed]",
      "text/plain": [
       "<Figure size 432x288 with 1 Axes>"
      ]
     },
     "metadata": {
      "needs_background": "light"
     },
     "output_type": "display_data"
    }
   ],
   "source": [
    "#4-bit (1byte)\n",
    "plt.imshow([bit8_array], cmap='Greys')"
   ]
  },
  {
   "cell_type": "markdown",
   "id": "5a663c54",
   "metadata": {},
   "source": [
    "Imshow has a hard time displaying all of it on 1-D\n",
    "\n",
    "We can change the aspect ratio so we can better see the gradient."
   ]
  },
  {
   "cell_type": "code",
   "execution_count": 150,
   "id": "f0805249",
   "metadata": {
    "ExecuteTime": {
     "end_time": "2022-05-04T22:15:23.064229Z",
     "start_time": "2022-05-04T22:15:22.797169Z"
    },
    "scrolled": false
   },
   "outputs": [
    {
     "data": {
      "text/plain": [
       "<matplotlib.image.AxesImage at 0x2709bda0c40>"
      ]
     },
     "execution_count": 150,
     "metadata": {},
     "output_type": "execute_result"
    },
    {
     "data": {
      "image/png": "[encoded data removed]",
      "text/plain": [
       "<Figure size 432x288 with 1 Axes>"
      ]
     },
     "metadata": {
      "needs_background": "light"
     },
     "output_type": "display_data"
    }
   ],
   "source": [
    "#4-bit (1byte)\n",
    "plt.imshow([bit8_array], cmap='Greys', aspect='auto')"
   ]
  },
  {
   "cell_type": "markdown",
   "id": "ce1d2ca9",
   "metadata": {},
   "source": [
    "Having just 1 'channel' of image information is like having just 2-D data information, like in the examples above\n"
   ]
  },
  {
   "cell_type": "markdown",
   "id": "e464da37",
   "metadata": {},
   "source": [
    "However, in RGB, you have 3 channels of information. So imagine a 3-D tensor. Yeah, 3-D information for a 2-D image.\n",
    "Each channel will contain information for each color, pixel by pixel.\n",
    "\n",
    "\n",
    "\n",
    "So for a _8-bit_ RGB image\n",
    "\n",
    "__R channel__: an array of values 0-255 just showing red values\n",
    "\n",
    "__G channel__: an array of values 0-255 just showing green values\n",
    "\n",
    "__B channel__: an array of values 0-255 just showing blue values"
   ]
  },
  {
   "cell_type": "markdown",
   "id": "2a10cff6",
   "metadata": {},
   "source": [
    "### NOTE: \n",
    "Even though imshow has so far been using \n",
    "\n",
    "lowest_value:white\n",
    "\n",
    "highest_value:black\n",
    "\n",
    "\n",
    "\n",
    "__Standard convention for RGB images__\n",
    "\n",
    "0:black\n",
    "\n",
    "255: maximum color (channel respective. eg: R channel, 255 max red)\n",
    "\n",
    "\n",
    "\n",
    "__Therefore, for RGB images__\n",
    "\n",
    "black pixel is [0,0,0]\n",
    "\n",
    "white pixel is [255,255,255]\n",
    "\n",
    "red pixel is [255,0,0]\n",
    "\n",
    "green pixel is [0,255,0]\n",
    "\n",
    "blue pixel is [0,0,255]\n",
    "\n",
    "mid gray is [125,125,125]\n"
   ]
  },
  {
   "cell_type": "markdown",
   "id": "21eadbbe",
   "metadata": {},
   "source": [
    "General convention of image dimensions when being used in imshow (and just about anywhere else), the first 2 are width x height (Think 1920x1080)\n",
    "3rd implies channels.\n",
    "\n",
    "Lets startsimple.\\\n",
    "Lets create a 4bit RGB image"
   ]
  },
  {
   "cell_type": "code",
   "execution_count": 173,
   "id": "c040a3bf",
   "metadata": {
    "ExecuteTime": {
     "end_time": "2022-05-04T22:26:21.970657Z",
     "start_time": "2022-05-04T22:26:21.954696Z"
    }
   },
   "outputs": [
    {
     "data": {
      "text/plain": [
       "(1, 256, 3)"
      ]
     },
     "execution_count": 173,
     "metadata": {},
     "output_type": "execute_result"
    }
   ],
   "source": [
    "bit4_channel = np.arange(0,256)\n",
    "RGB = np.dstack([bit4_channel,bit4_channel,bit4_channel]).reshape(1,256,3)\n",
    "RGB.shape"
   ]
  },
  {
   "cell_type": "markdown",
   "id": "1c789766",
   "metadata": {},
   "source": [
    "So this is a 16x16 image with 3 channels. "
   ]
  },
  {
   "cell_type": "markdown",
   "id": "b93b5f43",
   "metadata": {},
   "source": [
    "So, RGB here is \"3-D\", width: 256, height: 1, channels:3"
   ]
  },
  {
   "cell_type": "code",
   "execution_count": 176,
   "id": "736308f7",
   "metadata": {
    "ExecuteTime": {
     "end_time": "2022-05-04T22:28:06.267935Z",
     "start_time": "2022-05-04T22:28:06.029882Z"
    },
    "scrolled": false
   },
   "outputs": [
    {
     "data": {
      "text/plain": [
       "<matplotlib.image.AxesImage at 0x2709cec0460>"
      ]
     },
     "execution_count": 176,
     "metadata": {},
     "output_type": "execute_result"
    },
    {
     "data": {
      "image/png": "[encoded data removed]",
      "text/plain": [
       "<Figure size 432x288 with 1 Axes>"
      ]
     },
     "metadata": {
      "needs_background": "light"
     },
     "output_type": "display_data"
    }
   ],
   "source": [
    "plt.imshow(RGB,aspect = 'auto')"
   ]
  },
  {
   "cell_type": "markdown",
   "id": "d8c66ea6",
   "metadata": {},
   "source": [
    "Ok... whats going on? Lets look at 0,0."
   ]
  },
  {
   "cell_type": "code",
   "execution_count": 177,
   "id": "87bb2b38",
   "metadata": {
    "ExecuteTime": {
     "end_time": "2022-05-04T22:28:15.643399Z",
     "start_time": "2022-05-04T22:28:15.636371Z"
    }
   },
   "outputs": [
    {
     "data": {
      "text/plain": [
       "array([0, 0, 0])"
      ]
     },
     "execution_count": 177,
     "metadata": {},
     "output_type": "execute_result"
    }
   ],
   "source": [
    "RGB[0,0]"
   ]
  },
  {
   "cell_type": "markdown",
   "id": "a2a1beff",
   "metadata": {},
   "source": [
    "R value: 0 (pure black)\\\n",
    "G value: 0 (pure black)\\\n",
    "B value: 0 (pure black)\\\n",
    "\n",
    "Result: pure black"
   ]
  },
  {
   "cell_type": "markdown",
   "id": "2dea59b4",
   "metadata": {},
   "source": [
    "Lets look at 0,125"
   ]
  },
  {
   "cell_type": "code",
   "execution_count": 179,
   "id": "38a06ab2",
   "metadata": {
    "ExecuteTime": {
     "end_time": "2022-05-04T22:29:20.607889Z",
     "start_time": "2022-05-04T22:29:20.600894Z"
    }
   },
   "outputs": [
    {
     "data": {
      "text/plain": [
       "array([125, 125, 125])"
      ]
     },
     "execution_count": 179,
     "metadata": {},
     "output_type": "execute_result"
    }
   ],
   "source": [
    "RGB[0,125]"
   ]
  },
  {
   "cell_type": "markdown",
   "id": "4343db56",
   "metadata": {
    "ExecuteTime": {
     "end_time": "2022-05-04T17:49:36.194744Z",
     "start_time": "2022-05-04T17:49:36.184742Z"
    }
   },
   "source": [
    "Ok. 125 on all channels\n",
    "\n",
    "Perfectly Gray\n",
    "\n",
    "Ok. So that means, perfectly white"
   ]
  },
  {
   "cell_type": "code",
   "execution_count": 180,
   "id": "5e4501e7",
   "metadata": {
    "ExecuteTime": {
     "end_time": "2022-05-04T22:30:29.464121Z",
     "start_time": "2022-05-04T22:30:29.447087Z"
    },
    "scrolled": false
   },
   "outputs": [
    {
     "data": {
      "text/plain": [
       "array([255, 255, 255])"
      ]
     },
     "execution_count": 180,
     "metadata": {},
     "output_type": "execute_result"
    }
   ],
   "source": [
    "RGB[0,255]"
   ]
  },
  {
   "cell_type": "markdown",
   "id": "d47646ab",
   "metadata": {},
   "source": [
    "## Total random channels"
   ]
  },
  {
   "cell_type": "markdown",
   "id": "70122af8",
   "metadata": {},
   "source": [
    "Lets randomize each channel"
   ]
  },
  {
   "cell_type": "code",
   "execution_count": 194,
   "id": "74d4d444",
   "metadata": {
    "ExecuteTime": {
     "end_time": "2022-05-04T22:34:13.893352Z",
     "start_time": "2022-05-04T22:34:13.662308Z"
    }
   },
   "outputs": [
    {
     "data": {
      "text/plain": [
       "<matplotlib.image.AxesImage at 0x2709e21bd30>"
      ]
     },
     "execution_count": 194,
     "metadata": {},
     "output_type": "execute_result"
    },
    {
     "data": {
      "image/png": "[encoded data removed]",
      "text/plain": [
       "<Figure size 432x288 with 1 Axes>"
      ]
     },
     "metadata": {
      "needs_background": "light"
     },
     "output_type": "display_data"
    }
   ],
   "source": [
    "random_RGB = np.random.randint(low=0,high=255,size=(1,256,3))\n",
    "plt.imshow(random_RGB,aspect='auto')"
   ]
  },
  {
   "cell_type": "markdown",
   "id": "2ca49f4d",
   "metadata": {},
   "source": [
    "Ok... not as pretty as I was hoping"
   ]
  },
  {
   "cell_type": "markdown",
   "id": "01f0bf82",
   "metadata": {},
   "source": [
    "## Red Gradient"
   ]
  },
  {
   "cell_type": "code",
   "execution_count": 232,
   "id": "169d96e6",
   "metadata": {
    "ExecuteTime": {
     "end_time": "2022-05-04T23:05:18.501302Z",
     "start_time": "2022-05-04T23:05:18.485300Z"
    }
   },
   "outputs": [],
   "source": [
    "r_channel = np.arange(0,256).reshape(1,256,1)\n",
    "g_channel = np.zeros((1,256,1),dtype=int)\n",
    "b_channel = np.zeros((1,256,1),dtype=int)"
   ]
  },
  {
   "cell_type": "code",
   "execution_count": 233,
   "id": "5cbee521",
   "metadata": {
    "ExecuteTime": {
     "end_time": "2022-05-04T23:05:19.022598Z",
     "start_time": "2022-05-04T23:05:19.005513Z"
    }
   },
   "outputs": [
    {
     "data": {
      "text/plain": [
       "(1, 256, 3)"
      ]
     },
     "execution_count": 233,
     "metadata": {},
     "output_type": "execute_result"
    }
   ],
   "source": [
    "RGB = np.dstack([r_channel,g_channel,b_channel])\n",
    "RGB.shape"
   ]
  },
  {
   "cell_type": "code",
   "execution_count": 245,
   "id": "01adeffd",
   "metadata": {
    "ExecuteTime": {
     "end_time": "2022-05-04T23:07:29.724233Z",
     "start_time": "2022-05-04T23:07:29.636818Z"
    },
    "scrolled": false
   },
   "outputs": [
    {
     "data": {
      "image/png": "[encoded data removed]",
      "text/plain": [
       "<Figure size 432x288 with 1 Axes>"
      ]
     },
     "metadata": {
      "needs_background": "light"
     },
     "output_type": "display_data"
    }
   ],
   "source": [
    " plt.imshow(RGB,aspect='auto');"
   ]
  },
  {
   "cell_type": "markdown",
   "id": "c86d016b",
   "metadata": {
    "ExecuteTime": {
     "end_time": "2022-05-04T23:05:38.876827Z",
     "start_time": "2022-05-04T23:05:38.869827Z"
    }
   },
   "source": [
    "## Green Gradient"
   ]
  },
  {
   "cell_type": "code",
   "execution_count": 237,
   "id": "8f85306a",
   "metadata": {
    "ExecuteTime": {
     "end_time": "2022-05-04T23:06:24.673661Z",
     "start_time": "2022-05-04T23:06:24.654656Z"
    }
   },
   "outputs": [],
   "source": [
    "r_channel = np.zeros((1,256,1),dtype=int)\n",
    "g_channel = np.arange(0,256).reshape(1,256,1)\n",
    "b_channel = np.zeros((1,256,1),dtype=int)"
   ]
  },
  {
   "cell_type": "code",
   "execution_count": 238,
   "id": "86012820",
   "metadata": {
    "ExecuteTime": {
     "end_time": "2022-05-04T23:06:25.034851Z",
     "start_time": "2022-05-04T23:06:25.028850Z"
    }
   },
   "outputs": [
    {
     "data": {
      "text/plain": [
       "(1, 256, 3)"
      ]
     },
     "execution_count": 238,
     "metadata": {},
     "output_type": "execute_result"
    }
   ],
   "source": [
    "RGB = np.dstack([r_channel,g_channel,b_channel])\n",
    "RGB.shape"
   ]
  },
  {
   "cell_type": "code",
   "execution_count": 244,
   "id": "eef1b62e",
   "metadata": {
    "ExecuteTime": {
     "end_time": "2022-05-04T23:07:27.203829Z",
     "start_time": "2022-05-04T23:07:27.116810Z"
    },
    "scrolled": true
   },
   "outputs": [
    {
     "data": {
      "image/png": "[encoded data removed]",
      "text/plain": [
       "<Figure size 432x288 with 1 Axes>"
      ]
     },
     "metadata": {
      "needs_background": "light"
     },
     "output_type": "display_data"
    }
   ],
   "source": [
    " plt.imshow(RGB,aspect='auto');"
   ]
  },
  {
   "cell_type": "markdown",
   "id": "76469c1a",
   "metadata": {
    "ExecuteTime": {
     "end_time": "2022-05-04T23:05:38.876827Z",
     "start_time": "2022-05-04T23:05:38.869827Z"
    }
   },
   "source": [
    "## Blue Gradient"
   ]
  },
  {
   "cell_type": "code",
   "execution_count": 240,
   "id": "70856952",
   "metadata": {
    "ExecuteTime": {
     "end_time": "2022-05-04T23:07:11.538842Z",
     "start_time": "2022-05-04T23:07:11.524840Z"
    }
   },
   "outputs": [],
   "source": [
    "r_channel = np.zeros((1,256,1),dtype=int)\n",
    "g_channel = np.zeros((1,256,1),dtype=int)\n",
    "b_channel = np.arange(0,256).reshape(1,256,1)"
   ]
  },
  {
   "cell_type": "code",
   "execution_count": 241,
   "id": "cec894e1",
   "metadata": {
    "ExecuteTime": {
     "end_time": "2022-05-04T23:07:11.775782Z",
     "start_time": "2022-05-04T23:07:11.757779Z"
    }
   },
   "outputs": [
    {
     "data": {
      "text/plain": [
       "(1, 256, 3)"
      ]
     },
     "execution_count": 241,
     "metadata": {},
     "output_type": "execute_result"
    }
   ],
   "source": [
    "RGB = np.dstack([r_channel,g_channel,b_channel])\n",
    "RGB.shape"
   ]
  },
  {
   "cell_type": "code",
   "execution_count": 243,
   "id": "d9f4abd0",
   "metadata": {
    "ExecuteTime": {
     "end_time": "2022-05-04T23:07:25.246252Z",
     "start_time": "2022-05-04T23:07:25.150267Z"
    },
    "scrolled": true
   },
   "outputs": [
    {
     "data": {
      "image/png": "[encoded data removed]",
      "text/plain": [
       "<Figure size 432x288 with 1 Axes>"
      ]
     },
     "metadata": {
      "needs_background": "light"
     },
     "output_type": "display_data"
    }
   ],
   "source": [
    " plt.imshow(RGB,aspect='auto');"
   ]
  },
  {
   "cell_type": "code",
   "execution_count": 89,
   "id": "f6ff0305",
   "metadata": {
    "ExecuteTime": {
     "end_time": "2022-05-04T21:50:59.700514Z",
     "start_time": "2022-05-04T21:50:59.693512Z"
    },
    "scrolled": true
   },
   "outputs": [],
   "source": [
    "bit4_channel_R = np.arange(0,256,1).reshape(16,16)\n",
    "bit4_channel_G = np.hstack([np.arange(0,256,1),np.arange(255,-1,-1)])[::2].reshape(16,16)\n",
    "\n",
    "bit4_channel_B = np.hstack([np.arange(0,256,1),\n",
    "                            np.arange(255,-1,-1),\n",
    "                           np.arange(0,256,1)])[::3].reshape(16,16)"
   ]
  },
  {
   "cell_type": "code",
   "execution_count": 90,
   "id": "ed6fa53c",
   "metadata": {
    "ExecuteTime": {
     "end_time": "2022-05-04T21:51:00.058187Z",
     "start_time": "2022-05-04T21:51:00.050185Z"
    }
   },
   "outputs": [
    {
     "data": {
      "text/plain": [
       "((16, 16), (16, 16), (16, 16))"
      ]
     },
     "execution_count": 90,
     "metadata": {},
     "output_type": "execute_result"
    }
   ],
   "source": [
    "bit4_channel_R.shape, bit4_channel_G.shape, bit4_channel_B.shape"
   ]
  },
  {
   "cell_type": "code",
   "execution_count": 91,
   "id": "a5192a6f",
   "metadata": {
    "ExecuteTime": {
     "end_time": "2022-05-04T21:51:00.600438Z",
     "start_time": "2022-05-04T21:51:00.477410Z"
    }
   },
   "outputs": [
    {
     "data": {
      "text/plain": [
       "<matplotlib.image.AxesImage at 0x27099c6a0d0>"
      ]
     },
     "execution_count": 91,
     "metadata": {},
     "output_type": "execute_result"
    },
    {
     "data": {
      "image/png": "[encoded data removed]",
      "text/plain": [
       "<Figure size 432x288 with 1 Axes>"
      ]
     },
     "metadata": {
      "needs_background": "light"
     },
     "output_type": "display_data"
    }
   ],
   "source": [
    " plt.imshow(bit4_channel_R,'Reds',)"
   ]
  },
  {
   "cell_type": "code",
   "execution_count": 92,
   "id": "3a254a24",
   "metadata": {
    "ExecuteTime": {
     "end_time": "2022-05-04T21:51:00.943666Z",
     "start_time": "2022-05-04T21:51:00.821483Z"
    }
   },
   "outputs": [
    {
     "data": {
      "text/plain": [
       "<matplotlib.image.AxesImage at 0x2709a2dffa0>"
      ]
     },
     "execution_count": 92,
     "metadata": {},
     "output_type": "execute_result"
    },
    {
     "data": {
      "image/png": "[encoded data removed]",
      "text/plain": [
       "<Figure size 432x288 with 1 Axes>"
      ]
     },
     "metadata": {
      "needs_background": "light"
     },
     "output_type": "display_data"
    }
   ],
   "source": [
    " plt.imshow(bit4_channel_G,'Greens',)"
   ]
  },
  {
   "cell_type": "code",
   "execution_count": 93,
   "id": "7ab83469",
   "metadata": {
    "ExecuteTime": {
     "end_time": "2022-05-04T21:51:01.298364Z",
     "start_time": "2022-05-04T21:51:01.181805Z"
    },
    "scrolled": true
   },
   "outputs": [
    {
     "data": {
      "text/plain": [
       "<matplotlib.image.AxesImage at 0x2709a3b1340>"
      ]
     },
     "execution_count": 93,
     "metadata": {},
     "output_type": "execute_result"
    },
    {
     "data": {
      "image/png": "[encoded data removed]",
      "text/plain": [
       "<Figure size 432x288 with 1 Axes>"
      ]
     },
     "metadata": {
      "needs_background": "light"
     },
     "output_type": "display_data"
    }
   ],
   "source": [
    " plt.imshow(bit4_channel_B,'Blues',)"
   ]
  },
  {
   "cell_type": "code",
   "execution_count": 94,
   "id": "f0afe1c1",
   "metadata": {
    "ExecuteTime": {
     "end_time": "2022-05-04T21:51:03.688173Z",
     "start_time": "2022-05-04T21:51:03.677170Z"
    },
    "scrolled": true
   },
   "outputs": [
    {
     "data": {
      "text/plain": [
       "(16, 16, 3)"
      ]
     },
     "execution_count": 94,
     "metadata": {},
     "output_type": "execute_result"
    }
   ],
   "source": [
    "RGB_new = np.dstack([bit4_channel_R,\n",
    "                  bit4_channel_G,\n",
    "                  bit4_channel_B])\n",
    "RGB_new.shape"
   ]
  },
  {
   "cell_type": "code",
   "execution_count": 95,
   "id": "46575dad",
   "metadata": {
    "ExecuteTime": {
     "end_time": "2022-05-04T21:51:04.001531Z",
     "start_time": "2022-05-04T21:51:03.887506Z"
    },
    "scrolled": true
   },
   "outputs": [
    {
     "data": {
      "text/plain": [
       "<matplotlib.image.AxesImage at 0x2709a40cd30>"
      ]
     },
     "execution_count": 95,
     "metadata": {},
     "output_type": "execute_result"
    },
    {
     "data": {
      "image/png": "[encoded data removed]",
      "text/plain": [
       "<Figure size 432x288 with 1 Axes>"
      ]
     },
     "metadata": {
      "needs_background": "light"
     },
     "output_type": "display_data"
    }
   ],
   "source": [
    " plt.imshow(RGB_new)"
   ]
  },
  {
   "cell_type": "markdown",
   "id": "6ff8597c",
   "metadata": {},
   "source": [
    "Pretty. Lets look at a few points"
   ]
  },
  {
   "cell_type": "code",
   "execution_count": 85,
   "id": "b6ebc089",
   "metadata": {
    "ExecuteTime": {
     "end_time": "2022-05-04T21:49:34.726905Z",
     "start_time": "2022-05-04T21:49:34.717904Z"
    }
   },
   "outputs": [
    {
     "name": "stdout",
     "output_type": "stream",
     "text": [
      "TopLeft: [0 0 0]\n",
      "TopRight: [240  31 208]\n",
      "BottomLeft: [15 30 45]\n",
      "BottomRight: [255   1 253]\n"
     ]
    }
   ],
   "source": [
    "print(f'TopLeft: {RGB_new[0,0]}')\n",
    "print(f'TopRight: {RGB_new[15,0]}')\n",
    "print(f'BottomLeft: {RGB_new[0,15]}')\n",
    "print(f'BottomRight: {RGB_new[15,15]}')"
   ]
  },
  {
   "cell_type": "markdown",
   "id": "76efca02",
   "metadata": {},
   "source": [
    "Cool. Lets plot this as a gradient. Lets look at the tile method. All it does it can stack multiple copies of the same array."
   ]
  },
  {
   "cell_type": "code",
   "execution_count": 106,
   "id": "f684bc18",
   "metadata": {
    "ExecuteTime": {
     "end_time": "2022-05-04T21:59:10.079032Z",
     "start_time": "2022-05-04T21:59:10.061029Z"
    }
   },
   "outputs": [
    {
     "data": {
      "text/plain": [
       "array([0, 1, 2, 3, 4, 5, 6, 7])"
      ]
     },
     "execution_count": 106,
     "metadata": {},
     "output_type": "execute_result"
    }
   ],
   "source": [
    "# Lets look a the tile method\n",
    "bit3_1D = np.arange(0,8)\n",
    "bit3_1D"
   ]
  },
  {
   "cell_type": "code",
   "execution_count": 113,
   "id": "24e91ac6",
   "metadata": {
    "ExecuteTime": {
     "end_time": "2022-05-04T22:01:07.728152Z",
     "start_time": "2022-05-04T22:01:07.724151Z"
    }
   },
   "outputs": [
    {
     "data": {
      "text/plain": [
       "array([[0, 1, 2, 3, 4, 5, 6, 7],\n",
       "       [0, 1, 2, 3, 4, 5, 6, 7],\n",
       "       [0, 1, 2, 3, 4, 5, 6, 7]])"
      ]
     },
     "execution_count": 113,
     "metadata": {},
     "output_type": "execute_result"
    }
   ],
   "source": [
    "bit3_1D_tiled = np.tile(bit3_1D,(3,1))\n",
    "bit3_1D_tiled"
   ]
  },
  {
   "cell_type": "code",
   "execution_count": 112,
   "id": "f6df058b",
   "metadata": {
    "ExecuteTime": {
     "end_time": "2022-05-04T22:01:02.236420Z",
     "start_time": "2022-05-04T22:01:02.117401Z"
    }
   },
   "outputs": [
    {
     "data": {
      "text/plain": [
       "<matplotlib.image.AxesImage at 0x2709b5f6970>"
      ]
     },
     "execution_count": 112,
     "metadata": {},
     "output_type": "execute_result"
    },
    {
     "data": {
      "image/png": "[encoded data removed]",
      "text/plain": [
       "<Figure size 432x288 with 1 Axes>"
      ]
     },
     "metadata": {
      "needs_background": "light"
     },
     "output_type": "display_data"
    }
   ],
   "source": [
    "plt.imshow(bit3_1D_tiled, cmap='Greys')"
   ]
  },
  {
   "cell_type": "markdown",
   "id": "f1704536",
   "metadata": {},
   "source": [
    "Lets replicate this for our color image from above"
   ]
  },
  {
   "cell_type": "code",
   "execution_count": 137,
   "id": "34f7c67f",
   "metadata": {
    "ExecuteTime": {
     "end_time": "2022-05-04T22:06:39.440485Z",
     "start_time": "2022-05-04T22:06:39.427483Z"
    }
   },
   "outputs": [],
   "source": [
    "bit4_channel_R = np.arange(0,256,1)\n",
    "bit4_channel_G = np.hstack([np.arange(0,256,1),np.arange(255,-1,-1)])[::2]\n",
    "\n",
    "bit4_channel_B = np.hstack([np.arange(0,256,1),\n",
    "                            np.arange(255,-1,-1),\n",
    "                           np.arange(0,256,1)])[::3]"
   ]
  },
  {
   "cell_type": "code",
   "execution_count": 142,
   "id": "95e661e0",
   "metadata": {
    "ExecuteTime": {
     "end_time": "2022-05-04T22:07:03.227218Z",
     "start_time": "2022-05-04T22:07:03.221218Z"
    }
   },
   "outputs": [],
   "source": [
    "numberOfTiles = 100\n",
    "bit4_channel_R_tiled = np.tile(bit4_channel_R,(numberOfTiles,1))\n",
    "bit4_channel_G_tiled = np.tile(bit4_channel_G,(numberOfTiles,1))\n",
    "bit4_channel_B_tiled = np.tile(bit4_channel_B,(numberOfTiles,1))"
   ]
  },
  {
   "cell_type": "code",
   "execution_count": 143,
   "id": "4e584f71",
   "metadata": {
    "ExecuteTime": {
     "end_time": "2022-05-04T22:07:03.429269Z",
     "start_time": "2022-05-04T22:07:03.414267Z"
    }
   },
   "outputs": [
    {
     "data": {
      "text/plain": [
       "(100, 256, 3)"
      ]
     },
     "execution_count": 143,
     "metadata": {},
     "output_type": "execute_result"
    }
   ],
   "source": [
    "RGB_new = np.dstack([bit4_channel_R_tiled,\n",
    "                  bit4_channel_G_tiled,\n",
    "                  bit4_channel_B_tiled])\n",
    "RGB_new.shape"
   ]
  },
  {
   "cell_type": "code",
   "execution_count": 146,
   "id": "dc003685",
   "metadata": {
    "ExecuteTime": {
     "end_time": "2022-05-04T22:13:38.846195Z",
     "start_time": "2022-05-04T22:13:38.583145Z"
    }
   },
   "outputs": [
    {
     "data": {
      "text/plain": [
       "<matplotlib.image.AxesImage at 0x2709bcb0910>"
      ]
     },
     "execution_count": 146,
     "metadata": {},
     "output_type": "execute_result"
    },
    {
     "data": {
      "image/png": "[encoded data removed]",
      "text/plain": [
       "<Figure size 432x288 with 1 Axes>"
      ]
     },
     "metadata": {
      "needs_background": "light"
     },
     "output_type": "display_data"
    }
   ],
   "source": [
    " plt.imshow(RGB_new, aspect='auto')"
   ]
  },
  {
   "cell_type": "code",
   "execution_count": null,
   "id": "c023c44b",
   "metadata": {},
   "outputs": [],
   "source": []
  }
 ],
 "metadata": {
  "kernelspec": {
   "display_name": "Python (learn-env)",
   "language": "python",
   "name": "learn-env"
  },
  "language_info": {
   "codemirror_mode": {
    "name": "ipython",
    "version": 3
   },
   "file_extension": ".py",
   "mimetype": "text/x-python",
   "name": "python",
   "nbconvert_exporter": "python",
   "pygments_lexer": "ipython3",
   "version": "3.8.5"
  },
  "toc": {
   "base_numbering": 1,
   "nav_menu": {},
   "number_sections": true,
   "sideBar": true,
   "skip_h1_title": false,
   "title_cell": "Table of Contents",
   "title_sidebar": "Contents",
   "toc_cell": false,
   "toc_position": {},
   "toc_section_display": true,
   "toc_window_display": false
  },
  "varInspector": {
   "cols": {
    "lenName": 16,
    "lenType": 16,
    "lenVar": 40
   },
   "kernels_config": {
    "python": {
     "delete_cmd_postfix": "",
     "delete_cmd_prefix": "del ",
     "library": "var_list.py",
     "varRefreshCmd": "print(var_dic_list())"
    },
    "r": {
     "delete_cmd_postfix": ") ",
     "delete_cmd_prefix": "rm(",
     "library": "var_list.r",
     "varRefreshCmd": "cat(var_dic_list()) "
    }
   },
   "types_to_exclude": [
    "module",
    "function",
    "builtin_function_or_method",
    "instance",
    "_Feature"
   ],
   "window_display": false
  }
 },
 "nbformat": 4,
 "nbformat_minor": 5
}
