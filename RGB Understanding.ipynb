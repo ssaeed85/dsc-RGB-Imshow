{
 "cells": [
  {
   "cell_type": "markdown",
   "id": "fa4d8e2f",
   "metadata": {},
   "source": [
    "# Imports"
   ]
  },
  {
   "cell_type": "code",
   "execution_count": 1,
   "id": "59ff1b5a",
   "metadata": {
    "ExecuteTime": {
     "end_time": "2022-05-05T05:15:31.595493Z",
     "start_time": "2022-05-05T05:15:31.347762Z"
    }
   },
   "outputs": [],
   "source": [
    "import matplotlib.pyplot as plt\n",
    "import numpy as np"
   ]
  },
  {
   "cell_type": "markdown",
   "id": "b734f430",
   "metadata": {},
   "source": [
    "Lets start with grayscale"
   ]
  },
  {
   "cell_type": "markdown",
   "id": "75661333",
   "metadata": {},
   "source": [
    "### Imshow basics"
   ]
  },
  {
   "cell_type": "code",
   "execution_count": 2,
   "id": "1a280715",
   "metadata": {
    "ExecuteTime": {
     "end_time": "2022-05-05T05:15:31.755027Z",
     "start_time": "2022-05-05T05:15:31.596496Z"
    },
    "scrolled": true
   },
   "outputs": [
    {
     "data": {
      "text/plain": [
       "<matplotlib.image.AxesImage at 0x1e6ca014370>"
      ]
     },
     "execution_count": 2,
     "metadata": {},
     "output_type": "execute_result"
    },
    {
     "data": {
      "image/png": "[encoded data removed]",
      "text/plain": [
       "<Figure size 432x288 with 1 Axes>"
      ]
     },
     "metadata": {
      "needs_background": "light"
     },
     "output_type": "display_data"
    }
   ],
   "source": [
    "# plt image show is a method that plots an image by looking at a 2-D matrix\n",
    "# lowest value in list is white, highest being black\n",
    "plt.imshow([[0,1]], cmap='Greys')"
   ]
  },
  {
   "cell_type": "code",
   "execution_count": 3,
   "id": "da7d347d",
   "metadata": {
    "ExecuteTime": {
     "end_time": "2022-05-05T05:15:31.867052Z",
     "start_time": "2022-05-05T05:15:31.756028Z"
    },
    "scrolled": true
   },
   "outputs": [
    {
     "data": {
      "text/plain": [
       "<matplotlib.image.AxesImage at 0x1e6ca106430>"
      ]
     },
     "execution_count": 3,
     "metadata": {},
     "output_type": "execute_result"
    },
    {
     "data": {
      "image/png": "[encoded data removed]",
      "text/plain": [
       "<Figure size 432x288 with 1 Axes>"
      ]
     },
     "metadata": {
      "needs_background": "light"
     },
     "output_type": "display_data"
    }
   ],
   "source": [
    "# Note 0 does not mean white. it was just the lowest value. So for example\n",
    "plt.imshow([[-1,0]], cmap='Greys')"
   ]
  },
  {
   "cell_type": "markdown",
   "id": "a9031e7b",
   "metadata": {},
   "source": [
    "So what about 3 values?"
   ]
  },
  {
   "cell_type": "code",
   "execution_count": 4,
   "id": "96809185",
   "metadata": {
    "ExecuteTime": {
     "end_time": "2022-05-05T05:15:31.958073Z",
     "start_time": "2022-05-05T05:15:31.871053Z"
    },
    "scrolled": true
   },
   "outputs": [
    {
     "data": {
      "text/plain": [
       "<matplotlib.image.AxesImage at 0x1e6ca162760>"
      ]
     },
     "execution_count": 4,
     "metadata": {},
     "output_type": "execute_result"
    },
    {
     "data": {
      "image/png": "[encoded data removed]",
      "text/plain": [
       "<Figure size 432x288 with 1 Axes>"
      ]
     },
     "metadata": {
      "needs_background": "light"
     },
     "output_type": "display_data"
    }
   ],
   "source": [
    "plt.imshow([[-1,0,1]], cmap='Greys')"
   ]
  },
  {
   "cell_type": "markdown",
   "id": "2718ae65",
   "metadata": {},
   "source": [
    "Do you have to use greys?"
   ]
  },
  {
   "cell_type": "code",
   "execution_count": 5,
   "id": "8950a572",
   "metadata": {
    "ExecuteTime": {
     "end_time": "2022-05-05T05:15:32.053094Z",
     "start_time": "2022-05-05T05:15:31.959073Z"
    },
    "scrolled": false
   },
   "outputs": [
    {
     "data": {
      "text/plain": [
       "<matplotlib.image.AxesImage at 0x1e6ca1b5820>"
      ]
     },
     "execution_count": 5,
     "metadata": {},
     "output_type": "execute_result"
    },
    {
     "data": {
      "image/png": "[encoded data removed]",
      "text/plain": [
       "<Figure size 432x288 with 1 Axes>"
      ]
     },
     "metadata": {
      "needs_background": "light"
     },
     "output_type": "display_data"
    }
   ],
   "source": [
    "plt.imshow([[-1,0,1]], cmap='Blues')"
   ]
  },
  {
   "cell_type": "code",
   "execution_count": 6,
   "id": "2c56324c",
   "metadata": {
    "ExecuteTime": {
     "end_time": "2022-05-05T05:15:32.149115Z",
     "start_time": "2022-05-05T05:15:32.054095Z"
    }
   },
   "outputs": [
    {
     "data": {
      "text/plain": [
       "<matplotlib.image.AxesImage at 0x1e6ca2079d0>"
      ]
     },
     "execution_count": 6,
     "metadata": {},
     "output_type": "execute_result"
    },
    {
     "data": {
      "image/png": "[encoded data removed]",
      "text/plain": [
       "<Figure size 432x288 with 1 Axes>"
      ]
     },
     "metadata": {
      "needs_background": "light"
     },
     "output_type": "display_data"
    }
   ],
   "source": [
    "#Default color pallete. Python uses as distinct a color pallette\n",
    "plt.imshow([[-1,0,1]])"
   ]
  },
  {
   "cell_type": "markdown",
   "id": "0009a05f",
   "metadata": {},
   "source": [
    "As day to day images are concerned though, if we were to break images down on color spectrum we think of color/b&w pictures as a basic grouping. Its standard convention for single channel images to be displayed in grey, but any color map can be used. \n",
    "\n",
    "Depending upon the 'bitdepth', the more range of values in the data, and as you can imagine, more shades appear."
   ]
  },
  {
   "cell_type": "markdown",
   "id": "d607f826",
   "metadata": {
    "ExecuteTime": {
     "end_time": "2022-05-05T04:42:03.395639Z",
     "start_time": "2022-05-05T04:42:03.391638Z"
    }
   },
   "source": [
    "### bit-depth"
   ]
  },
  {
   "cell_type": "code",
   "execution_count": 7,
   "id": "078fe284",
   "metadata": {
    "ExecuteTime": {
     "end_time": "2022-05-05T05:15:32.245137Z",
     "start_time": "2022-05-05T05:15:32.151116Z"
    },
    "scrolled": false
   },
   "outputs": [
    {
     "data": {
      "text/plain": [
       "<matplotlib.image.AxesImage at 0x1e6ca2639d0>"
      ]
     },
     "execution_count": 7,
     "metadata": {},
     "output_type": "execute_result"
    },
    {
     "data": {
      "image/png": "[encoded data removed]",
      "text/plain": [
       "<Figure size 432x288 with 1 Axes>"
      ]
     },
     "metadata": {
      "needs_background": "light"
     },
     "output_type": "display_data"
    }
   ],
   "source": [
    "#1-bit\n",
    "plt.imshow([[0,1]], cmap='Greys')"
   ]
  },
  {
   "cell_type": "code",
   "execution_count": 8,
   "id": "aae13169",
   "metadata": {
    "ExecuteTime": {
     "end_time": "2022-05-05T05:15:32.338158Z",
     "start_time": "2022-05-05T05:15:32.246137Z"
    },
    "scrolled": false
   },
   "outputs": [
    {
     "data": {
      "text/plain": [
       "<matplotlib.image.AxesImage at 0x1e6ca2c8400>"
      ]
     },
     "execution_count": 8,
     "metadata": {},
     "output_type": "execute_result"
    },
    {
     "data": {
      "image/png": "[encoded data removed]",
      "text/plain": [
       "<Figure size 432x288 with 1 Axes>"
      ]
     },
     "metadata": {
      "needs_background": "light"
     },
     "output_type": "display_data"
    }
   ],
   "source": [
    "#2-bit\n",
    "plt.imshow([[0,1,2,3]], cmap='Greys')"
   ]
  },
  {
   "cell_type": "code",
   "execution_count": 9,
   "id": "4202e39b",
   "metadata": {
    "ExecuteTime": {
     "end_time": "2022-05-05T05:15:32.433179Z",
     "start_time": "2022-05-05T05:15:32.339158Z"
    },
    "scrolled": false
   },
   "outputs": [
    {
     "data": {
      "text/plain": [
       "<matplotlib.image.AxesImage at 0x1e6ca316d60>"
      ]
     },
     "execution_count": 9,
     "metadata": {},
     "output_type": "execute_result"
    },
    {
     "data": {
      "image/png": "[encoded data removed]",
      "text/plain": [
       "<Figure size 432x288 with 1 Axes>"
      ]
     },
     "metadata": {
      "needs_background": "light"
     },
     "output_type": "display_data"
    }
   ],
   "source": [
    "#3-bit\n",
    "plt.imshow([[0,1,2,3,4,5,6,7]], cmap='Greys')"
   ]
  },
  {
   "cell_type": "code",
   "execution_count": 10,
   "id": "ebb4ded9",
   "metadata": {
    "ExecuteTime": {
     "end_time": "2022-05-05T05:15:32.527495Z",
     "start_time": "2022-05-05T05:15:32.434179Z"
    },
    "scrolled": true
   },
   "outputs": [
    {
     "data": {
      "text/plain": [
       "<matplotlib.image.AxesImage at 0x1e6ca36e940>"
      ]
     },
     "execution_count": 10,
     "metadata": {},
     "output_type": "execute_result"
    },
    {
     "data": {
      "image/png": "[encoded data removed]",
      "text/plain": [
       "<Figure size 432x288 with 1 Axes>"
      ]
     },
     "metadata": {
      "needs_background": "light"
     },
     "output_type": "display_data"
    }
   ],
   "source": [
    "#4-bit (1byte)\n",
    "plt.imshow([[0,1,2,3,4,5,6,7,8,9,10,11,12,13,14,15]], cmap='Greys')"
   ]
  },
  {
   "cell_type": "markdown",
   "id": "5516122e",
   "metadata": {},
   "source": [
    "Everyday images are in general 8-bit, which is why you'll see values ranging from 0-255"
   ]
  },
  {
   "cell_type": "code",
   "execution_count": 11,
   "id": "f7d9d2a2",
   "metadata": {
    "ExecuteTime": {
     "end_time": "2022-05-05T05:15:32.543498Z",
     "start_time": "2022-05-05T05:15:32.528495Z"
    }
   },
   "outputs": [
    {
     "data": {
      "text/plain": [
       "array([  0,   1,   2,   3,   4,   5,   6,   7,   8,   9,  10,  11,  12,\n",
       "        13,  14,  15,  16,  17,  18,  19,  20,  21,  22,  23,  24,  25,\n",
       "        26,  27,  28,  29,  30,  31,  32,  33,  34,  35,  36,  37,  38,\n",
       "        39,  40,  41,  42,  43,  44,  45,  46,  47,  48,  49,  50,  51,\n",
       "        52,  53,  54,  55,  56,  57,  58,  59,  60,  61,  62,  63,  64,\n",
       "        65,  66,  67,  68,  69,  70,  71,  72,  73,  74,  75,  76,  77,\n",
       "        78,  79,  80,  81,  82,  83,  84,  85,  86,  87,  88,  89,  90,\n",
       "        91,  92,  93,  94,  95,  96,  97,  98,  99, 100, 101, 102, 103,\n",
       "       104, 105, 106, 107, 108, 109, 110, 111, 112, 113, 114, 115, 116,\n",
       "       117, 118, 119, 120, 121, 122, 123, 124, 125, 126, 127, 128, 129,\n",
       "       130, 131, 132, 133, 134, 135, 136, 137, 138, 139, 140, 141, 142,\n",
       "       143, 144, 145, 146, 147, 148, 149, 150, 151, 152, 153, 154, 155,\n",
       "       156, 157, 158, 159, 160, 161, 162, 163, 164, 165, 166, 167, 168,\n",
       "       169, 170, 171, 172, 173, 174, 175, 176, 177, 178, 179, 180, 181,\n",
       "       182, 183, 184, 185, 186, 187, 188, 189, 190, 191, 192, 193, 194,\n",
       "       195, 196, 197, 198, 199, 200, 201, 202, 203, 204, 205, 206, 207,\n",
       "       208, 209, 210, 211, 212, 213, 214, 215, 216, 217, 218, 219, 220,\n",
       "       221, 222, 223, 224, 225, 226, 227, 228, 229, 230, 231, 232, 233,\n",
       "       234, 235, 236, 237, 238, 239, 240, 241, 242, 243, 244, 245, 246,\n",
       "       247, 248, 249, 250, 251, 252, 253, 254, 255])"
      ]
     },
     "execution_count": 11,
     "metadata": {},
     "output_type": "execute_result"
    }
   ],
   "source": [
    "bit8_array = np.arange(0,256)\n",
    "bit8_array"
   ]
  },
  {
   "cell_type": "code",
   "execution_count": 12,
   "id": "71d50c80",
   "metadata": {
    "ExecuteTime": {
     "end_time": "2022-05-05T05:15:32.623490Z",
     "start_time": "2022-05-05T05:15:32.544499Z"
    },
    "scrolled": false
   },
   "outputs": [
    {
     "data": {
      "text/plain": [
       "<matplotlib.image.AxesImage at 0x1e6ca3cd340>"
      ]
     },
     "execution_count": 12,
     "metadata": {},
     "output_type": "execute_result"
    },
    {
     "data": {
      "image/png": "[encoded data removed]",
      "text/plain": [
       "<Figure size 432x288 with 1 Axes>"
      ]
     },
     "metadata": {
      "needs_background": "light"
     },
     "output_type": "display_data"
    }
   ],
   "source": [
    "#4-bit (1byte)\n",
    "plt.imshow([bit8_array], cmap='Greys')"
   ]
  },
  {
   "cell_type": "markdown",
   "id": "a6976fce",
   "metadata": {},
   "source": [
    "Imshow has a hard time displaying all of it on 1-D\n",
    "\n",
    "We can change the aspect ratio so we can better see the gradient. This does reshape the array, just stretches out the axis."
   ]
  },
  {
   "cell_type": "code",
   "execution_count": 13,
   "id": "1aed0ba6",
   "metadata": {
    "ExecuteTime": {
     "end_time": "2022-05-05T05:15:32.718512Z",
     "start_time": "2022-05-05T05:15:32.624491Z"
    },
    "scrolled": false
   },
   "outputs": [
    {
     "data": {
      "text/plain": [
       "<matplotlib.image.AxesImage at 0x1e6ca41e340>"
      ]
     },
     "execution_count": 13,
     "metadata": {},
     "output_type": "execute_result"
    },
    {
     "data": {
      "image/png": "[encoded data removed]",
      "text/plain": [
       "<Figure size 432x288 with 1 Axes>"
      ]
     },
     "metadata": {
      "needs_background": "light"
     },
     "output_type": "display_data"
    }
   ],
   "source": [
    "#4-bit (1byte)\n",
    "plt.imshow([bit8_array], cmap='Greys', aspect='auto')"
   ]
  },
  {
   "cell_type": "markdown",
   "id": "f6803332",
   "metadata": {},
   "source": [
    "Having just 1 'channel' of image information is like having just 2-D data information, like in the examples above\n"
   ]
  },
  {
   "cell_type": "markdown",
   "id": "a5f74e99",
   "metadata": {},
   "source": [
    "However, in RGB, you have 3 channels of information. So imagine a 3-D tensor. Yeah, 3-D information for a 2-D image.\n",
    "Each channel will contain information for each color, pixel by pixel. When combined give us the full color spectrum.\n",
    "\n",
    "\n",
    "\n",
    "So for a _8-bit_ RGB image\n",
    "\n",
    "__R channel__: an array of values 0-255 just showing red values\n",
    "\n",
    "__G channel__: an array of values 0-255 just showing green values\n",
    "\n",
    "__B channel__: an array of values 0-255 just showing blue values"
   ]
  },
  {
   "cell_type": "markdown",
   "id": "e7ec29df",
   "metadata": {},
   "source": [
    "### NOTE on color convention\n",
    "Even though imshow has so far been using the convention\n",
    "\n",
    "lowest_value:white\n",
    "\n",
    "highest_value:black\n",
    "\n",
    "When imshow is fed 3-D tensor it follows the standard RGB convention.\n",
    "\n",
    "\n",
    "__Standard convention for RGB images__\n",
    "\n",
    "0: minimum color\n",
    "\n",
    "255: maximum color (channel respective. eg: R channel, 255 max red)\n",
    "\n",
    "\n",
    "\n",
    "__Therefore, for RGB images__ \n",
    "\n",
    "black pixel is [0,0,0]\n",
    "\n",
    "white pixel is [255,255,255]\n",
    "\n",
    "red pixel is [255,0,0]\n",
    "\n",
    "green pixel is [0,255,0]\n",
    "\n",
    "blue pixel is [0,0,255]\n",
    "\n",
    "mid gray is [125,125,125]\n",
    "\n",
    "\n",
    "Every color in between is a combination of these primary colors (who wants to go back to middle school?)\n",
    "\n",
    "\n"
   ]
  },
  {
   "cell_type": "markdown",
   "id": "95a477e9",
   "metadata": {},
   "source": [
    "General convention of image dimensions when being used in imshow (and just about anywhere else), the first 2 are height x weight. An additional dimension is be used to show channels. Its confusing because in standard image dimension we talk width first (think 1920x1080)\n",
    "\n",
    "RGB has 3 channels, so an image would be height x width x 3\n",
    "Other conventions might have other dimensions.\n",
    "\n",
    "Lets startsimple.\\\n",
    "Lets create a 4bit RGB image"
   ]
  },
  {
   "cell_type": "code",
   "execution_count": 14,
   "id": "11ed7fd3",
   "metadata": {
    "ExecuteTime": {
     "end_time": "2022-05-05T05:15:32.734515Z",
     "start_time": "2022-05-05T05:15:32.719513Z"
    },
    "scrolled": true
   },
   "outputs": [
    {
     "data": {
      "text/plain": [
       "(256,)"
      ]
     },
     "execution_count": 14,
     "metadata": {},
     "output_type": "execute_result"
    }
   ],
   "source": [
    "bit4_channel = np.arange(0,256)\n",
    "bit4_channel.shape"
   ]
  },
  {
   "cell_type": "code",
   "execution_count": 15,
   "id": "636386dc",
   "metadata": {
    "ExecuteTime": {
     "end_time": "2022-05-05T05:15:32.860544Z",
     "start_time": "2022-05-05T05:15:32.735517Z"
    }
   },
   "outputs": [
    {
     "data": {
      "text/plain": [
       "<matplotlib.image.AxesImage at 0x1e6ca191a00>"
      ]
     },
     "execution_count": 15,
     "metadata": {},
     "output_type": "execute_result"
    },
    {
     "data": {
      "image/png": "[encoded data removed]",
      "text/plain": [
       "<Figure size 432x288 with 1 Axes>"
      ]
     },
     "metadata": {
      "needs_background": "light"
     },
     "output_type": "display_data"
    }
   ],
   "source": [
    "#This is the same as before. This is a single channel of data\n",
    "plt.imshow([bit4_channel],cmap = 'Greys',aspect = 'auto')"
   ]
  },
  {
   "cell_type": "code",
   "execution_count": 16,
   "id": "70623b14",
   "metadata": {
    "ExecuteTime": {
     "end_time": "2022-05-05T05:15:32.876552Z",
     "start_time": "2022-05-05T05:15:32.861544Z"
    }
   },
   "outputs": [
    {
     "data": {
      "text/plain": [
       "(1, 256, 3)"
      ]
     },
     "execution_count": 16,
     "metadata": {},
     "output_type": "execute_result"
    }
   ],
   "source": [
    "#Now lets stack 3 of the same  channels together. \n",
    "#dstack is depth wise stacking. try vstack, hstack, and dstack and look at the resulting matrix and shape\n",
    "RGB = np.dstack([bit4_channel,bit4_channel,bit4_channel])\n",
    "RGB.shape"
   ]
  },
  {
   "cell_type": "markdown",
   "id": "562f9862",
   "metadata": {},
   "source": [
    "So, RGB here is \"3-D\", height: 1, width: 256, channels:3"
   ]
  },
  {
   "cell_type": "code",
   "execution_count": 17,
   "id": "4dba6eff",
   "metadata": {
    "ExecuteTime": {
     "end_time": "2022-05-05T05:15:32.970579Z",
     "start_time": "2022-05-05T05:15:32.879553Z"
    },
    "scrolled": false
   },
   "outputs": [
    {
     "data": {
      "text/plain": [
       "<matplotlib.image.AxesImage at 0x1e6ca3fa640>"
      ]
     },
     "execution_count": 17,
     "metadata": {},
     "output_type": "execute_result"
    },
    {
     "data": {
      "image/png": "[encoded data removed]",
      "text/plain": [
       "<Figure size 432x288 with 1 Axes>"
      ]
     },
     "metadata": {
      "needs_background": "light"
     },
     "output_type": "display_data"
    }
   ],
   "source": [
    "plt.imshow(RGB,aspect = 'auto')"
   ]
  },
  {
   "cell_type": "markdown",
   "id": "89a349bb",
   "metadata": {},
   "source": [
    "Ok... whats going on? Looks exactly the same, just flipped. Lets look at the left most point"
   ]
  },
  {
   "cell_type": "code",
   "execution_count": 18,
   "id": "3f573a42",
   "metadata": {
    "ExecuteTime": {
     "end_time": "2022-05-05T05:15:32.986582Z",
     "start_time": "2022-05-05T05:15:32.971579Z"
    }
   },
   "outputs": [
    {
     "data": {
      "text/plain": [
       "array([[0, 0, 0]])"
      ]
     },
     "execution_count": 18,
     "metadata": {},
     "output_type": "execute_result"
    }
   ],
   "source": [
    "RGB[:,0]"
   ]
  },
  {
   "cell_type": "markdown",
   "id": "75715348",
   "metadata": {},
   "source": [
    "R value: 0 (pure black)\\\n",
    "G value: 0 (pure black)\\\n",
    "B value: 0 (pure black)\\\n",
    "\n",
    "Result: pure black"
   ]
  },
  {
   "cell_type": "markdown",
   "id": "6713c2e5",
   "metadata": {},
   "source": [
    "Lets look at the midpoint."
   ]
  },
  {
   "cell_type": "code",
   "execution_count": 19,
   "id": "00fae066",
   "metadata": {
    "ExecuteTime": {
     "end_time": "2022-05-05T05:15:33.002586Z",
     "start_time": "2022-05-05T05:15:32.987584Z"
    }
   },
   "outputs": [
    {
     "data": {
      "text/plain": [
       "array([[125, 125, 125]])"
      ]
     },
     "execution_count": 19,
     "metadata": {},
     "output_type": "execute_result"
    }
   ],
   "source": [
    "RGB[:,125]"
   ]
  },
  {
   "cell_type": "markdown",
   "id": "674881eb",
   "metadata": {
    "ExecuteTime": {
     "end_time": "2022-05-04T17:49:36.194744Z",
     "start_time": "2022-05-04T17:49:36.184742Z"
    }
   },
   "source": [
    "Ok. 125 on all channels\n",
    "\n",
    "Perfectly Gray\n",
    "\n",
    "Ok. So that means, perfectly white, which is the right most edge will be..."
   ]
  },
  {
   "cell_type": "code",
   "execution_count": 20,
   "id": "dbc2c5ce",
   "metadata": {
    "ExecuteTime": {
     "end_time": "2022-05-05T05:15:33.018589Z",
     "start_time": "2022-05-05T05:15:33.003586Z"
    },
    "scrolled": false
   },
   "outputs": [
    {
     "data": {
      "text/plain": [
       "array([255, 255, 255])"
      ]
     },
     "execution_count": 20,
     "metadata": {},
     "output_type": "execute_result"
    }
   ],
   "source": [
    "RGB[0,255]"
   ]
  },
  {
   "cell_type": "markdown",
   "id": "614c073c",
   "metadata": {},
   "source": [
    "Also, note, no color map was passed but even if you did, it would make no difference"
   ]
  },
  {
   "cell_type": "code",
   "execution_count": 21,
   "id": "fff9b3fe",
   "metadata": {
    "ExecuteTime": {
     "end_time": "2022-05-05T05:15:33.112611Z",
     "start_time": "2022-05-05T05:15:33.019590Z"
    },
    "scrolled": true
   },
   "outputs": [
    {
     "data": {
      "text/plain": [
       "<matplotlib.image.AxesImage at 0x1e6cb4ce460>"
      ]
     },
     "execution_count": 21,
     "metadata": {},
     "output_type": "execute_result"
    },
    {
     "data": {
      "image/png": "[encoded data removed]",
      "text/plain": [
       "<Figure size 432x288 with 1 Axes>"
      ]
     },
     "metadata": {
      "needs_background": "light"
     },
     "output_type": "display_data"
    }
   ],
   "source": [
    "plt.imshow(RGB,cmap='Reds',aspect = 'auto')"
   ]
  },
  {
   "cell_type": "markdown",
   "id": "60f3c486",
   "metadata": {},
   "source": [
    "Essentially, if the 3 channel values for R,G,B are the same, the resulting pixel is on the gray scale."
   ]
  },
  {
   "cell_type": "markdown",
   "id": "3a2ee62d",
   "metadata": {},
   "source": [
    "## Total random channels"
   ]
  },
  {
   "cell_type": "markdown",
   "id": "74a670a4",
   "metadata": {},
   "source": [
    "Lets randomize each channel\n",
    "\n",
    "We'll just create 1 x 256 x 3 array with random values from 0 to 255"
   ]
  },
  {
   "cell_type": "code",
   "execution_count": 22,
   "id": "3bcc0821",
   "metadata": {
    "ExecuteTime": {
     "end_time": "2022-05-05T05:15:33.204631Z",
     "start_time": "2022-05-05T05:15:33.113610Z"
    }
   },
   "outputs": [
    {
     "data": {
      "text/plain": [
       "<matplotlib.image.AxesImage at 0x1e6cb51c910>"
      ]
     },
     "execution_count": 22,
     "metadata": {},
     "output_type": "execute_result"
    },
    {
     "data": {
      "image/png": "[encoded data removed]",
      "text/plain": [
       "<Figure size 432x288 with 1 Axes>"
      ]
     },
     "metadata": {
      "needs_background": "light"
     },
     "output_type": "display_data"
    }
   ],
   "source": [
    "random_RGB = np.random.randint(low=0,high=255,size=(1,256,3))\n",
    "plt.imshow(random_RGB,aspect='auto')"
   ]
  },
  {
   "cell_type": "markdown",
   "id": "10e9f1a4",
   "metadata": {},
   "source": [
    "Ok... not as pretty as I was hoping. But hopefully kind of gives an idea of how color is working in the background.\n",
    "\n",
    "Lets  delve  into it some more."
   ]
  },
  {
   "cell_type": "markdown",
   "id": "e8ea98ad",
   "metadata": {},
   "source": [
    "## Primary Color Gradients"
   ]
  },
  {
   "cell_type": "markdown",
   "id": "1ce91b2d",
   "metadata": {},
   "source": [
    "### Red Gradient"
   ]
  },
  {
   "cell_type": "markdown",
   "id": "29ee6bc5",
   "metadata": {
    "ExecuteTime": {
     "end_time": "2022-05-05T04:24:18.344593Z",
     "start_time": "2022-05-05T04:24:18.338592Z"
    }
   },
   "source": [
    "Lets create a red gradient followed by a green and a blue"
   ]
  },
  {
   "cell_type": "markdown",
   "id": "3eeee99a",
   "metadata": {},
   "source": [
    "Since a perfectly black pixel is [0,0,0] and a perfect red pixel is [255,0,0]. Then to get the red gradient you want the red channel to range from 0 to 255, while the remaining 2 channels remain at zeroes. in other words they don't add any of their respective color."
   ]
  },
  {
   "cell_type": "code",
   "execution_count": 23,
   "id": "c114f468",
   "metadata": {
    "ExecuteTime": {
     "end_time": "2022-05-05T05:15:33.220634Z",
     "start_time": "2022-05-05T05:15:33.207632Z"
    }
   },
   "outputs": [],
   "source": [
    "zeros_channel = np.zeros((1,256,1),dtype=int)"
   ]
  },
  {
   "cell_type": "code",
   "execution_count": 24,
   "id": "abb2840d",
   "metadata": {
    "ExecuteTime": {
     "end_time": "2022-05-05T05:15:33.236645Z",
     "start_time": "2022-05-05T05:15:33.222635Z"
    }
   },
   "outputs": [],
   "source": [
    "r_channel = np.arange(0,256)\n",
    "g_channel = zeros_channel\n",
    "b_channel = zeros_channel"
   ]
  },
  {
   "cell_type": "code",
   "execution_count": 25,
   "id": "56cdb237",
   "metadata": {
    "ExecuteTime": {
     "end_time": "2022-05-05T05:15:33.252648Z",
     "start_time": "2022-05-05T05:15:33.237646Z"
    }
   },
   "outputs": [
    {
     "data": {
      "text/plain": [
       "(1, 256, 3)"
      ]
     },
     "execution_count": 25,
     "metadata": {},
     "output_type": "execute_result"
    }
   ],
   "source": [
    "RGB = np.dstack([r_channel,g_channel,b_channel])\n",
    "RGB.shape"
   ]
  },
  {
   "cell_type": "code",
   "execution_count": 26,
   "id": "5b3b7388",
   "metadata": {
    "ExecuteTime": {
     "end_time": "2022-05-05T05:15:33.346669Z",
     "start_time": "2022-05-05T05:15:33.253648Z"
    },
    "scrolled": false
   },
   "outputs": [
    {
     "data": {
      "image/png": "[encoded data removed]",
      "text/plain": [
       "<Figure size 432x288 with 1 Axes>"
      ]
     },
     "metadata": {
      "needs_background": "light"
     },
     "output_type": "display_data"
    }
   ],
   "source": [
    " plt.imshow(RGB,aspect='auto');"
   ]
  },
  {
   "cell_type": "markdown",
   "id": "8d74c206",
   "metadata": {
    "ExecuteTime": {
     "end_time": "2022-05-04T23:05:38.876827Z",
     "start_time": "2022-05-04T23:05:38.869827Z"
    }
   },
   "source": [
    "### Green Gradient"
   ]
  },
  {
   "cell_type": "code",
   "execution_count": 27,
   "id": "f239a765",
   "metadata": {
    "ExecuteTime": {
     "end_time": "2022-05-05T05:15:33.362740Z",
     "start_time": "2022-05-05T05:15:33.347670Z"
    }
   },
   "outputs": [],
   "source": [
    "r_channel = np.zeros((1,256,1),dtype=int)\n",
    "g_channel = np.arange(0,256).reshape(1,256,1)\n",
    "b_channel = np.zeros((1,256,1),dtype=int)"
   ]
  },
  {
   "cell_type": "code",
   "execution_count": 28,
   "id": "cff5049f",
   "metadata": {
    "ExecuteTime": {
     "end_time": "2022-05-05T05:15:33.378746Z",
     "start_time": "2022-05-05T05:15:33.363740Z"
    }
   },
   "outputs": [
    {
     "data": {
      "text/plain": [
       "(1, 256, 3)"
      ]
     },
     "execution_count": 28,
     "metadata": {},
     "output_type": "execute_result"
    }
   ],
   "source": [
    "RGB = np.dstack([r_channel,g_channel,b_channel])\n",
    "RGB.shape"
   ]
  },
  {
   "cell_type": "code",
   "execution_count": 29,
   "id": "ddd9024f",
   "metadata": {
    "ExecuteTime": {
     "end_time": "2022-05-05T05:15:33.473566Z",
     "start_time": "2022-05-05T05:15:33.382747Z"
    },
    "scrolled": true
   },
   "outputs": [
    {
     "data": {
      "image/png": "[encoded data removed]",
      "text/plain": [
       "<Figure size 432x288 with 1 Axes>"
      ]
     },
     "metadata": {
      "needs_background": "light"
     },
     "output_type": "display_data"
    }
   ],
   "source": [
    " plt.imshow(RGB,aspect='auto');"
   ]
  },
  {
   "cell_type": "markdown",
   "id": "d7a93187",
   "metadata": {
    "ExecuteTime": {
     "end_time": "2022-05-04T23:05:38.876827Z",
     "start_time": "2022-05-04T23:05:38.869827Z"
    }
   },
   "source": [
    "### Blue Gradient"
   ]
  },
  {
   "cell_type": "code",
   "execution_count": 30,
   "id": "6e56406f",
   "metadata": {
    "ExecuteTime": {
     "end_time": "2022-05-05T05:15:33.488570Z",
     "start_time": "2022-05-05T05:15:33.474566Z"
    }
   },
   "outputs": [],
   "source": [
    "r_channel = zeros_channel\n",
    "g_channel = zeros_channel\n",
    "b_channel = np.arange(0,256)"
   ]
  },
  {
   "cell_type": "code",
   "execution_count": 31,
   "id": "5989362d",
   "metadata": {
    "ExecuteTime": {
     "end_time": "2022-05-05T05:15:33.504573Z",
     "start_time": "2022-05-05T05:15:33.489570Z"
    }
   },
   "outputs": [
    {
     "data": {
      "text/plain": [
       "(1, 256, 3)"
      ]
     },
     "execution_count": 31,
     "metadata": {},
     "output_type": "execute_result"
    }
   ],
   "source": [
    "RGB = np.dstack([r_channel,g_channel,b_channel])\n",
    "RGB.shape"
   ]
  },
  {
   "cell_type": "code",
   "execution_count": 32,
   "id": "5afb11bd",
   "metadata": {
    "ExecuteTime": {
     "end_time": "2022-05-05T05:15:33.599595Z",
     "start_time": "2022-05-05T05:15:33.505574Z"
    },
    "scrolled": false
   },
   "outputs": [
    {
     "data": {
      "image/png": "[encoded data removed]",
      "text/plain": [
       "<Figure size 432x288 with 1 Axes>"
      ]
     },
     "metadata": {
      "needs_background": "light"
     },
     "output_type": "display_data"
    }
   ],
   "source": [
    " plt.imshow(RGB,aspect='auto');"
   ]
  },
  {
   "cell_type": "markdown",
   "id": "e929831e",
   "metadata": {},
   "source": [
    "Easy enough. How about Yellow?"
   ]
  },
  {
   "cell_type": "markdown",
   "id": "d27932a7",
   "metadata": {
    "ExecuteTime": {
     "end_time": "2022-05-04T23:05:38.876827Z",
     "start_time": "2022-05-04T23:05:38.869827Z"
    }
   },
   "source": [
    "## Secondary color gradient"
   ]
  },
  {
   "cell_type": "markdown",
   "id": "1d396524",
   "metadata": {
    "ExecuteTime": {
     "end_time": "2022-05-04T23:05:38.876827Z",
     "start_time": "2022-05-04T23:05:38.869827Z"
    }
   },
   "source": [
    "### Yellow Gradient"
   ]
  },
  {
   "cell_type": "code",
   "execution_count": 33,
   "id": "12c80660",
   "metadata": {
    "ExecuteTime": {
     "end_time": "2022-05-05T05:15:33.615492Z",
     "start_time": "2022-05-05T05:15:33.600595Z"
    }
   },
   "outputs": [],
   "source": [
    "r_channel = np.arange(0,256)\n",
    "g_channel = np.arange(0,256)\n",
    "b_channel = zeros_channel"
   ]
  },
  {
   "cell_type": "code",
   "execution_count": 34,
   "id": "4d533511",
   "metadata": {
    "ExecuteTime": {
     "end_time": "2022-05-05T05:15:33.708523Z",
     "start_time": "2022-05-05T05:15:33.616491Z"
    },
    "scrolled": true
   },
   "outputs": [
    {
     "data": {
      "image/png": "[encoded data removed]",
      "text/plain": [
       "<Figure size 432x288 with 1 Axes>"
      ]
     },
     "metadata": {
      "needs_background": "light"
     },
     "output_type": "display_data"
    }
   ],
   "source": [
    " plt.imshow(np.dstack([r_channel,g_channel,b_channel])\n",
    "            ,aspect='auto');"
   ]
  },
  {
   "cell_type": "markdown",
   "id": "987836e5",
   "metadata": {
    "ExecuteTime": {
     "end_time": "2022-05-04T23:05:38.876827Z",
     "start_time": "2022-05-04T23:05:38.869827Z"
    }
   },
   "source": [
    "### Cyan Gradient"
   ]
  },
  {
   "cell_type": "code",
   "execution_count": 35,
   "id": "49abdc2e",
   "metadata": {
    "ExecuteTime": {
     "end_time": "2022-05-05T05:15:33.832878Z",
     "start_time": "2022-05-05T05:15:33.818323Z"
    }
   },
   "outputs": [],
   "source": [
    "r_channel = zeros_channel\n",
    "g_channel = np.arange(0,256)\n",
    "b_channel = np.arange(0,256)"
   ]
  },
  {
   "cell_type": "code",
   "execution_count": 36,
   "id": "ce4c950b",
   "metadata": {
    "ExecuteTime": {
     "end_time": "2022-05-05T05:15:33.817322Z",
     "start_time": "2022-05-05T05:15:33.725141Z"
    },
    "scrolled": true
   },
   "outputs": [
    {
     "data": {
      "image/png": "[encoded data removed]",
      "text/plain": [
       "<Figure size 432x288 with 1 Axes>"
      ]
     },
     "metadata": {
      "needs_background": "light"
     },
     "output_type": "display_data"
    }
   ],
   "source": [
    " plt.imshow(np.dstack([r_channel,g_channel,b_channel])\n",
    "            ,aspect='auto');"
   ]
  },
  {
   "cell_type": "markdown",
   "id": "714bfd33",
   "metadata": {
    "ExecuteTime": {
     "end_time": "2022-05-04T23:05:38.876827Z",
     "start_time": "2022-05-04T23:05:38.869827Z"
    }
   },
   "source": [
    "### Magenta Gradient"
   ]
  },
  {
   "cell_type": "code",
   "execution_count": 37,
   "id": "862f4d05",
   "metadata": {
    "ExecuteTime": {
     "end_time": "2022-05-05T05:15:33.832878Z",
     "start_time": "2022-05-05T05:15:33.818323Z"
    }
   },
   "outputs": [],
   "source": [
    "r_channel = np.arange(0,256)\n",
    "g_channel = zeros_channel\n",
    "b_channel = np.arange(0,256)"
   ]
  },
  {
   "cell_type": "code",
   "execution_count": 38,
   "id": "5e603660",
   "metadata": {
    "ExecuteTime": {
     "end_time": "2022-05-05T05:15:33.928899Z",
     "start_time": "2022-05-05T05:15:33.833879Z"
    },
    "scrolled": true
   },
   "outputs": [
    {
     "data": {
      "image/png": "[encoded data removed]",
      "text/plain": [
       "<Figure size 432x288 with 1 Axes>"
      ]
     },
     "metadata": {
      "needs_background": "light"
     },
     "output_type": "display_data"
    }
   ],
   "source": [
    " plt.imshow(np.dstack([r_channel,g_channel,b_channel])\n",
    "            ,aspect='auto');"
   ]
  },
  {
   "cell_type": "markdown",
   "id": "3448b7d1",
   "metadata": {},
   "source": [
    "## Complex color gradients"
   ]
  },
  {
   "cell_type": "markdown",
   "id": "b0970bee",
   "metadata": {},
   "source": [
    "### Faux full color spectrum"
   ]
  },
  {
   "cell_type": "code",
   "execution_count": 39,
   "id": "fedd014c",
   "metadata": {
    "ExecuteTime": {
     "end_time": "2022-05-05T05:15:38.792952Z",
     "start_time": "2022-05-05T05:15:38.781362Z"
    }
   },
   "outputs": [],
   "source": [
    "bit4_channel_R = np.arange(0, 256)\n",
    "bit4_channel_G = np.hstack([np.arange(0, 256), np.arange(255, -1, -1)])[::2]\n",
    "bit4_channel_B = np.hstack([\n",
    "    np.arange(0, 256, 1),\n",
    "    np.arange(255, -1, -1),\n",
    "    np.arange(0, 256, 1),\n",
    "    np.arange(255, -1, -1),\n",
    "]\n",
    ")[::4]"
   ]
  },
  {
   "cell_type": "markdown",
   "id": "385ddc02",
   "metadata": {},
   "source": [
    "Lets have a quick look as to what each one of these channels are doing"
   ]
  },
  {
   "cell_type": "code",
   "execution_count": 40,
   "id": "ba342a78",
   "metadata": {
    "ExecuteTime": {
     "end_time": "2022-05-05T05:15:40.835938Z",
     "start_time": "2022-05-05T05:15:40.739917Z"
    }
   },
   "outputs": [
    {
     "data": {
      "image/png": "[encoded data removed]",
      "text/plain": [
       "<Figure size 432x288 with 1 Axes>"
      ]
     },
     "metadata": {
      "needs_background": "light"
     },
     "output_type": "display_data"
    }
   ],
   "source": [
    "plt.imshow(np.dstack([bit4_channel_R,zeros_channel,zeros_channel])\n",
    "           ,aspect='auto');"
   ]
  },
  {
   "cell_type": "markdown",
   "id": "6124f807",
   "metadata": {},
   "source": [
    "Ok. The red channel holds a standard red gradient"
   ]
  },
  {
   "cell_type": "code",
   "execution_count": 41,
   "id": "a9820a72",
   "metadata": {
    "ExecuteTime": {
     "end_time": "2022-05-05T05:15:42.579525Z",
     "start_time": "2022-05-05T05:15:42.484494Z"
    }
   },
   "outputs": [
    {
     "data": {
      "image/png": "[encoded data removed]",
      "text/plain": [
       "<Figure size 432x288 with 1 Axes>"
      ]
     },
     "metadata": {
      "needs_background": "light"
     },
     "output_type": "display_data"
    }
   ],
   "source": [
    "plt.imshow(np.dstack([zeros_channel,bit4_channel_G,zeros_channel])\n",
    "           ,aspect='auto');"
   ]
  },
  {
   "cell_type": "markdown",
   "id": "caf818af",
   "metadata": {},
   "source": [
    "The green channel a 'folded'(?) green gradient"
   ]
  },
  {
   "cell_type": "code",
   "execution_count": 42,
   "id": "6bdd7b2b",
   "metadata": {
    "ExecuteTime": {
     "end_time": "2022-05-05T05:15:43.387393Z",
     "start_time": "2022-05-05T05:15:43.292400Z"
    }
   },
   "outputs": [
    {
     "data": {
      "image/png": "[encoded data removed]",
      "text/plain": [
       "<Figure size 432x288 with 1 Axes>"
      ]
     },
     "metadata": {
      "needs_background": "light"
     },
     "output_type": "display_data"
    }
   ],
   "source": [
    "plt.imshow(np.dstack([zeros_channel,zeros_channel,bit4_channel_B])\n",
    "           ,aspect='auto');"
   ]
  },
  {
   "cell_type": "markdown",
   "id": "c7c2818f",
   "metadata": {
    "ExecuteTime": {
     "end_time": "2022-05-05T04:39:01.906472Z",
     "start_time": "2022-05-05T04:39:01.888468Z"
    }
   },
   "source": [
    "The blue channel a 'bi-folded'(?) green gradient"
   ]
  },
  {
   "cell_type": "markdown",
   "id": "bb9dc34c",
   "metadata": {},
   "source": [
    "When plotted together, they give us"
   ]
  },
  {
   "cell_type": "code",
   "execution_count": 43,
   "id": "b20b0faf",
   "metadata": {
    "ExecuteTime": {
     "end_time": "2022-05-05T05:15:46.644974Z",
     "start_time": "2022-05-05T05:15:46.554955Z"
    }
   },
   "outputs": [
    {
     "data": {
      "image/png": "[encoded data removed]",
      "text/plain": [
       "<Figure size 432x288 with 1 Axes>"
      ]
     },
     "metadata": {
      "needs_background": "light"
     },
     "output_type": "display_data"
    }
   ],
   "source": [
    "plt.imshow(np.dstack([bit4_channel_R,bit4_channel_G,bit4_channel_B])\n",
    "           ,aspect='auto');"
   ]
  },
  {
   "cell_type": "markdown",
   "id": "a1a792bb",
   "metadata": {},
   "source": [
    "### Full 4bit color spectrum"
   ]
  },
  {
   "cell_type": "code",
   "execution_count": 198,
   "id": "4cdcdd7a",
   "metadata": {
    "ExecuteTime": {
     "end_time": "2022-05-05T06:13:24.325796Z",
     "start_time": "2022-05-05T06:13:24.310791Z"
    }
   },
   "outputs": [
    {
     "data": {
      "text/plain": [
       "((1, 256), (256, 1), (1, 256))"
      ]
     },
     "execution_count": 198,
     "metadata": {},
     "output_type": "execute_result"
    }
   ],
   "source": [
    "# bit4_channel_R = np.hstack([np.arange(0, 256), np.arange(255, -1, -1)])[::2].reshape(1,256)\n",
    "bit4_channel_R = np.arange(0, 256).reshape(1,256)\n",
    "# bit4_channel_G = np.hstack([np.arange(0, 256), np.arange(255, -1, -1)])[::2].reshape(256,1)\n",
    "bit4_channel_G = np.arange(0, 256).reshape(256,1)\n",
    "# bit4_channel_B = np.arange(0, 256).reshape(1,256)\n",
    "\n",
    "bit4_channel_R.shape, bit4_channel_G.shape, bit4_channel_B.shape"
   ]
  },
  {
   "cell_type": "code",
   "execution_count": 199,
   "id": "6034ae78",
   "metadata": {
    "ExecuteTime": {
     "end_time": "2022-05-05T06:13:24.917910Z",
     "start_time": "2022-05-05T06:13:24.909917Z"
    },
    "scrolled": true
   },
   "outputs": [
    {
     "data": {
      "text/plain": [
       "((256, 256), (256, 256))"
      ]
     },
     "execution_count": 199,
     "metadata": {},
     "output_type": "execute_result"
    }
   ],
   "source": [
    "bit4_channel_R_tiled = np.tile(bit4_channel_R,(256,1))\n",
    "bit4_channel_G_tiled = np.tile(bit4_channel_G,(1,256))\n",
    "bit4_channel_R_tiled.shape, bit4_channel_G_tiled.shape, "
   ]
  },
  {
   "cell_type": "code",
   "execution_count": 189,
   "id": "e27ab18a",
   "metadata": {
    "ExecuteTime": {
     "end_time": "2022-05-05T06:11:05.661398Z",
     "start_time": "2022-05-05T06:11:05.638402Z"
    },
    "scrolled": true
   },
   "outputs": [
    {
     "data": {
      "text/plain": [
       "((256, 256), (1, 256))"
      ]
     },
     "execution_count": 189,
     "metadata": {},
     "output_type": "execute_result"
    }
   ],
   "source": [
    "bit4_channel_B_tiled = np.zeros((256,256),dtype=int)\n",
    "center = np.array((127,127))\n",
    "side = bit4_channel_B_tiled.shape[0]\n",
    "for i in range(0,256):\n",
    "    for j in range(0,256):\n",
    "        if i+j> 255:\n",
    "            bit4_channel_B_tiled[i,j] =  255  - (i+j)%255\n",
    "        else:\n",
    "            bit4_channel_B_tiled[i,j] = i+j\n",
    "\n",
    "#         d = np.linalg.norm(np.array((i,j)) - center)    \n",
    "#         val = 255 - int((d / (256/2) *255))\n",
    "\n",
    "#         if val>0:\n",
    "#             bit4_channel_B_tiled[i,j] = val\n",
    "\n",
    "        \n",
    "bit4_channel_B_tiled.shape, newcolorLine.shape"
   ]
  },
  {
   "cell_type": "code",
   "execution_count": 180,
   "id": "57c8127e",
   "metadata": {
    "ExecuteTime": {
     "end_time": "2022-05-05T06:04:57.114601Z",
     "start_time": "2022-05-05T06:04:57.096597Z"
    }
   },
   "outputs": [
    {
     "data": {
      "text/plain": [
       "0"
      ]
     },
     "execution_count": 180,
     "metadata": {},
     "output_type": "execute_result"
    }
   ],
   "source": [
    "255 - int((128 / (256/2) *255))"
   ]
  },
  {
   "cell_type": "code",
   "execution_count": 152,
   "id": "5948da03",
   "metadata": {
    "ExecuteTime": {
     "end_time": "2022-05-05T05:46:51.896510Z",
     "start_time": "2022-05-05T05:46:51.887507Z"
    }
   },
   "outputs": [],
   "source": [
    "zero_tiled_channel = np.zeros((256,256),dtype=int)"
   ]
  },
  {
   "cell_type": "code",
   "execution_count": 153,
   "id": "45f62eed",
   "metadata": {
    "ExecuteTime": {
     "end_time": "2022-05-05T05:46:52.853131Z",
     "start_time": "2022-05-05T05:46:52.754104Z"
    }
   },
   "outputs": [
    {
     "data": {
      "image/png": "[encoded data removed]",
      "text/plain": [
       "<Figure size 432x288 with 1 Axes>"
      ]
     },
     "metadata": {
      "needs_background": "light"
     },
     "output_type": "display_data"
    }
   ],
   "source": [
    "plt.imshow(np.dstack([zero_tiled_channel,\n",
    "                      zero_tiled_channel,\n",
    "                      zero_tiled_channel])\n",
    "           ,aspect='auto');"
   ]
  },
  {
   "cell_type": "code",
   "execution_count": 193,
   "id": "427bc51a",
   "metadata": {
    "ExecuteTime": {
     "end_time": "2022-05-05T06:12:30.081737Z",
     "start_time": "2022-05-05T06:12:29.990717Z"
    }
   },
   "outputs": [
    {
     "data": {
      "image/png": "[encoded data removed]",
      "text/plain": [
       "<Figure size 432x288 with 1 Axes>"
      ]
     },
     "metadata": {
      "needs_background": "light"
     },
     "output_type": "display_data"
    }
   ],
   "source": [
    "plt.imshow(np.dstack([bit4_channel_R_tiled,\n",
    "                      zero_tiled_channel,\n",
    "                      zero_tiled_channel])\n",
    "           ,aspect='auto');"
   ]
  },
  {
   "cell_type": "code",
   "execution_count": 200,
   "id": "74cfca9e",
   "metadata": {
    "ExecuteTime": {
     "end_time": "2022-05-05T06:13:27.864591Z",
     "start_time": "2022-05-05T06:13:27.766545Z"
    }
   },
   "outputs": [
    {
     "data": {
      "image/png": "[encoded data removed]",
      "text/plain": [
       "<Figure size 432x288 with 1 Axes>"
      ]
     },
     "metadata": {
      "needs_background": "light"
     },
     "output_type": "display_data"
    }
   ],
   "source": [
    "plt.imshow(np.dstack([zero_tiled_channel,\n",
    "                      bit4_channel_G_tiled,\n",
    "                      zero_tiled_channel])\n",
    "           ,aspect='auto');"
   ]
  },
  {
   "cell_type": "code",
   "execution_count": 190,
   "id": "a1e2bbaf",
   "metadata": {
    "ExecuteTime": {
     "end_time": "2022-05-05T06:11:09.012853Z",
     "start_time": "2022-05-05T06:11:08.909959Z"
    }
   },
   "outputs": [
    {
     "data": {
      "image/png": "[encoded data removed]",
      "text/plain": [
       "<Figure size 432x288 with 1 Axes>"
      ]
     },
     "metadata": {
      "needs_background": "light"
     },
     "output_type": "display_data"
    }
   ],
   "source": [
    "plt.imshow(np.dstack([zero_tiled_channel,\n",
    "                      zero_tiled_channel,\n",
    "                      bit4_channel_B_tiled])\n",
    "           ,aspect='auto');"
   ]
  },
  {
   "cell_type": "code",
   "execution_count": 194,
   "id": "ce6e420e",
   "metadata": {
    "ExecuteTime": {
     "end_time": "2022-05-05T06:12:34.877715Z",
     "start_time": "2022-05-05T06:12:34.790112Z"
    }
   },
   "outputs": [
    {
     "data": {
      "image/png": "[encoded data removed]",
      "text/plain": [
       "<Figure size 432x288 with 1 Axes>"
      ]
     },
     "metadata": {
      "needs_background": "light"
     },
     "output_type": "display_data"
    }
   ],
   "source": [
    "plt.imshow(np.dstack([bit4_channel_R_tiled,\n",
    "                      bit4_channel_G_tiled,\n",
    "                      zero_tiled_channel])\n",
    "           ,aspect='auto');"
   ]
  },
  {
   "cell_type": "code",
   "execution_count": 195,
   "id": "4e001a12",
   "metadata": {
    "ExecuteTime": {
     "end_time": "2022-05-05T06:12:36.797885Z",
     "start_time": "2022-05-05T06:12:36.694688Z"
    }
   },
   "outputs": [
    {
     "data": {
      "image/png": "[encoded data removed]",
      "text/plain": [
       "<Figure size 432x288 with 1 Axes>"
      ]
     },
     "metadata": {
      "needs_background": "light"
     },
     "output_type": "display_data"
    }
   ],
   "source": [
    "plt.imshow(np.dstack([bit4_channel_R_tiled,\n",
    "                      zero_tiled_channel,\n",
    "                      bit4_channel_B_tiled])\n",
    "           ,aspect='auto');"
   ]
  },
  {
   "cell_type": "code",
   "execution_count": 196,
   "id": "d3b5216e",
   "metadata": {
    "ExecuteTime": {
     "end_time": "2022-05-05T06:12:38.344766Z",
     "start_time": "2022-05-05T06:12:38.239368Z"
    }
   },
   "outputs": [
    {
     "data": {
      "image/png": "[encoded data removed]",
      "text/plain": [
       "<Figure size 432x288 with 1 Axes>"
      ]
     },
     "metadata": {
      "needs_background": "light"
     },
     "output_type": "display_data"
    }
   ],
   "source": [
    "plt.imshow(np.dstack([zero_tiled_channel,\n",
    "                      bit4_channel_G_tiled,\n",
    "                      bit4_channel_B_tiled])\n",
    "           ,aspect='auto');"
   ]
  },
  {
   "cell_type": "code",
   "execution_count": 197,
   "id": "c756b36f",
   "metadata": {
    "ExecuteTime": {
     "end_time": "2022-05-05T06:12:40.069395Z",
     "start_time": "2022-05-05T06:12:39.973374Z"
    }
   },
   "outputs": [
    {
     "data": {
      "image/png": "[encoded data removed]",
      "text/plain": [
       "<Figure size 432x288 with 1 Axes>"
      ]
     },
     "metadata": {
      "needs_background": "light"
     },
     "output_type": "display_data"
    }
   ],
   "source": [
    "plt.imshow(np.dstack([bit4_channel_R_tiled,\n",
    "                      bit4_channel_G_tiled,\n",
    "                      bit4_channel_B_tiled])\n",
    "           ,aspect='auto');"
   ]
  },
  {
   "cell_type": "code",
   "execution_count": null,
   "id": "3eaadde8",
   "metadata": {},
   "outputs": [],
   "source": []
  }
 ],
 "metadata": {
  "kernelspec": {
   "display_name": "Python (learn-env)",
   "language": "python",
   "name": "learn-env"
  },
  "language_info": {
   "codemirror_mode": {
    "name": "ipython",
    "version": 3
   },
   "file_extension": ".py",
   "mimetype": "text/x-python",
   "name": "python",
   "nbconvert_exporter": "python",
   "pygments_lexer": "ipython3",
   "version": "3.8.5"
  },
  "toc": {
   "base_numbering": 1,
   "nav_menu": {},
   "number_sections": true,
   "sideBar": true,
   "skip_h1_title": false,
   "title_cell": "Table of Contents",
   "title_sidebar": "Contents",
   "toc_cell": false,
   "toc_position": {
    "height": "calc(100% - 180px)",
    "left": "10px",
    "top": "150px",
    "width": "273px"
   },
   "toc_section_display": true,
   "toc_window_display": true
  },
  "varInspector": {
   "cols": {
    "lenName": 16,
    "lenType": 16,
    "lenVar": 40
   },
   "kernels_config": {
    "python": {
     "delete_cmd_postfix": "",
     "delete_cmd_prefix": "del ",
     "library": "var_list.py",
     "varRefreshCmd": "print(var_dic_list())"
    },
    "r": {
     "delete_cmd_postfix": ") ",
     "delete_cmd_prefix": "rm(",
     "library": "var_list.r",
     "varRefreshCmd": "cat(var_dic_list()) "
    }
   },
   "types_to_exclude": [
    "module",
    "function",
    "builtin_function_or_method",
    "instance",
    "_Feature"
   ],
   "window_display": false
  }
 },
 "nbformat": 4,
 "nbformat_minor": 5
}
