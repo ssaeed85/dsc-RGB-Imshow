{
 "cells": [
  {
   "cell_type": "markdown",
   "id": "d4fbd992",
   "metadata": {},
   "source": [
    "# Basics"
   ]
  },
  {
   "cell_type": "code",
   "execution_count": 46,
   "id": "57063013",
   "metadata": {
    "ExecuteTime": {
     "end_time": "2022-05-04T16:55:05.552748Z",
     "start_time": "2022-05-04T16:55:05.550746Z"
    }
   },
   "outputs": [],
   "source": [
    "import matplotlib.pyplot as plt\n",
    "import numpy as np"
   ]
  },
  {
   "cell_type": "markdown",
   "id": "f5e7d50b",
   "metadata": {},
   "source": [
    "Lets start with grayscale"
   ]
  },
  {
   "cell_type": "code",
   "execution_count": null,
   "id": "e5cf7e6c",
   "metadata": {},
   "outputs": [],
   "source": [
    "This plots two pixels"
   ]
  },
  {
   "cell_type": "code",
   "execution_count": 8,
   "id": "6f46f152",
   "metadata": {
    "ExecuteTime": {
     "end_time": "2022-05-04T16:30:15.239707Z",
     "start_time": "2022-05-04T16:30:15.125365Z"
    }
   },
   "outputs": [
    {
     "data": {
      "text/plain": [
       "<matplotlib.image.AxesImage at 0x1817f6536d0>"
      ]
     },
     "execution_count": 8,
     "metadata": {},
     "output_type": "execute_result"
    },
    {
     "data": {
      "image/png": "[encoded data removed]",
      "text/plain": [
       "<Figure size 432x288 with 1 Axes>"
      ]
     },
     "metadata": {
      "needs_background": "light"
     },
     "output_type": "display_data"
    }
   ],
   "source": [
    "# plt image show is a method that plots an image by looking at a 2-D matrix\n",
    "# lowest value in list is white, highest being black\n",
    "plt.imshow([[0,1]], cmap='Greys')"
   ]
  },
  {
   "cell_type": "code",
   "execution_count": 11,
   "id": "4aea3587",
   "metadata": {
    "ExecuteTime": {
     "end_time": "2022-05-04T16:30:53.617370Z",
     "start_time": "2022-05-04T16:30:53.496337Z"
    },
    "scrolled": true
   },
   "outputs": [
    {
     "data": {
      "text/plain": [
       "<matplotlib.image.AxesImage at 0x1817f75b7c0>"
      ]
     },
     "execution_count": 11,
     "metadata": {},
     "output_type": "execute_result"
    },
    {
     "data": {
      "image/png": "[encoded data removed]",
      "text/plain": [
       "<Figure size 432x288 with 1 Axes>"
      ]
     },
     "metadata": {
      "needs_background": "light"
     },
     "output_type": "display_data"
    }
   ],
   "source": [
    "# Note 0 does not mean white. it was just the lowest value. So for example\n",
    "plt.imshow([[-1,0]], cmap='Greys')"
   ]
  },
  {
   "cell_type": "markdown",
   "id": "45d45bd0",
   "metadata": {},
   "source": [
    "So what about 3 values?"
   ]
  },
  {
   "cell_type": "code",
   "execution_count": 12,
   "id": "e82288e0",
   "metadata": {
    "ExecuteTime": {
     "end_time": "2022-05-04T16:31:03.275815Z",
     "start_time": "2022-05-04T16:31:03.144786Z"
    },
    "scrolled": true
   },
   "outputs": [
    {
     "data": {
      "text/plain": [
       "<matplotlib.image.AxesImage at 0x1817f7b62b0>"
      ]
     },
     "execution_count": 12,
     "metadata": {},
     "output_type": "execute_result"
    },
    {
     "data": {
      "image/png": "[encoded data removed]",
      "text/plain": [
       "<Figure size 432x288 with 1 Axes>"
      ]
     },
     "metadata": {
      "needs_background": "light"
     },
     "output_type": "display_data"
    }
   ],
   "source": [
    "plt.imshow([[-1,0,1]], cmap='Greys')"
   ]
  },
  {
   "cell_type": "markdown",
   "id": "7bf85df1",
   "metadata": {},
   "source": [
    "Do you have to use greys?"
   ]
  },
  {
   "cell_type": "code",
   "execution_count": 15,
   "id": "8696f989",
   "metadata": {
    "ExecuteTime": {
     "end_time": "2022-05-04T16:33:20.946366Z",
     "start_time": "2022-05-04T16:33:20.844339Z"
    },
    "scrolled": false
   },
   "outputs": [
    {
     "data": {
      "text/plain": [
       "<matplotlib.image.AxesImage at 0x1817f7cfd90>"
      ]
     },
     "execution_count": 15,
     "metadata": {},
     "output_type": "execute_result"
    },
    {
     "data": {
      "image/png": "[encoded data removed]",
      "text/plain": [
       "<Figure size 432x288 with 1 Axes>"
      ]
     },
     "metadata": {
      "needs_background": "light"
     },
     "output_type": "display_data"
    }
   ],
   "source": [
    "plt.imshow([[-1,0,1]], cmap='Blues')"
   ]
  },
  {
   "cell_type": "code",
   "execution_count": 98,
   "id": "7e200499",
   "metadata": {
    "ExecuteTime": {
     "end_time": "2022-05-04T17:38:51.681076Z",
     "start_time": "2022-05-04T17:38:51.587054Z"
    }
   },
   "outputs": [
    {
     "data": {
      "text/plain": [
       "<matplotlib.image.AxesImage at 0x18103ea92e0>"
      ]
     },
     "execution_count": 98,
     "metadata": {},
     "output_type": "execute_result"
    },
    {
     "data": {
      "image/png": "[encoded data removed]",
      "text/plain": [
       "<Figure size 432x288 with 1 Axes>"
      ]
     },
     "metadata": {
      "needs_background": "light"
     },
     "output_type": "display_data"
    }
   ],
   "source": [
    "plt.imshow([[-1,0,1]])"
   ]
  },
  {
   "cell_type": "markdown",
   "id": "5312d7f6",
   "metadata": {},
   "source": [
    "Its standard convention for single channel images to show in grey, but any color map can be used. Think about it, if we were to break an image down on color spectrum we think of color/b&w pictures.\n",
    "Depending upon the 'bitdepth', the more range of values in the data, and as you can imagine, more shades appear."
   ]
  },
  {
   "cell_type": "code",
   "execution_count": 21,
   "id": "69bd1253",
   "metadata": {
    "ExecuteTime": {
     "end_time": "2022-05-04T16:39:58.630291Z",
     "start_time": "2022-05-04T16:39:58.474930Z"
    },
    "scrolled": false
   },
   "outputs": [
    {
     "data": {
      "text/plain": [
       "<matplotlib.image.AxesImage at 0x1817fac6a30>"
      ]
     },
     "execution_count": 21,
     "metadata": {},
     "output_type": "execute_result"
    },
    {
     "data": {
      "image/png": "[encoded data removed]",
      "text/plain": [
       "<Figure size 432x288 with 1 Axes>"
      ]
     },
     "metadata": {
      "needs_background": "light"
     },
     "output_type": "display_data"
    }
   ],
   "source": [
    "#1-bit\n",
    "plt.imshow([[0,1]], cmap='Greys')"
   ]
  },
  {
   "cell_type": "code",
   "execution_count": 22,
   "id": "f5f81ac4",
   "metadata": {
    "ExecuteTime": {
     "end_time": "2022-05-04T16:39:58.738318Z",
     "start_time": "2022-05-04T16:39:58.631292Z"
    },
    "scrolled": false
   },
   "outputs": [
    {
     "data": {
      "text/plain": [
       "<matplotlib.image.AxesImage at 0x1817fb22490>"
      ]
     },
     "execution_count": 22,
     "metadata": {},
     "output_type": "execute_result"
    },
    {
     "data": {
      "image/png": "[encoded data removed]",
      "text/plain": [
       "<Figure size 432x288 with 1 Axes>"
      ]
     },
     "metadata": {
      "needs_background": "light"
     },
     "output_type": "display_data"
    }
   ],
   "source": [
    "#2-bit\n",
    "plt.imshow([[0,1,2,3]], cmap='Greys')"
   ]
  },
  {
   "cell_type": "code",
   "execution_count": 23,
   "id": "b3748f12",
   "metadata": {
    "ExecuteTime": {
     "end_time": "2022-05-04T16:39:59.021662Z",
     "start_time": "2022-05-04T16:39:58.766349Z"
    },
    "scrolled": false
   },
   "outputs": [
    {
     "data": {
      "text/plain": [
       "<matplotlib.image.AxesImage at 0x1817fb7f130>"
      ]
     },
     "execution_count": 23,
     "metadata": {},
     "output_type": "execute_result"
    },
    {
     "data": {
      "image/png": "[encoded data removed]",
      "text/plain": [
       "<Figure size 432x288 with 1 Axes>"
      ]
     },
     "metadata": {
      "needs_background": "light"
     },
     "output_type": "display_data"
    }
   ],
   "source": [
    "#3-bit\n",
    "plt.imshow([[0,1,2,3,4,5,6,7,8]], cmap='Greys')"
   ]
  },
  {
   "cell_type": "code",
   "execution_count": 24,
   "id": "5d89520b",
   "metadata": {
    "ExecuteTime": {
     "end_time": "2022-05-04T16:40:18.791009Z",
     "start_time": "2022-05-04T16:40:18.664972Z"
    },
    "scrolled": true
   },
   "outputs": [
    {
     "data": {
      "text/plain": [
       "<matplotlib.image.AxesImage at 0x1817fbcae80>"
      ]
     },
     "execution_count": 24,
     "metadata": {},
     "output_type": "execute_result"
    },
    {
     "data": {
      "image/png": "[encoded data removed]",
      "text/plain": [
       "<Figure size 432x288 with 1 Axes>"
      ]
     },
     "metadata": {
      "needs_background": "light"
     },
     "output_type": "display_data"
    }
   ],
   "source": [
    "#4-bit (1byte)\n",
    "plt.imshow([[0,1,2,3,4,5,6,7,8,9,10,11,12,13,14,15]], cmap='Greys')"
   ]
  },
  {
   "cell_type": "markdown",
   "id": "f9ae1f7a",
   "metadata": {},
   "source": [
    "Everyday images are in general 8-bit, which is why you'll see values ranging from 0-255"
   ]
  },
  {
   "cell_type": "code",
   "execution_count": 29,
   "id": "65cd9f4d",
   "metadata": {
    "ExecuteTime": {
     "end_time": "2022-05-04T16:43:55.803861Z",
     "start_time": "2022-05-04T16:43:55.794859Z"
    }
   },
   "outputs": [
    {
     "data": {
      "text/plain": [
       "array([  0,   1,   2,   3,   4,   5,   6,   7,   8,   9,  10,  11,  12,\n",
       "        13,  14,  15,  16,  17,  18,  19,  20,  21,  22,  23,  24,  25,\n",
       "        26,  27,  28,  29,  30,  31,  32,  33,  34,  35,  36,  37,  38,\n",
       "        39,  40,  41,  42,  43,  44,  45,  46,  47,  48,  49,  50,  51,\n",
       "        52,  53,  54,  55,  56,  57,  58,  59,  60,  61,  62,  63,  64,\n",
       "        65,  66,  67,  68,  69,  70,  71,  72,  73,  74,  75,  76,  77,\n",
       "        78,  79,  80,  81,  82,  83,  84,  85,  86,  87,  88,  89,  90,\n",
       "        91,  92,  93,  94,  95,  96,  97,  98,  99, 100, 101, 102, 103,\n",
       "       104, 105, 106, 107, 108, 109, 110, 111, 112, 113, 114, 115, 116,\n",
       "       117, 118, 119, 120, 121, 122, 123, 124, 125, 126, 127, 128, 129,\n",
       "       130, 131, 132, 133, 134, 135, 136, 137, 138, 139, 140, 141, 142,\n",
       "       143, 144, 145, 146, 147, 148, 149, 150, 151, 152, 153, 154, 155,\n",
       "       156, 157, 158, 159, 160, 161, 162, 163, 164, 165, 166, 167, 168,\n",
       "       169, 170, 171, 172, 173, 174, 175, 176, 177, 178, 179, 180, 181,\n",
       "       182, 183, 184, 185, 186, 187, 188, 189, 190, 191, 192, 193, 194,\n",
       "       195, 196, 197, 198, 199, 200, 201, 202, 203, 204, 205, 206, 207,\n",
       "       208, 209, 210, 211, 212, 213, 214, 215, 216, 217, 218, 219, 220,\n",
       "       221, 222, 223, 224, 225, 226, 227, 228, 229, 230, 231, 232, 233,\n",
       "       234, 235, 236, 237, 238, 239, 240, 241, 242, 243, 244, 245, 246,\n",
       "       247, 248, 249, 250, 251, 252, 253, 254, 255])"
      ]
     },
     "execution_count": 29,
     "metadata": {},
     "output_type": "execute_result"
    }
   ],
   "source": [
    "bit8_array = np.arange(0,256)\n",
    "bit8_array"
   ]
  },
  {
   "cell_type": "code",
   "execution_count": 31,
   "id": "cc797427",
   "metadata": {
    "ExecuteTime": {
     "end_time": "2022-05-04T16:44:05.454864Z",
     "start_time": "2022-05-04T16:44:05.374855Z"
    },
    "scrolled": true
   },
   "outputs": [
    {
     "data": {
      "text/plain": [
       "<matplotlib.image.AxesImage at 0x1817fbb4100>"
      ]
     },
     "execution_count": 31,
     "metadata": {},
     "output_type": "execute_result"
    },
    {
     "data": {
      "image/png": "[encoded data removed]",
      "text/plain": [
       "<Figure size 432x288 with 1 Axes>"
      ]
     },
     "metadata": {
      "needs_background": "light"
     },
     "output_type": "display_data"
    }
   ],
   "source": [
    "#4-bit (1byte)\n",
    "plt.imshow([bit8_array], cmap='Greys')"
   ]
  },
  {
   "cell_type": "markdown",
   "id": "c9e9c6a8",
   "metadata": {},
   "source": [
    "We've been using a 1-D array so far (that we pass as a 2-D matrix). Lets split this up."
   ]
  },
  {
   "cell_type": "code",
   "execution_count": 33,
   "id": "47ad9d07",
   "metadata": {
    "ExecuteTime": {
     "end_time": "2022-05-04T16:46:18.015484Z",
     "start_time": "2022-05-04T16:46:18.006482Z"
    }
   },
   "outputs": [
    {
     "data": {
      "text/plain": [
       "(256,)"
      ]
     },
     "execution_count": 33,
     "metadata": {},
     "output_type": "execute_result"
    }
   ],
   "source": [
    "bit8_array.shape"
   ]
  },
  {
   "cell_type": "code",
   "execution_count": 34,
   "id": "17aad960",
   "metadata": {
    "ExecuteTime": {
     "end_time": "2022-05-04T16:46:34.895471Z",
     "start_time": "2022-05-04T16:46:34.887470Z"
    },
    "scrolled": false
   },
   "outputs": [
    {
     "data": {
      "text/plain": [
       "array([[  0,   1,   2,   3,   4,   5,   6,   7,   8,   9,  10,  11,  12,\n",
       "         13,  14,  15],\n",
       "       [ 16,  17,  18,  19,  20,  21,  22,  23,  24,  25,  26,  27,  28,\n",
       "         29,  30,  31],\n",
       "       [ 32,  33,  34,  35,  36,  37,  38,  39,  40,  41,  42,  43,  44,\n",
       "         45,  46,  47],\n",
       "       [ 48,  49,  50,  51,  52,  53,  54,  55,  56,  57,  58,  59,  60,\n",
       "         61,  62,  63],\n",
       "       [ 64,  65,  66,  67,  68,  69,  70,  71,  72,  73,  74,  75,  76,\n",
       "         77,  78,  79],\n",
       "       [ 80,  81,  82,  83,  84,  85,  86,  87,  88,  89,  90,  91,  92,\n",
       "         93,  94,  95],\n",
       "       [ 96,  97,  98,  99, 100, 101, 102, 103, 104, 105, 106, 107, 108,\n",
       "        109, 110, 111],\n",
       "       [112, 113, 114, 115, 116, 117, 118, 119, 120, 121, 122, 123, 124,\n",
       "        125, 126, 127],\n",
       "       [128, 129, 130, 131, 132, 133, 134, 135, 136, 137, 138, 139, 140,\n",
       "        141, 142, 143],\n",
       "       [144, 145, 146, 147, 148, 149, 150, 151, 152, 153, 154, 155, 156,\n",
       "        157, 158, 159],\n",
       "       [160, 161, 162, 163, 164, 165, 166, 167, 168, 169, 170, 171, 172,\n",
       "        173, 174, 175],\n",
       "       [176, 177, 178, 179, 180, 181, 182, 183, 184, 185, 186, 187, 188,\n",
       "        189, 190, 191],\n",
       "       [192, 193, 194, 195, 196, 197, 198, 199, 200, 201, 202, 203, 204,\n",
       "        205, 206, 207],\n",
       "       [208, 209, 210, 211, 212, 213, 214, 215, 216, 217, 218, 219, 220,\n",
       "        221, 222, 223],\n",
       "       [224, 225, 226, 227, 228, 229, 230, 231, 232, 233, 234, 235, 236,\n",
       "        237, 238, 239],\n",
       "       [240, 241, 242, 243, 244, 245, 246, 247, 248, 249, 250, 251, 252,\n",
       "        253, 254, 255]])"
      ]
     },
     "execution_count": 34,
     "metadata": {},
     "output_type": "execute_result"
    }
   ],
   "source": [
    "bit8_array.reshape(16,16)"
   ]
  },
  {
   "cell_type": "markdown",
   "id": "9524facd",
   "metadata": {},
   "source": [
    "Note that this is already a 2-D matrix. "
   ]
  },
  {
   "cell_type": "code",
   "execution_count": 84,
   "id": "9cb5405e",
   "metadata": {
    "ExecuteTime": {
     "end_time": "2022-05-04T17:21:01.073001Z",
     "start_time": "2022-05-04T17:21:00.955953Z"
    },
    "scrolled": false
   },
   "outputs": [
    {
     "name": "stdout",
     "output_type": "stream",
     "text": [
      "whitest spot value: 0\n",
      "blackest spot value: 255\n"
     ]
    },
    {
     "data": {
      "image/png": "[encoded data removed]",
      "text/plain": [
       "<Figure size 432x288 with 1 Axes>"
      ]
     },
     "metadata": {
      "needs_background": "light"
     },
     "output_type": "display_data"
    }
   ],
   "source": [
    "#4-bit (1byte)\n",
    "bit8_greyimage = bit8_array.reshape(16,16)\n",
    "plt.imshow(bit8_greyimage, cmap='Greys')\n",
    "print('whitest spot value:',bit8_greyimage[0,0])\n",
    "print('blackest spot value:',bit8_greyimage[15,15])"
   ]
  },
  {
   "cell_type": "markdown",
   "id": "03ec94d9",
   "metadata": {},
   "source": [
    "Having just 1 'channel' of image information is like having just 2-D data information, like in the examples above\n"
   ]
  },
  {
   "cell_type": "markdown",
   "id": "8a5cfa1c",
   "metadata": {},
   "source": [
    "However, in RGB, you have 3 channels of information. So imagine a 3-D tensor. Yeah, 3-D information for a 2-D image.\n",
    "Each channel will contain information for each color.\n",
    "\n",
    "So for a 8-bit RGB image\\\n",
    "R channel: an array of values 0-255 just showing red values\\\n",
    "G channel: an array of values 0-255 just showing green values\\\n",
    "B channel: an array of values 0-255 just showing blue values"
   ]
  },
  {
   "cell_type": "markdown",
   "id": "b6cba6c8",
   "metadata": {},
   "source": [
    "### NOTE: \n",
    "Even though imshow has so far been using \\\n",
    "lowest_value:white\\\n",
    "highest_value:black\n",
    "\n",
    "Standard convention for RGB images\n",
    "0:black\\\n",
    "255: maximum color (channel respective. eg: R channel, 255 max red)\n",
    "\n",
    "Therefore, for RGB images\\\n",
    "black pixel is [0,0,0]\\\n",
    "white pixel is [255,255,255]\\\n",
    "red pixel is [255,0,0]\\\n",
    "green pixel is [0,255,0]\\\n",
    "blue pixel is [0,0,255]\\\n",
    "mid gray is [125,125,125]\n"
   ]
  },
  {
   "cell_type": "markdown",
   "id": "5bc2aa58",
   "metadata": {},
   "source": [
    "General convention of image dimensions when being used in imshow (and just about anywhere else), the first 2 are width x height (Think 1920x1080)\n",
    "3rd implies channels.\n",
    "\n",
    "Lets startsimple.\\\n",
    "Lets create an 3bit RGB image"
   ]
  },
  {
   "cell_type": "code",
   "execution_count": 109,
   "id": "1e6c0cfb",
   "metadata": {
    "ExecuteTime": {
     "end_time": "2022-05-04T17:43:28.497467Z",
     "start_time": "2022-05-04T17:43:28.482462Z"
    }
   },
   "outputs": [
    {
     "data": {
      "text/plain": [
       "(16, 16, 3)"
      ]
     },
     "execution_count": 109,
     "metadata": {},
     "output_type": "execute_result"
    }
   ],
   "source": [
    "bit4_channel = np.arange(0,256)\n",
    "RGB = np.hstack([[bit4_channel,bit4_channel,bit4_channel]]).reshape(16,16,3)\n",
    "RGB.shape"
   ]
  },
  {
   "cell_type": "code",
   "execution_count": 110,
   "id": "da6008ec",
   "metadata": {
    "ExecuteTime": {
     "end_time": "2022-05-04T17:43:29.494269Z",
     "start_time": "2022-05-04T17:43:29.385245Z"
    },
    "scrolled": false
   },
   "outputs": [
    {
     "data": {
      "text/plain": [
       "<matplotlib.image.AxesImage at 0x181049e0100>"
      ]
     },
     "execution_count": 110,
     "metadata": {},
     "output_type": "execute_result"
    },
    {
     "data": {
      "image/png": "[encoded data removed]",
      "text/plain": [
       "<Figure size 432x288 with 1 Axes>"
      ]
     },
     "metadata": {
      "needs_background": "light"
     },
     "output_type": "display_data"
    }
   ],
   "source": [
    "plt.imshow(RGB,cmap='Greys')"
   ]
  },
  {
   "cell_type": "markdown",
   "id": "9411ad66",
   "metadata": {},
   "source": [
    "Ok... whats going on? Lets look at 0,0. Top left black spot"
   ]
  },
  {
   "cell_type": "code",
   "execution_count": 111,
   "id": "66382a10",
   "metadata": {
    "ExecuteTime": {
     "end_time": "2022-05-04T17:44:25.556230Z",
     "start_time": "2022-05-04T17:44:25.552230Z"
    }
   },
   "outputs": [
    {
     "data": {
      "text/plain": [
       "array([0, 1, 2])"
      ]
     },
     "execution_count": 111,
     "metadata": {},
     "output_type": "execute_result"
    }
   ],
   "source": [
    "RGB[0,0]"
   ]
  },
  {
   "cell_type": "markdown",
   "id": "2a770681",
   "metadata": {},
   "source": [
    "R value: 0 (pure black)\\\n",
    "G value: 1 (almost pure black)\\\n",
    "B value: 2 (slightly less pure black)\n",
    "\n",
    "Result: almost pure black"
   ]
  },
  {
   "cell_type": "markdown",
   "id": "7f229673",
   "metadata": {},
   "source": [
    "Lets look at 5,5. Red pixel"
   ]
  },
  {
   "cell_type": "code",
   "execution_count": 113,
   "id": "6f9e4251",
   "metadata": {
    "ExecuteTime": {
     "end_time": "2022-05-04T17:49:13.507666Z",
     "start_time": "2022-05-04T17:49:13.495663Z"
    }
   },
   "outputs": [
    {
     "data": {
      "text/plain": [
       "array([255,   0,   1])"
      ]
     },
     "execution_count": 113,
     "metadata": {},
     "output_type": "execute_result"
    }
   ],
   "source": [
    "RGB[5,5]"
   ]
  },
  {
   "cell_type": "markdown",
   "id": "60656993",
   "metadata": {
    "ExecuteTime": {
     "end_time": "2022-05-04T17:49:36.194744Z",
     "start_time": "2022-05-04T17:49:36.184742Z"
    }
   },
   "source": [
    "Ok. Maxed out R channel and almost zero on G and B channel\n",
    "\n",
    "How about the yellow pixel"
   ]
  },
  {
   "cell_type": "code",
   "execution_count": 115,
   "id": "a6f17ead",
   "metadata": {
    "ExecuteTime": {
     "end_time": "2022-05-04T17:49:56.017484Z",
     "start_time": "2022-05-04T17:49:55.999479Z"
    }
   },
   "outputs": [
    {
     "data": {
      "text/plain": [
       "array([254, 255,   0])"
      ]
     },
     "execution_count": 115,
     "metadata": {},
     "output_type": "execute_result"
    }
   ],
   "source": [
    "RGB[10,10]"
   ]
  },
  {
   "cell_type": "markdown",
   "id": "e6611ee0",
   "metadata": {
    "ExecuteTime": {
     "end_time": "2022-05-04T17:50:32.531540Z",
     "start_time": "2022-05-04T17:50:32.520537Z"
    }
   },
   "source": [
    "Ok... so the way we joined the 3 arrays was not quite what we wanted.\n",
    "\n",
    "So lets try a different array"
   ]
  },
  {
   "cell_type": "code",
   "execution_count": 182,
   "id": "5dab9c12",
   "metadata": {
    "ExecuteTime": {
     "end_time": "2022-05-04T18:30:43.507563Z",
     "start_time": "2022-05-04T18:30:43.495581Z"
    }
   },
   "outputs": [
    {
     "data": {
      "text/plain": [
       "(16, 16, 3)"
      ]
     },
     "execution_count": 182,
     "metadata": {},
     "output_type": "execute_result"
    }
   ],
   "source": [
    "bit4_channel = np.arange(0,256).reshape(16,16)\n",
    "RGB = np.dstack([bit4_channel,bit4_channel,bit4_channel])\n",
    "RGB.shape"
   ]
  },
  {
   "cell_type": "code",
   "execution_count": 186,
   "id": "daadb712",
   "metadata": {
    "ExecuteTime": {
     "end_time": "2022-05-04T18:31:35.381114Z",
     "start_time": "2022-05-04T18:31:35.070037Z"
    },
    "scrolled": true
   },
   "outputs": [
    {
     "data": {
      "text/plain": [
       "<matplotlib.image.AxesImage at 0x18103f0c2b0>"
      ]
     },
     "execution_count": 186,
     "metadata": {},
     "output_type": "execute_result"
    },
    {
     "data": {
      "image/png": "[encoded data removed]",
      "text/plain": [
       "<Figure size 432x288 with 1 Axes>"
      ]
     },
     "metadata": {
      "needs_background": "light"
     },
     "output_type": "display_data"
    }
   ],
   "source": [
    "plt.imshow(RGB)"
   ]
  },
  {
   "cell_type": "markdown",
   "id": "a33e36f4",
   "metadata": {
    "ExecuteTime": {
     "end_time": "2022-05-04T18:31:56.346280Z",
     "start_time": "2022-05-04T18:31:56.333284Z"
    }
   },
   "source": [
    "Hmmm... wait this makes sense"
   ]
  },
  {
   "cell_type": "code",
   "execution_count": 212,
   "id": "f0d06c74",
   "metadata": {
    "ExecuteTime": {
     "end_time": "2022-05-04T18:42:33.278443Z",
     "start_time": "2022-05-04T18:42:33.264434Z"
    },
    "scrolled": true
   },
   "outputs": [
    {
     "name": "stdout",
     "output_type": "stream",
     "text": [
      "TopLeft:    [0 0 0]\t  = Pure Black\n",
      "TopRight:   [240 240 240]\n",
      "BottomRight:[127 127 127] = Mid Grey\n",
      "BottomLeft: [15 15 15]\n",
      "BottomRight:[255 255 255] = Pure White\n"
     ]
    }
   ],
   "source": [
    "print(f'TopLeft:    {RGB[0,0]}\\t  = Pure Black')\n",
    "print(f'TopRight:   {RGB[15,0]}')\n",
    "print(f'BottomRight:{RGB[7,15]} = Mid Grey')\n",
    "print(f'BottomLeft: {RGB[0,15]}')\n",
    "print(f'BottomRight:{RGB[15,15]} = Pure White')"
   ]
  },
  {
   "cell_type": "markdown",
   "id": "209d1fed",
   "metadata": {},
   "source": [
    "Lets randomize each channel"
   ]
  },
  {
   "cell_type": "code",
   "execution_count": 132,
   "id": "9109ef2e",
   "metadata": {
    "ExecuteTime": {
     "end_time": "2022-05-04T17:55:10.572752Z",
     "start_time": "2022-05-04T17:55:10.562751Z"
    }
   },
   "outputs": [],
   "source": [
    "random_RGB = np.random.randint(low=0,high=255,size=(16,16,3))"
   ]
  },
  {
   "cell_type": "code",
   "execution_count": 127,
   "id": "c40588ba",
   "metadata": {
    "ExecuteTime": {
     "end_time": "2022-05-04T17:53:29.502528Z",
     "start_time": "2022-05-04T17:53:29.383502Z"
    },
    "scrolled": false
   },
   "outputs": [
    {
     "data": {
      "text/plain": [
       "<matplotlib.image.AxesImage at 0x18104aad100>"
      ]
     },
     "execution_count": 127,
     "metadata": {},
     "output_type": "execute_result"
    },
    {
     "data": {
      "image/png": "[encoded data removed]",
      "text/plain": [
       "<Figure size 432x288 with 1 Axes>"
      ]
     },
     "metadata": {
      "needs_background": "light"
     },
     "output_type": "display_data"
    }
   ],
   "source": [
    "plt.imshow(random_RGB)"
   ]
  },
  {
   "cell_type": "markdown",
   "id": "1c63bc21",
   "metadata": {},
   "source": [
    "Ok... not as pretty as I was hoping"
   ]
  },
  {
   "cell_type": "code",
   "execution_count": 128,
   "id": "cc7f023a",
   "metadata": {
    "ExecuteTime": {
     "end_time": "2022-05-04T17:54:24.779818Z",
     "start_time": "2022-05-04T17:54:24.758789Z"
    }
   },
   "outputs": [
    {
     "data": {
      "text/plain": [
       "(16, 16, 3)"
      ]
     },
     "execution_count": 128,
     "metadata": {},
     "output_type": "execute_result"
    }
   ],
   "source": [
    "random_RGB.shape"
   ]
  },
  {
   "cell_type": "code",
   "execution_count": 276,
   "id": "6be52cb8",
   "metadata": {
    "ExecuteTime": {
     "end_time": "2022-05-04T20:22:02.153746Z",
     "start_time": "2022-05-04T20:22:02.131741Z"
    },
    "scrolled": true
   },
   "outputs": [],
   "source": [
    "bit4_channel_R = np.arange(0,256,1).reshape(16,16)\n",
    "bit4_channel_G = np.hstack([np.arange(0,256,1),np.arange(255,-1,-1)])[::2].reshape(16,16)\n",
    "\n",
    "bit4_channel_B = np.hstack([np.arange(0,256,1),\n",
    "                            np.arange(255,-1,-1),\n",
    "                           np.arange(0,256,1)])[::3].reshape(16,16)"
   ]
  },
  {
   "cell_type": "code",
   "execution_count": 272,
   "id": "8113433a",
   "metadata": {
    "ExecuteTime": {
     "end_time": "2022-05-04T19:25:23.744022Z",
     "start_time": "2022-05-04T19:25:23.737026Z"
    }
   },
   "outputs": [
    {
     "data": {
      "text/plain": [
       "((16, 16), (16, 16), (16, 16))"
      ]
     },
     "execution_count": 272,
     "metadata": {},
     "output_type": "execute_result"
    }
   ],
   "source": [
    "bit4_channel_R.shape, bit4_channel_G.shape, bit4_channel_B.shape"
   ]
  },
  {
   "cell_type": "code",
   "execution_count": 291,
   "id": "b3075a74",
   "metadata": {
    "ExecuteTime": {
     "end_time": "2022-05-04T21:07:03.125911Z",
     "start_time": "2022-05-04T21:07:02.997163Z"
    }
   },
   "outputs": [
    {
     "data": {
      "text/plain": [
       "<matplotlib.image.AxesImage at 0x18106381fa0>"
      ]
     },
     "execution_count": 291,
     "metadata": {},
     "output_type": "execute_result"
    },
    {
     "data": {
      "image/png": "[encoded data removed]",
      "text/plain": [
       "<Figure size 432x288 with 1 Axes>"
      ]
     },
     "metadata": {
      "needs_background": "light"
     },
     "output_type": "display_data"
    }
   ],
   "source": [
    " plt.imshow(bit4_channel_R,'Reds',)"
   ]
  },
  {
   "cell_type": "code",
   "execution_count": 293,
   "id": "7486865c",
   "metadata": {
    "ExecuteTime": {
     "end_time": "2022-05-04T21:07:15.006640Z",
     "start_time": "2022-05-04T21:07:14.892615Z"
    }
   },
   "outputs": [
    {
     "data": {
      "text/plain": [
       "<matplotlib.image.AxesImage at 0x181063f8ca0>"
      ]
     },
     "execution_count": 293,
     "metadata": {},
     "output_type": "execute_result"
    },
    {
     "data": {
      "image/png": "[encoded data removed]",
      "text/plain": [
       "<Figure size 432x288 with 1 Axes>"
      ]
     },
     "metadata": {
      "needs_background": "light"
     },
     "output_type": "display_data"
    }
   ],
   "source": [
    " plt.imshow(bit4_channel_G,'Greens',)"
   ]
  },
  {
   "cell_type": "code",
   "execution_count": 294,
   "id": "835802b3",
   "metadata": {
    "ExecuteTime": {
     "end_time": "2022-05-04T21:07:25.451709Z",
     "start_time": "2022-05-04T21:07:25.330681Z"
    },
    "scrolled": true
   },
   "outputs": [
    {
     "data": {
      "text/plain": [
       "<matplotlib.image.AxesImage at 0x18106844a30>"
      ]
     },
     "execution_count": 294,
     "metadata": {},
     "output_type": "execute_result"
    },
    {
     "data": {
      "image/png": "[encoded data removed]",
      "text/plain": [
       "<Figure size 432x288 with 1 Axes>"
      ]
     },
     "metadata": {
      "needs_background": "light"
     },
     "output_type": "display_data"
    }
   ],
   "source": [
    " plt.imshow(bit4_channel_B,'Blues',)"
   ]
  },
  {
   "cell_type": "code",
   "execution_count": 296,
   "id": "c039005e",
   "metadata": {
    "ExecuteTime": {
     "end_time": "2022-05-04T21:08:19.057325Z",
     "start_time": "2022-05-04T21:08:19.044361Z"
    },
    "scrolled": true
   },
   "outputs": [
    {
     "data": {
      "text/plain": [
       "(16, 16, 3)"
      ]
     },
     "execution_count": 296,
     "metadata": {},
     "output_type": "execute_result"
    }
   ],
   "source": [
    "RGB_new = np.dstack([bit4_channel_R,\n",
    "                  bit4_channel_G,\n",
    "                  bit4_channel_B])\n",
    "RGB_new.shape"
   ]
  },
  {
   "cell_type": "code",
   "execution_count": 298,
   "id": "e52e64cc",
   "metadata": {
    "ExecuteTime": {
     "end_time": "2022-05-04T21:08:40.822196Z",
     "start_time": "2022-05-04T21:08:40.702166Z"
    }
   },
   "outputs": [
    {
     "data": {
      "text/plain": [
       "<matplotlib.image.AxesImage at 0x181066940a0>"
      ]
     },
     "execution_count": 298,
     "metadata": {},
     "output_type": "execute_result"
    },
    {
     "data": {
      "image/png": "[encoded data removed]",
      "text/plain": [
       "<Figure size 432x288 with 1 Axes>"
      ]
     },
     "metadata": {
      "needs_background": "light"
     },
     "output_type": "display_data"
    }
   ],
   "source": [
    " plt.imshow(RGB_new)"
   ]
  },
  {
   "cell_type": "code",
   "execution_count": 302,
   "id": "27e2e1d8",
   "metadata": {
    "ExecuteTime": {
     "end_time": "2022-05-04T21:09:24.187103Z",
     "start_time": "2022-05-04T21:09:24.173099Z"
    }
   },
   "outputs": [
    {
     "data": {
      "text/plain": [
       "(16, 16, 3)"
      ]
     },
     "execution_count": 302,
     "metadata": {},
     "output_type": "execute_result"
    }
   ],
   "source": [
    "RGB_new.shape"
   ]
  },
  {
   "cell_type": "markdown",
   "id": "8102782e",
   "metadata": {},
   "source": [
    "Pretty. Lets look at a few points"
   ]
  },
  {
   "cell_type": "code",
   "execution_count": 299,
   "id": "5bc29678",
   "metadata": {
    "ExecuteTime": {
     "end_time": "2022-05-04T21:08:44.807170Z",
     "start_time": "2022-05-04T21:08:44.795167Z"
    }
   },
   "outputs": [
    {
     "name": "stdout",
     "output_type": "stream",
     "text": [
      "TopLeft: [0 0 0]\n",
      "TopRight: [240  31 208]\n",
      "BottomLeft: [15 30 45]\n",
      "BottomRight: [255   1 253]\n"
     ]
    }
   ],
   "source": [
    "print(f'TopLeft: {RGB_new[0,0]}')\n",
    "print(f'TopRight: {RGB_new[15,0]}')\n",
    "print(f'BottomLeft: {RGB_new[0,15]}')\n",
    "print(f'BottomRight: {RGB_new[15,15]}')"
   ]
  },
  {
   "cell_type": "code",
   "execution_count": 290,
   "id": "68509371",
   "metadata": {
    "ExecuteTime": {
     "end_time": "2022-05-04T21:05:22.493060Z",
     "start_time": "2022-05-04T21:05:22.489061Z"
    }
   },
   "outputs": [],
   "source": [
    "bit4_channel_R = np.arange(0,256,1).reshape(16,16)"
   ]
  },
  {
   "cell_type": "code",
   "execution_count": null,
   "id": "09d881f0",
   "metadata": {},
   "outputs": [],
   "source": []
  }
 ],
 "metadata": {
  "kernelspec": {
   "display_name": "Python (learn-env)",
   "language": "python",
   "name": "learn-env"
  },
  "language_info": {
   "codemirror_mode": {
    "name": "ipython",
    "version": 3
   },
   "file_extension": ".py",
   "mimetype": "text/x-python",
   "name": "python",
   "nbconvert_exporter": "python",
   "pygments_lexer": "ipython3",
   "version": "3.8.5"
  },
  "toc": {
   "base_numbering": 1,
   "nav_menu": {},
   "number_sections": true,
   "sideBar": true,
   "skip_h1_title": false,
   "title_cell": "Table of Contents",
   "title_sidebar": "Contents",
   "toc_cell": false,
   "toc_position": {},
   "toc_section_display": true,
   "toc_window_display": false
  },
  "varInspector": {
   "cols": {
    "lenName": 16,
    "lenType": 16,
    "lenVar": 40
   },
   "kernels_config": {
    "python": {
     "delete_cmd_postfix": "",
     "delete_cmd_prefix": "del ",
     "library": "var_list.py",
     "varRefreshCmd": "print(var_dic_list())"
    },
    "r": {
     "delete_cmd_postfix": ") ",
     "delete_cmd_prefix": "rm(",
     "library": "var_list.r",
     "varRefreshCmd": "cat(var_dic_list()) "
    }
   },
   "types_to_exclude": [
    "module",
    "function",
    "builtin_function_or_method",
    "instance",
    "_Feature"
   ],
   "window_display": false
  }
 },
 "nbformat": 4,
 "nbformat_minor": 5
}
